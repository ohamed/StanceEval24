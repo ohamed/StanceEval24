{
  "cells": [
    {
      "cell_type": "markdown",
      "metadata": {
        "id": "view-in-github",
        "colab_type": "text"
      },
      "source": [
        "<a href=\"https://colab.research.google.com/github/ohamed/StanceEval24/blob/main/Multi_Class_Classification_StanceEval.ipynb\" target=\"_parent\"><img src=\"https://colab.research.google.com/assets/colab-badge.svg\" alt=\"Open In Colab\"/></a>"
      ]
    },
    {
      "cell_type": "markdown",
      "metadata": {
        "id": "K8rPS5-aTUys"
      },
      "source": [
        "## FineTuning BERT for Multi-Class Classification with Mawqif dataset.\n",
        "\n",
        "-"
      ]
    },
    {
      "cell_type": "code",
      "source": [
        "from google.colab import drive\n",
        "drive.mount('/content/drive')"
      ],
      "metadata": {
        "id": "mrVeLjDsVIWc",
        "colab": {
          "base_uri": "https://localhost:8080/"
        },
        "outputId": "819239b5-2a55-4d68-c247-5f324a6a47f9"
      },
      "execution_count": 1,
      "outputs": [
        {
          "output_type": "stream",
          "name": "stdout",
          "text": [
            "Mounted at /content/drive\n"
          ]
        }
      ]
    },
    {
      "cell_type": "code",
      "execution_count": 2,
      "metadata": {
        "id": "vouKRQbmRU6F"
      },
      "outputs": [],
      "source": [
        "#!pip install transformers datasets"
      ]
    },
    {
      "cell_type": "code",
      "source": [
        "!pip install transformers[torch] accelerate -U"
      ],
      "metadata": {
        "id": "crFdceO5ei5Q",
        "colab": {
          "base_uri": "https://localhost:8080/"
        },
        "outputId": "50c7c972-23f7-43c0-e133-197a3998f3f5"
      },
      "execution_count": 3,
      "outputs": [
        {
          "output_type": "stream",
          "name": "stdout",
          "text": [
            "Requirement already satisfied: transformers[torch] in /usr/local/lib/python3.10/dist-packages (4.40.2)\n",
            "Collecting transformers[torch]\n",
            "  Downloading transformers-4.41.0-py3-none-any.whl (9.1 MB)\n",
            "\u001b[2K     \u001b[90m━━━━━━━━━━━━━━━━━━━━━━━━━━━━━━━━━━━━━━━━\u001b[0m \u001b[32m9.1/9.1 MB\u001b[0m \u001b[31m24.0 MB/s\u001b[0m eta \u001b[36m0:00:00\u001b[0m\n",
            "\u001b[?25hCollecting accelerate\n",
            "  Downloading accelerate-0.30.1-py3-none-any.whl (302 kB)\n",
            "\u001b[2K     \u001b[90m━━━━━━━━━━━━━━━━━━━━━━━━━━━━━━━━━━━━━━━━\u001b[0m \u001b[32m302.6/302.6 kB\u001b[0m \u001b[31m38.5 MB/s\u001b[0m eta \u001b[36m0:00:00\u001b[0m\n",
            "\u001b[?25hRequirement already satisfied: filelock in /usr/local/lib/python3.10/dist-packages (from transformers[torch]) (3.14.0)\n",
            "Collecting huggingface-hub<1.0,>=0.23.0 (from transformers[torch])\n",
            "  Downloading huggingface_hub-0.23.0-py3-none-any.whl (401 kB)\n",
            "\u001b[2K     \u001b[90m━━━━━━━━━━━━━━━━━━━━━━━━━━━━━━━━━━━━━━━━\u001b[0m \u001b[32m401.2/401.2 kB\u001b[0m \u001b[31m49.9 MB/s\u001b[0m eta \u001b[36m0:00:00\u001b[0m\n",
            "\u001b[?25hRequirement already satisfied: numpy>=1.17 in /usr/local/lib/python3.10/dist-packages (from transformers[torch]) (1.25.2)\n",
            "Requirement already satisfied: packaging>=20.0 in /usr/local/lib/python3.10/dist-packages (from transformers[torch]) (24.0)\n",
            "Requirement already satisfied: pyyaml>=5.1 in /usr/local/lib/python3.10/dist-packages (from transformers[torch]) (6.0.1)\n",
            "Requirement already satisfied: regex!=2019.12.17 in /usr/local/lib/python3.10/dist-packages (from transformers[torch]) (2023.12.25)\n",
            "Requirement already satisfied: requests in /usr/local/lib/python3.10/dist-packages (from transformers[torch]) (2.31.0)\n",
            "Requirement already satisfied: tokenizers<0.20,>=0.19 in /usr/local/lib/python3.10/dist-packages (from transformers[torch]) (0.19.1)\n",
            "Requirement already satisfied: safetensors>=0.4.1 in /usr/local/lib/python3.10/dist-packages (from transformers[torch]) (0.4.3)\n",
            "Requirement already satisfied: tqdm>=4.27 in /usr/local/lib/python3.10/dist-packages (from transformers[torch]) (4.66.4)\n",
            "Requirement already satisfied: torch in /usr/local/lib/python3.10/dist-packages (from transformers[torch]) (2.2.1+cu121)\n",
            "Requirement already satisfied: psutil in /usr/local/lib/python3.10/dist-packages (from accelerate) (5.9.5)\n",
            "Requirement already satisfied: fsspec>=2023.5.0 in /usr/local/lib/python3.10/dist-packages (from huggingface-hub<1.0,>=0.23.0->transformers[torch]) (2023.6.0)\n",
            "Requirement already satisfied: typing-extensions>=3.7.4.3 in /usr/local/lib/python3.10/dist-packages (from huggingface-hub<1.0,>=0.23.0->transformers[torch]) (4.11.0)\n",
            "Requirement already satisfied: sympy in /usr/local/lib/python3.10/dist-packages (from torch->transformers[torch]) (1.12)\n",
            "Requirement already satisfied: networkx in /usr/local/lib/python3.10/dist-packages (from torch->transformers[torch]) (3.3)\n",
            "Requirement already satisfied: jinja2 in /usr/local/lib/python3.10/dist-packages (from torch->transformers[torch]) (3.1.4)\n",
            "Collecting nvidia-cuda-nvrtc-cu12==12.1.105 (from torch->transformers[torch])\n",
            "  Using cached nvidia_cuda_nvrtc_cu12-12.1.105-py3-none-manylinux1_x86_64.whl (23.7 MB)\n",
            "Collecting nvidia-cuda-runtime-cu12==12.1.105 (from torch->transformers[torch])\n",
            "  Using cached nvidia_cuda_runtime_cu12-12.1.105-py3-none-manylinux1_x86_64.whl (823 kB)\n",
            "Collecting nvidia-cuda-cupti-cu12==12.1.105 (from torch->transformers[torch])\n",
            "  Using cached nvidia_cuda_cupti_cu12-12.1.105-py3-none-manylinux1_x86_64.whl (14.1 MB)\n",
            "Collecting nvidia-cudnn-cu12==8.9.2.26 (from torch->transformers[torch])\n",
            "  Using cached nvidia_cudnn_cu12-8.9.2.26-py3-none-manylinux1_x86_64.whl (731.7 MB)\n",
            "Collecting nvidia-cublas-cu12==12.1.3.1 (from torch->transformers[torch])\n",
            "  Using cached nvidia_cublas_cu12-12.1.3.1-py3-none-manylinux1_x86_64.whl (410.6 MB)\n",
            "Collecting nvidia-cufft-cu12==11.0.2.54 (from torch->transformers[torch])\n",
            "  Using cached nvidia_cufft_cu12-11.0.2.54-py3-none-manylinux1_x86_64.whl (121.6 MB)\n",
            "Collecting nvidia-curand-cu12==10.3.2.106 (from torch->transformers[torch])\n",
            "  Using cached nvidia_curand_cu12-10.3.2.106-py3-none-manylinux1_x86_64.whl (56.5 MB)\n",
            "Collecting nvidia-cusolver-cu12==11.4.5.107 (from torch->transformers[torch])\n",
            "  Using cached nvidia_cusolver_cu12-11.4.5.107-py3-none-manylinux1_x86_64.whl (124.2 MB)\n",
            "Collecting nvidia-cusparse-cu12==12.1.0.106 (from torch->transformers[torch])\n",
            "  Using cached nvidia_cusparse_cu12-12.1.0.106-py3-none-manylinux1_x86_64.whl (196.0 MB)\n",
            "Collecting nvidia-nccl-cu12==2.19.3 (from torch->transformers[torch])\n",
            "  Using cached nvidia_nccl_cu12-2.19.3-py3-none-manylinux1_x86_64.whl (166.0 MB)\n",
            "Collecting nvidia-nvtx-cu12==12.1.105 (from torch->transformers[torch])\n",
            "  Using cached nvidia_nvtx_cu12-12.1.105-py3-none-manylinux1_x86_64.whl (99 kB)\n",
            "Requirement already satisfied: triton==2.2.0 in /usr/local/lib/python3.10/dist-packages (from torch->transformers[torch]) (2.2.0)\n",
            "Collecting nvidia-nvjitlink-cu12 (from nvidia-cusolver-cu12==11.4.5.107->torch->transformers[torch])\n",
            "  Using cached nvidia_nvjitlink_cu12-12.4.127-py3-none-manylinux2014_x86_64.whl (21.1 MB)\n",
            "Requirement already satisfied: charset-normalizer<4,>=2 in /usr/local/lib/python3.10/dist-packages (from requests->transformers[torch]) (3.3.2)\n",
            "Requirement already satisfied: idna<4,>=2.5 in /usr/local/lib/python3.10/dist-packages (from requests->transformers[torch]) (3.7)\n",
            "Requirement already satisfied: urllib3<3,>=1.21.1 in /usr/local/lib/python3.10/dist-packages (from requests->transformers[torch]) (2.0.7)\n",
            "Requirement already satisfied: certifi>=2017.4.17 in /usr/local/lib/python3.10/dist-packages (from requests->transformers[torch]) (2024.2.2)\n",
            "Requirement already satisfied: MarkupSafe>=2.0 in /usr/local/lib/python3.10/dist-packages (from jinja2->torch->transformers[torch]) (2.1.5)\n",
            "Requirement already satisfied: mpmath>=0.19 in /usr/local/lib/python3.10/dist-packages (from sympy->torch->transformers[torch]) (1.3.0)\n",
            "Installing collected packages: nvidia-nvtx-cu12, nvidia-nvjitlink-cu12, nvidia-nccl-cu12, nvidia-curand-cu12, nvidia-cufft-cu12, nvidia-cuda-runtime-cu12, nvidia-cuda-nvrtc-cu12, nvidia-cuda-cupti-cu12, nvidia-cublas-cu12, nvidia-cusparse-cu12, nvidia-cudnn-cu12, huggingface-hub, nvidia-cusolver-cu12, transformers, accelerate\n",
            "  Attempting uninstall: huggingface-hub\n",
            "    Found existing installation: huggingface-hub 0.20.3\n",
            "    Uninstalling huggingface-hub-0.20.3:\n",
            "      Successfully uninstalled huggingface-hub-0.20.3\n",
            "  Attempting uninstall: transformers\n",
            "    Found existing installation: transformers 4.40.2\n",
            "    Uninstalling transformers-4.40.2:\n",
            "      Successfully uninstalled transformers-4.40.2\n",
            "Successfully installed accelerate-0.30.1 huggingface-hub-0.23.0 nvidia-cublas-cu12-12.1.3.1 nvidia-cuda-cupti-cu12-12.1.105 nvidia-cuda-nvrtc-cu12-12.1.105 nvidia-cuda-runtime-cu12-12.1.105 nvidia-cudnn-cu12-8.9.2.26 nvidia-cufft-cu12-11.0.2.54 nvidia-curand-cu12-10.3.2.106 nvidia-cusolver-cu12-11.4.5.107 nvidia-cusparse-cu12-12.1.0.106 nvidia-nccl-cu12-2.19.3 nvidia-nvjitlink-cu12-12.4.127 nvidia-nvtx-cu12-12.1.105 transformers-4.41.0\n"
          ]
        }
      ]
    },
    {
      "cell_type": "markdown",
      "source": [
        "This install might be enough!"
      ],
      "metadata": {
        "id": "qflEZGXGrpLv"
      }
    },
    {
      "cell_type": "code",
      "source": [
        "#!pip install accelerate -U"
      ],
      "metadata": {
        "id": "UgHD8-2teuEC"
      },
      "execution_count": 4,
      "outputs": []
    },
    {
      "cell_type": "code",
      "source": [
        "import pandas as pd"
      ],
      "metadata": {
        "id": "GSryMNXVIvPS"
      },
      "execution_count": 5,
      "outputs": []
    },
    {
      "cell_type": "code",
      "execution_count": 6,
      "metadata": {
        "id": "bixw-FrJ-6La"
      },
      "outputs": [],
      "source": [
        "import torch, os\n",
        "from transformers import pipeline, BertForSequenceClassification, BertTokenizerFast\n",
        "from torch.utils.data import Dataset"
      ]
    },
    {
      "cell_type": "code",
      "execution_count": 7,
      "metadata": {
        "id": "x9RjPCc76GjE",
        "colab": {
          "base_uri": "https://localhost:8080/",
          "height": 35
        },
        "outputId": "61321ca5-8775-4953-95bb-35cc7629a6f0"
      },
      "outputs": [
        {
          "output_type": "execute_result",
          "data": {
            "text/plain": [
              "'cuda'"
            ],
            "application/vnd.google.colaboratory.intrinsic+json": {
              "type": "string"
            }
          },
          "metadata": {},
          "execution_count": 7
        }
      ],
      "source": [
        "from torch import cuda\n",
        "device = 'cuda' if cuda.is_available() else 'cpu'\n",
        "device"
      ]
    },
    {
      "cell_type": "code",
      "source": [
        "ROOT_DIR = '/content/drive/MyDrive/Datasets/StanceEval24/' # If you have downloaded the data in local Machine"
      ],
      "metadata": {
        "id": "Fjdo-MggXBOn"
      },
      "execution_count": 8,
      "outputs": []
    },
    {
      "cell_type": "code",
      "execution_count": 20,
      "metadata": {
        "id": "XGvn9cWEtXcE",
        "colab": {
          "base_uri": "https://localhost:8080/",
          "height": 206
        },
        "outputId": "2468afa6-5c3a-4dfb-edc9-b3824f1eb0a3"
      },
      "outputs": [
        {
          "output_type": "execute_result",
          "data": {
            "text/plain": [
              "   Unnamed: 0  ID                                               text  \\\n",
              "0           0   1  عشان يلمع صورته ويعنني تمكين المراه ويصير ترند...   \n",
              "1           1   3  روح حلل محد يم تطعيم كورونا شف الحرم البارح مل...   \n",
              "2           2   4  يعرف بفوبيا المراه المتمكنه افه فكريه تغزو عقو...   \n",
              "3           3   6  LEAP22 مءتمر يجمع اشهر وابرز المءثرين المجال ا...   \n",
              "4           4   7  خصوصيه البيانات وحمايتها المنظمه مطلب ينبغي ان...   \n",
              "\n",
              "                   target   stance sarcasm sentiment  \n",
              "0       Women empowerment  Against      No  Negative  \n",
              "1           Covid Vaccine      NaN     Yes   Neutral  \n",
              "2       Women empowerment    Favor     Yes  Negative  \n",
              "3  Digital Transformation    Favor      No  Positive  \n",
              "4  Digital Transformation    Favor      No   Neutral  "
            ],
            "text/html": [
              "\n",
              "  <div id=\"df-9b4cf03c-be8b-481c-8476-58d7b196533e\" class=\"colab-df-container\">\n",
              "    <div>\n",
              "<style scoped>\n",
              "    .dataframe tbody tr th:only-of-type {\n",
              "        vertical-align: middle;\n",
              "    }\n",
              "\n",
              "    .dataframe tbody tr th {\n",
              "        vertical-align: top;\n",
              "    }\n",
              "\n",
              "    .dataframe thead th {\n",
              "        text-align: right;\n",
              "    }\n",
              "</style>\n",
              "<table border=\"1\" class=\"dataframe\">\n",
              "  <thead>\n",
              "    <tr style=\"text-align: right;\">\n",
              "      <th></th>\n",
              "      <th>Unnamed: 0</th>\n",
              "      <th>ID</th>\n",
              "      <th>text</th>\n",
              "      <th>target</th>\n",
              "      <th>stance</th>\n",
              "      <th>sarcasm</th>\n",
              "      <th>sentiment</th>\n",
              "    </tr>\n",
              "  </thead>\n",
              "  <tbody>\n",
              "    <tr>\n",
              "      <th>0</th>\n",
              "      <td>0</td>\n",
              "      <td>1</td>\n",
              "      <td>عشان يلمع صورته ويعنني تمكين المراه ويصير ترند...</td>\n",
              "      <td>Women empowerment</td>\n",
              "      <td>Against</td>\n",
              "      <td>No</td>\n",
              "      <td>Negative</td>\n",
              "    </tr>\n",
              "    <tr>\n",
              "      <th>1</th>\n",
              "      <td>1</td>\n",
              "      <td>3</td>\n",
              "      <td>روح حلل محد يم تطعيم كورونا شف الحرم البارح مل...</td>\n",
              "      <td>Covid Vaccine</td>\n",
              "      <td>NaN</td>\n",
              "      <td>Yes</td>\n",
              "      <td>Neutral</td>\n",
              "    </tr>\n",
              "    <tr>\n",
              "      <th>2</th>\n",
              "      <td>2</td>\n",
              "      <td>4</td>\n",
              "      <td>يعرف بفوبيا المراه المتمكنه افه فكريه تغزو عقو...</td>\n",
              "      <td>Women empowerment</td>\n",
              "      <td>Favor</td>\n",
              "      <td>Yes</td>\n",
              "      <td>Negative</td>\n",
              "    </tr>\n",
              "    <tr>\n",
              "      <th>3</th>\n",
              "      <td>3</td>\n",
              "      <td>6</td>\n",
              "      <td>LEAP22 مءتمر يجمع اشهر وابرز المءثرين المجال ا...</td>\n",
              "      <td>Digital Transformation</td>\n",
              "      <td>Favor</td>\n",
              "      <td>No</td>\n",
              "      <td>Positive</td>\n",
              "    </tr>\n",
              "    <tr>\n",
              "      <th>4</th>\n",
              "      <td>4</td>\n",
              "      <td>7</td>\n",
              "      <td>خصوصيه البيانات وحمايتها المنظمه مطلب ينبغي ان...</td>\n",
              "      <td>Digital Transformation</td>\n",
              "      <td>Favor</td>\n",
              "      <td>No</td>\n",
              "      <td>Neutral</td>\n",
              "    </tr>\n",
              "  </tbody>\n",
              "</table>\n",
              "</div>\n",
              "    <div class=\"colab-df-buttons\">\n",
              "\n",
              "  <div class=\"colab-df-container\">\n",
              "    <button class=\"colab-df-convert\" onclick=\"convertToInteractive('df-9b4cf03c-be8b-481c-8476-58d7b196533e')\"\n",
              "            title=\"Convert this dataframe to an interactive table.\"\n",
              "            style=\"display:none;\">\n",
              "\n",
              "  <svg xmlns=\"http://www.w3.org/2000/svg\" height=\"24px\" viewBox=\"0 -960 960 960\">\n",
              "    <path d=\"M120-120v-720h720v720H120Zm60-500h600v-160H180v160Zm220 220h160v-160H400v160Zm0 220h160v-160H400v160ZM180-400h160v-160H180v160Zm440 0h160v-160H620v160ZM180-180h160v-160H180v160Zm440 0h160v-160H620v160Z\"/>\n",
              "  </svg>\n",
              "    </button>\n",
              "\n",
              "  <style>\n",
              "    .colab-df-container {\n",
              "      display:flex;\n",
              "      gap: 12px;\n",
              "    }\n",
              "\n",
              "    .colab-df-convert {\n",
              "      background-color: #E8F0FE;\n",
              "      border: none;\n",
              "      border-radius: 50%;\n",
              "      cursor: pointer;\n",
              "      display: none;\n",
              "      fill: #1967D2;\n",
              "      height: 32px;\n",
              "      padding: 0 0 0 0;\n",
              "      width: 32px;\n",
              "    }\n",
              "\n",
              "    .colab-df-convert:hover {\n",
              "      background-color: #E2EBFA;\n",
              "      box-shadow: 0px 1px 2px rgba(60, 64, 67, 0.3), 0px 1px 3px 1px rgba(60, 64, 67, 0.15);\n",
              "      fill: #174EA6;\n",
              "    }\n",
              "\n",
              "    .colab-df-buttons div {\n",
              "      margin-bottom: 4px;\n",
              "    }\n",
              "\n",
              "    [theme=dark] .colab-df-convert {\n",
              "      background-color: #3B4455;\n",
              "      fill: #D2E3FC;\n",
              "    }\n",
              "\n",
              "    [theme=dark] .colab-df-convert:hover {\n",
              "      background-color: #434B5C;\n",
              "      box-shadow: 0px 1px 3px 1px rgba(0, 0, 0, 0.15);\n",
              "      filter: drop-shadow(0px 1px 2px rgba(0, 0, 0, 0.3));\n",
              "      fill: #FFFFFF;\n",
              "    }\n",
              "  </style>\n",
              "\n",
              "    <script>\n",
              "      const buttonEl =\n",
              "        document.querySelector('#df-9b4cf03c-be8b-481c-8476-58d7b196533e button.colab-df-convert');\n",
              "      buttonEl.style.display =\n",
              "        google.colab.kernel.accessAllowed ? 'block' : 'none';\n",
              "\n",
              "      async function convertToInteractive(key) {\n",
              "        const element = document.querySelector('#df-9b4cf03c-be8b-481c-8476-58d7b196533e');\n",
              "        const dataTable =\n",
              "          await google.colab.kernel.invokeFunction('convertToInteractive',\n",
              "                                                    [key], {});\n",
              "        if (!dataTable) return;\n",
              "\n",
              "        const docLinkHtml = 'Like what you see? Visit the ' +\n",
              "          '<a target=\"_blank\" href=https://colab.research.google.com/notebooks/data_table.ipynb>data table notebook</a>'\n",
              "          + ' to learn more about interactive tables.';\n",
              "        element.innerHTML = '';\n",
              "        dataTable['output_type'] = 'display_data';\n",
              "        await google.colab.output.renderOutput(dataTable, element);\n",
              "        const docLink = document.createElement('div');\n",
              "        docLink.innerHTML = docLinkHtml;\n",
              "        element.appendChild(docLink);\n",
              "      }\n",
              "    </script>\n",
              "  </div>\n",
              "\n",
              "\n",
              "<div id=\"df-574620d2-d094-4f76-846a-99e23fbebe13\">\n",
              "  <button class=\"colab-df-quickchart\" onclick=\"quickchart('df-574620d2-d094-4f76-846a-99e23fbebe13')\"\n",
              "            title=\"Suggest charts\"\n",
              "            style=\"display:none;\">\n",
              "\n",
              "<svg xmlns=\"http://www.w3.org/2000/svg\" height=\"24px\"viewBox=\"0 0 24 24\"\n",
              "     width=\"24px\">\n",
              "    <g>\n",
              "        <path d=\"M19 3H5c-1.1 0-2 .9-2 2v14c0 1.1.9 2 2 2h14c1.1 0 2-.9 2-2V5c0-1.1-.9-2-2-2zM9 17H7v-7h2v7zm4 0h-2V7h2v10zm4 0h-2v-4h2v4z\"/>\n",
              "    </g>\n",
              "</svg>\n",
              "  </button>\n",
              "\n",
              "<style>\n",
              "  .colab-df-quickchart {\n",
              "      --bg-color: #E8F0FE;\n",
              "      --fill-color: #1967D2;\n",
              "      --hover-bg-color: #E2EBFA;\n",
              "      --hover-fill-color: #174EA6;\n",
              "      --disabled-fill-color: #AAA;\n",
              "      --disabled-bg-color: #DDD;\n",
              "  }\n",
              "\n",
              "  [theme=dark] .colab-df-quickchart {\n",
              "      --bg-color: #3B4455;\n",
              "      --fill-color: #D2E3FC;\n",
              "      --hover-bg-color: #434B5C;\n",
              "      --hover-fill-color: #FFFFFF;\n",
              "      --disabled-bg-color: #3B4455;\n",
              "      --disabled-fill-color: #666;\n",
              "  }\n",
              "\n",
              "  .colab-df-quickchart {\n",
              "    background-color: var(--bg-color);\n",
              "    border: none;\n",
              "    border-radius: 50%;\n",
              "    cursor: pointer;\n",
              "    display: none;\n",
              "    fill: var(--fill-color);\n",
              "    height: 32px;\n",
              "    padding: 0;\n",
              "    width: 32px;\n",
              "  }\n",
              "\n",
              "  .colab-df-quickchart:hover {\n",
              "    background-color: var(--hover-bg-color);\n",
              "    box-shadow: 0 1px 2px rgba(60, 64, 67, 0.3), 0 1px 3px 1px rgba(60, 64, 67, 0.15);\n",
              "    fill: var(--button-hover-fill-color);\n",
              "  }\n",
              "\n",
              "  .colab-df-quickchart-complete:disabled,\n",
              "  .colab-df-quickchart-complete:disabled:hover {\n",
              "    background-color: var(--disabled-bg-color);\n",
              "    fill: var(--disabled-fill-color);\n",
              "    box-shadow: none;\n",
              "  }\n",
              "\n",
              "  .colab-df-spinner {\n",
              "    border: 2px solid var(--fill-color);\n",
              "    border-color: transparent;\n",
              "    border-bottom-color: var(--fill-color);\n",
              "    animation:\n",
              "      spin 1s steps(1) infinite;\n",
              "  }\n",
              "\n",
              "  @keyframes spin {\n",
              "    0% {\n",
              "      border-color: transparent;\n",
              "      border-bottom-color: var(--fill-color);\n",
              "      border-left-color: var(--fill-color);\n",
              "    }\n",
              "    20% {\n",
              "      border-color: transparent;\n",
              "      border-left-color: var(--fill-color);\n",
              "      border-top-color: var(--fill-color);\n",
              "    }\n",
              "    30% {\n",
              "      border-color: transparent;\n",
              "      border-left-color: var(--fill-color);\n",
              "      border-top-color: var(--fill-color);\n",
              "      border-right-color: var(--fill-color);\n",
              "    }\n",
              "    40% {\n",
              "      border-color: transparent;\n",
              "      border-right-color: var(--fill-color);\n",
              "      border-top-color: var(--fill-color);\n",
              "    }\n",
              "    60% {\n",
              "      border-color: transparent;\n",
              "      border-right-color: var(--fill-color);\n",
              "    }\n",
              "    80% {\n",
              "      border-color: transparent;\n",
              "      border-right-color: var(--fill-color);\n",
              "      border-bottom-color: var(--fill-color);\n",
              "    }\n",
              "    90% {\n",
              "      border-color: transparent;\n",
              "      border-bottom-color: var(--fill-color);\n",
              "    }\n",
              "  }\n",
              "</style>\n",
              "\n",
              "  <script>\n",
              "    async function quickchart(key) {\n",
              "      const quickchartButtonEl =\n",
              "        document.querySelector('#' + key + ' button');\n",
              "      quickchartButtonEl.disabled = true;  // To prevent multiple clicks.\n",
              "      quickchartButtonEl.classList.add('colab-df-spinner');\n",
              "      try {\n",
              "        const charts = await google.colab.kernel.invokeFunction(\n",
              "            'suggestCharts', [key], {});\n",
              "      } catch (error) {\n",
              "        console.error('Error during call to suggestCharts:', error);\n",
              "      }\n",
              "      quickchartButtonEl.classList.remove('colab-df-spinner');\n",
              "      quickchartButtonEl.classList.add('colab-df-quickchart-complete');\n",
              "    }\n",
              "    (() => {\n",
              "      let quickchartButtonEl =\n",
              "        document.querySelector('#df-574620d2-d094-4f76-846a-99e23fbebe13 button');\n",
              "      quickchartButtonEl.style.display =\n",
              "        google.colab.kernel.accessAllowed ? 'block' : 'none';\n",
              "    })();\n",
              "  </script>\n",
              "</div>\n",
              "    </div>\n",
              "  </div>\n"
            ],
            "application/vnd.google.colaboratory.intrinsic+json": {
              "type": "dataframe",
              "variable_name": "df",
              "summary": "{\n  \"name\": \"df\",\n  \"rows\": 3502,\n  \"fields\": [\n    {\n      \"column\": \"Unnamed: 0\",\n      \"properties\": {\n        \"dtype\": \"number\",\n        \"std\": 1011,\n        \"min\": 0,\n        \"max\": 3501,\n        \"num_unique_values\": 3502,\n        \"samples\": [\n          3149,\n          315,\n          2177\n        ],\n        \"semantic_type\": \"\",\n        \"description\": \"\"\n      }\n    },\n    {\n      \"column\": \"ID\",\n      \"properties\": {\n        \"dtype\": \"number\",\n        \"std\": 1184,\n        \"min\": 1,\n        \"max\": 4121,\n        \"num_unique_values\": 3502,\n        \"samples\": [\n          3698,\n          378,\n          2554\n        ],\n        \"semantic_type\": \"\",\n        \"description\": \"\"\n      }\n    },\n    {\n      \"column\": \"text\",\n      \"properties\": {\n        \"dtype\": \"string\",\n        \"num_unique_values\": 3490,\n        \"samples\": [\n          \"\\u062d\\u062f \\u064a\\u0635\\u062d\\u062d \\u0627\\u0630\\u0627 \\u0643\\u0646\\u062a \\u063a\\u0644\\u0637\\u0627\\u0646 \\u0627\\u0644\\u0645 \\u064a\\u0643\\u0646 \\u0627\\u0644\\u0645\\u0639\\u0646\\u064a\\u064a\\u0646 \\u0628\\u0627\\u0644\\u062a\\u062d\\u0648\\u0644 \\u0627\\u0644\\u0627\\u0644\\u0643\\u062a\\u0631\\u0648\\u0646\\u064a \\u0639\\u0627\\u0645 \\u0662\\u0660\\u0661\\u0662 \\u0646\\u0641\\u0633\\u0647\\u0645 \\u0627\\u0644\\u0645\\u0633\\u0621\\u0648\\u0644\\u064a\\u0646 \\u0639\\u0646\\u0643\\u062f\\u0633 \\u0627\\u0644\\u0646\\u062f\\u0648\\u0627\\u062a \\u0648\\u0627\\u0644\\u0645\\u0621\\u062a\\u0645\\u0631\\u0627\\u062a \\u0627\\u0644\\u0644\\u064a \\u062a\\u0642\\u0648\\u062f \\u0627\\u0644\\u064a \\u0627\\u0644\\u062a\\u062d\\u0648\\u0644 \\u0627\\u0644\\u062a\\u062d\\u0648\\u0644 \\u0646\\u0641\\u0633\\u0647 \\u062a\\u0639\\u062b\\u0631 \\u0627\\u0644\\u062f\\u0631\\u0628 \\u0627\\u0644\\u064a\\u0646 \\u0627\\u0644\\u062d\\u064a\\u0646 URL\",\n          \"\\u064a\\u0648\\u0645 \\u0627\\u0644\\u0645\\u0631\\u0627\\u0647 \\u0627\\u0644\\u0639\\u0627\\u0644\\u0645\\u064a \\u0639\\u0627\\u0645 \\u0648\\u0627\\u0646\\u062a\\u064a \\u0645\\u0644\\u0647\\u0645\\u0647 \\u0648\\u0637\\u0645\\u0648\\u062d\\u0647 \\u0648\\u0642\\u0648\\u064a\\u0647 \\u0648\\u0645\\u0646\\u062c\\u0632\\u0647 \\u0639\\u0627\\u0645 \\u0648\\u0627\\u0646\\u062a\\u064a \\u0627\\u0633\\u0627\\u0633 \\u0627\\u0644\\u0645\\u062c\\u062a\\u0645\\u0639 \\u0627\\u0633\\u062a\\u062e\\u062f\\u0645 \\u0643\\u0648\\u062f \\u0627\\u0644\\u062e\\u0635\\u0645 WOM10 \\u0648\\u0627\\u062d\\u0635\\u0644 \\u0639\\u0644\\u064a \\u062e\\u0635\\u0645 \\u0641\\u0648\\u0631\\u064a \\u0639\\u0644\\u064a \\u0627\\u0644\\u0627\\u062c\\u0647\\u0632\\u0647 \\u0627\\u0644\\u0635\\u063a\\u064a\\u0631\\u0647 \\u0648\\u0645\\u0646\\u062a\\u062c\\u0627\\u062a \\u0627\\u0644\\u0639\\u0646\\u0627\\u064a\\u0647 \\u0627\\u0644\\u0634\\u062e\\u0635\\u064a\\u0647 \\u0643\\u0648\\u0646\\u064a\\u0642\\u062f\\u0648\\u0647 \\u062a\\u0645\\u0643\\u064a\\u0646 \\u0627\\u0644\\u064a\\u0648\\u0645\\u0627\\u0644\\u0645\\u0631\\u0627\\u0647\\u0627\\u0644\\u0639\\u0627\\u0644\\u0645\\u064a \\u0647\\u064a\\u062a\\u0642\\u0648\\u062f\",\n          \"\\u063a\\u0631\\u0641\\u0647 \\u0627\\u0644\\u0634\\u0631\\u0642\\u064a\\u0647 \\u062a\\u0646\\u0638\\u0645 \\u0644\\u0642\\u0627\\u0621 \\u0631\\u0627\\u0621\\u062f\\u0627\\u062a \\u0627\\u0644\\u0627\\u0639\\u0645\\u0627\\u0644 \\u0628\\u0627\\u0644\\u0642\\u0637\\u064a\\u0641 \\u0634\\u0628\\u0643\\u0647 \\u0627\\u0645 \\u0627\\u0644\\u062d\\u0645\\u0627\\u0645 \\u0646\\u0638\\u0645\\u062a \\u063a\\u0631\\u0641\\u0647 \\u0627\\u0644\\u0634\\u0631\\u0642\\u064a\\u0647 \\u0645\\u0645\\u062b\\u0644\\u0647 \\u0628\\u0645\\u0631\\u0643\\u0632 \\u062a\\u0645\\u0643\\u064a\\u0646 \\u0627\\u0644\\u0645\\u0631\\u0627\\u0647 \\u0627\\u0645\\u0633 \\u0644\\u0642\\u0627\\u0621 \\u0631\\u0627\\u0621\\u062f\\u0627\\u062a \\u0627\\u0644\\u0627\\u0639\\u0645\\u0627\\u0644 \\u0628\\u0645\\u062d\\u0627\\u0641\\u0638\\u0647 \\u0627\\u0644\\u0642\\u0637\\u064a\\u0641 \\u0627\\u0633\\u062a\\u0636\\u0627\\u0641\\u062a \\u062e\\u0644\\u0627\\u0644\\u0647 \\u0645\\u062f\\u064a\\u0631\\u0647 \\u0627\\u0644\\u0641\\u0631\\u0639 \\u0627\\u0644\\u0646\\u0633\\u0627\\u0621\\u064a \\u0644\\u0628\\u0646\\u0643 \\u0627\\u0644\\u062a\\u0646\\u0645\\u064a\\u0647 \\u0627\\u0644\\u0627\\u062c\\u062a\\u0645\\u0627\\u0639\\u064a\\u0647 \\u0628\\u0627\\u0644\\u0645\\u0646\\u0637\\u0642\\u0647 \\u0641\\u0648\\u0632\\u064a\\u0647 \\u0627\\u0644\\u0642\\u062d\\u0637\\u0627\\u0646\\u064a \\u0627\\u0633\\u062a\\u0639\\u0631\\u0636\\u062a \\u062e\\u062f\\u0645\\u0627\\u062a\"\n        ],\n        \"semantic_type\": \"\",\n        \"description\": \"\"\n      }\n    },\n    {\n      \"column\": \"target\",\n      \"properties\": {\n        \"dtype\": \"category\",\n        \"num_unique_values\": 3,\n        \"samples\": [\n          \"Women empowerment\",\n          \"Covid Vaccine\",\n          \"Digital Transformation\"\n        ],\n        \"semantic_type\": \"\",\n        \"description\": \"\"\n      }\n    },\n    {\n      \"column\": \"stance\",\n      \"properties\": {\n        \"dtype\": \"category\",\n        \"num_unique_values\": 2,\n        \"samples\": [\n          \"Favor\",\n          \"Against\"\n        ],\n        \"semantic_type\": \"\",\n        \"description\": \"\"\n      }\n    },\n    {\n      \"column\": \"sarcasm\",\n      \"properties\": {\n        \"dtype\": \"category\",\n        \"num_unique_values\": 2,\n        \"samples\": [\n          \"Yes\",\n          \"No\"\n        ],\n        \"semantic_type\": \"\",\n        \"description\": \"\"\n      }\n    },\n    {\n      \"column\": \"sentiment\",\n      \"properties\": {\n        \"dtype\": \"category\",\n        \"num_unique_values\": 3,\n        \"samples\": [\n          \"Negative\",\n          \"Neutral\"\n        ],\n        \"semantic_type\": \"\",\n        \"description\": \"\"\n      }\n    }\n  ]\n}"
            }
          },
          "metadata": {},
          "execution_count": 20
        }
      ],
      "source": [
        "df= pd.read_csv(ROOT_DIR + \"Mawqif.csv\")\n",
        "df.head()"
      ]
    },
    {
      "cell_type": "code",
      "source": [
        "df.info()"
      ],
      "metadata": {
        "colab": {
          "base_uri": "https://localhost:8080/"
        },
        "id": "eZjJuDOVJmz1",
        "outputId": "42bb2ebf-7270-4d34-9a07-c605be8d8cee"
      },
      "execution_count": 21,
      "outputs": [
        {
          "output_type": "stream",
          "name": "stdout",
          "text": [
            "<class 'pandas.core.frame.DataFrame'>\n",
            "RangeIndex: 3502 entries, 0 to 3501\n",
            "Data columns (total 7 columns):\n",
            " #   Column      Non-Null Count  Dtype \n",
            "---  ------      --------------  ----- \n",
            " 0   Unnamed: 0  3502 non-null   int64 \n",
            " 1   ID          3502 non-null   int64 \n",
            " 2   text        3502 non-null   object\n",
            " 3   target      3502 non-null   object\n",
            " 4   stance      3169 non-null   object\n",
            " 5   sarcasm     3502 non-null   object\n",
            " 6   sentiment   3502 non-null   object\n",
            "dtypes: int64(2), object(5)\n",
            "memory usage: 191.6+ KB\n"
          ]
        }
      ]
    },
    {
      "cell_type": "code",
      "source": [
        "df_org = df[[\"text\", \"stance\"]]"
      ],
      "metadata": {
        "id": "UzpfpO7RZ7Lg"
      },
      "execution_count": 18,
      "outputs": []
    },
    {
      "cell_type": "code",
      "source": [
        "#df_org = df_org.sample(frac=1.0, random_state=42)\n",
        "df_org.head()"
      ],
      "metadata": {
        "id": "0c032_7xsvHf",
        "colab": {
          "base_uri": "https://localhost:8080/",
          "height": 206
        },
        "outputId": "6b4a52a5-e02f-48d0-c846-488f3ccf2910"
      },
      "execution_count": 19,
      "outputs": [
        {
          "output_type": "execute_result",
          "data": {
            "text/plain": [
              "                                                text   stance\n",
              "0  عشان يلمع صورته ويعنني تمكين المراه ويصير ترند...  Against\n",
              "1  روح حلل محد يم تطعيم كورونا شف الحرم البارح مل...      NaN\n",
              "2  يعرف بفوبيا المراه المتمكنه افه فكريه تغزو عقو...    Favor\n",
              "3  LEAP22 مءتمر يجمع اشهر وابرز المءثرين المجال ا...    Favor\n",
              "4  خصوصيه البيانات وحمايتها المنظمه مطلب ينبغي ان...    Favor"
            ],
            "text/html": [
              "\n",
              "  <div id=\"df-4bba9c11-13c7-40d7-b1ce-e91d144d39b9\" class=\"colab-df-container\">\n",
              "    <div>\n",
              "<style scoped>\n",
              "    .dataframe tbody tr th:only-of-type {\n",
              "        vertical-align: middle;\n",
              "    }\n",
              "\n",
              "    .dataframe tbody tr th {\n",
              "        vertical-align: top;\n",
              "    }\n",
              "\n",
              "    .dataframe thead th {\n",
              "        text-align: right;\n",
              "    }\n",
              "</style>\n",
              "<table border=\"1\" class=\"dataframe\">\n",
              "  <thead>\n",
              "    <tr style=\"text-align: right;\">\n",
              "      <th></th>\n",
              "      <th>text</th>\n",
              "      <th>stance</th>\n",
              "    </tr>\n",
              "  </thead>\n",
              "  <tbody>\n",
              "    <tr>\n",
              "      <th>0</th>\n",
              "      <td>عشان يلمع صورته ويعنني تمكين المراه ويصير ترند...</td>\n",
              "      <td>Against</td>\n",
              "    </tr>\n",
              "    <tr>\n",
              "      <th>1</th>\n",
              "      <td>روح حلل محد يم تطعيم كورونا شف الحرم البارح مل...</td>\n",
              "      <td>NaN</td>\n",
              "    </tr>\n",
              "    <tr>\n",
              "      <th>2</th>\n",
              "      <td>يعرف بفوبيا المراه المتمكنه افه فكريه تغزو عقو...</td>\n",
              "      <td>Favor</td>\n",
              "    </tr>\n",
              "    <tr>\n",
              "      <th>3</th>\n",
              "      <td>LEAP22 مءتمر يجمع اشهر وابرز المءثرين المجال ا...</td>\n",
              "      <td>Favor</td>\n",
              "    </tr>\n",
              "    <tr>\n",
              "      <th>4</th>\n",
              "      <td>خصوصيه البيانات وحمايتها المنظمه مطلب ينبغي ان...</td>\n",
              "      <td>Favor</td>\n",
              "    </tr>\n",
              "  </tbody>\n",
              "</table>\n",
              "</div>\n",
              "    <div class=\"colab-df-buttons\">\n",
              "\n",
              "  <div class=\"colab-df-container\">\n",
              "    <button class=\"colab-df-convert\" onclick=\"convertToInteractive('df-4bba9c11-13c7-40d7-b1ce-e91d144d39b9')\"\n",
              "            title=\"Convert this dataframe to an interactive table.\"\n",
              "            style=\"display:none;\">\n",
              "\n",
              "  <svg xmlns=\"http://www.w3.org/2000/svg\" height=\"24px\" viewBox=\"0 -960 960 960\">\n",
              "    <path d=\"M120-120v-720h720v720H120Zm60-500h600v-160H180v160Zm220 220h160v-160H400v160Zm0 220h160v-160H400v160ZM180-400h160v-160H180v160Zm440 0h160v-160H620v160ZM180-180h160v-160H180v160Zm440 0h160v-160H620v160Z\"/>\n",
              "  </svg>\n",
              "    </button>\n",
              "\n",
              "  <style>\n",
              "    .colab-df-container {\n",
              "      display:flex;\n",
              "      gap: 12px;\n",
              "    }\n",
              "\n",
              "    .colab-df-convert {\n",
              "      background-color: #E8F0FE;\n",
              "      border: none;\n",
              "      border-radius: 50%;\n",
              "      cursor: pointer;\n",
              "      display: none;\n",
              "      fill: #1967D2;\n",
              "      height: 32px;\n",
              "      padding: 0 0 0 0;\n",
              "      width: 32px;\n",
              "    }\n",
              "\n",
              "    .colab-df-convert:hover {\n",
              "      background-color: #E2EBFA;\n",
              "      box-shadow: 0px 1px 2px rgba(60, 64, 67, 0.3), 0px 1px 3px 1px rgba(60, 64, 67, 0.15);\n",
              "      fill: #174EA6;\n",
              "    }\n",
              "\n",
              "    .colab-df-buttons div {\n",
              "      margin-bottom: 4px;\n",
              "    }\n",
              "\n",
              "    [theme=dark] .colab-df-convert {\n",
              "      background-color: #3B4455;\n",
              "      fill: #D2E3FC;\n",
              "    }\n",
              "\n",
              "    [theme=dark] .colab-df-convert:hover {\n",
              "      background-color: #434B5C;\n",
              "      box-shadow: 0px 1px 3px 1px rgba(0, 0, 0, 0.15);\n",
              "      filter: drop-shadow(0px 1px 2px rgba(0, 0, 0, 0.3));\n",
              "      fill: #FFFFFF;\n",
              "    }\n",
              "  </style>\n",
              "\n",
              "    <script>\n",
              "      const buttonEl =\n",
              "        document.querySelector('#df-4bba9c11-13c7-40d7-b1ce-e91d144d39b9 button.colab-df-convert');\n",
              "      buttonEl.style.display =\n",
              "        google.colab.kernel.accessAllowed ? 'block' : 'none';\n",
              "\n",
              "      async function convertToInteractive(key) {\n",
              "        const element = document.querySelector('#df-4bba9c11-13c7-40d7-b1ce-e91d144d39b9');\n",
              "        const dataTable =\n",
              "          await google.colab.kernel.invokeFunction('convertToInteractive',\n",
              "                                                    [key], {});\n",
              "        if (!dataTable) return;\n",
              "\n",
              "        const docLinkHtml = 'Like what you see? Visit the ' +\n",
              "          '<a target=\"_blank\" href=https://colab.research.google.com/notebooks/data_table.ipynb>data table notebook</a>'\n",
              "          + ' to learn more about interactive tables.';\n",
              "        element.innerHTML = '';\n",
              "        dataTable['output_type'] = 'display_data';\n",
              "        await google.colab.output.renderOutput(dataTable, element);\n",
              "        const docLink = document.createElement('div');\n",
              "        docLink.innerHTML = docLinkHtml;\n",
              "        element.appendChild(docLink);\n",
              "      }\n",
              "    </script>\n",
              "  </div>\n",
              "\n",
              "\n",
              "<div id=\"df-7024e303-ff44-49cb-9ee6-8844c887d2a7\">\n",
              "  <button class=\"colab-df-quickchart\" onclick=\"quickchart('df-7024e303-ff44-49cb-9ee6-8844c887d2a7')\"\n",
              "            title=\"Suggest charts\"\n",
              "            style=\"display:none;\">\n",
              "\n",
              "<svg xmlns=\"http://www.w3.org/2000/svg\" height=\"24px\"viewBox=\"0 0 24 24\"\n",
              "     width=\"24px\">\n",
              "    <g>\n",
              "        <path d=\"M19 3H5c-1.1 0-2 .9-2 2v14c0 1.1.9 2 2 2h14c1.1 0 2-.9 2-2V5c0-1.1-.9-2-2-2zM9 17H7v-7h2v7zm4 0h-2V7h2v10zm4 0h-2v-4h2v4z\"/>\n",
              "    </g>\n",
              "</svg>\n",
              "  </button>\n",
              "\n",
              "<style>\n",
              "  .colab-df-quickchart {\n",
              "      --bg-color: #E8F0FE;\n",
              "      --fill-color: #1967D2;\n",
              "      --hover-bg-color: #E2EBFA;\n",
              "      --hover-fill-color: #174EA6;\n",
              "      --disabled-fill-color: #AAA;\n",
              "      --disabled-bg-color: #DDD;\n",
              "  }\n",
              "\n",
              "  [theme=dark] .colab-df-quickchart {\n",
              "      --bg-color: #3B4455;\n",
              "      --fill-color: #D2E3FC;\n",
              "      --hover-bg-color: #434B5C;\n",
              "      --hover-fill-color: #FFFFFF;\n",
              "      --disabled-bg-color: #3B4455;\n",
              "      --disabled-fill-color: #666;\n",
              "  }\n",
              "\n",
              "  .colab-df-quickchart {\n",
              "    background-color: var(--bg-color);\n",
              "    border: none;\n",
              "    border-radius: 50%;\n",
              "    cursor: pointer;\n",
              "    display: none;\n",
              "    fill: var(--fill-color);\n",
              "    height: 32px;\n",
              "    padding: 0;\n",
              "    width: 32px;\n",
              "  }\n",
              "\n",
              "  .colab-df-quickchart:hover {\n",
              "    background-color: var(--hover-bg-color);\n",
              "    box-shadow: 0 1px 2px rgba(60, 64, 67, 0.3), 0 1px 3px 1px rgba(60, 64, 67, 0.15);\n",
              "    fill: var(--button-hover-fill-color);\n",
              "  }\n",
              "\n",
              "  .colab-df-quickchart-complete:disabled,\n",
              "  .colab-df-quickchart-complete:disabled:hover {\n",
              "    background-color: var(--disabled-bg-color);\n",
              "    fill: var(--disabled-fill-color);\n",
              "    box-shadow: none;\n",
              "  }\n",
              "\n",
              "  .colab-df-spinner {\n",
              "    border: 2px solid var(--fill-color);\n",
              "    border-color: transparent;\n",
              "    border-bottom-color: var(--fill-color);\n",
              "    animation:\n",
              "      spin 1s steps(1) infinite;\n",
              "  }\n",
              "\n",
              "  @keyframes spin {\n",
              "    0% {\n",
              "      border-color: transparent;\n",
              "      border-bottom-color: var(--fill-color);\n",
              "      border-left-color: var(--fill-color);\n",
              "    }\n",
              "    20% {\n",
              "      border-color: transparent;\n",
              "      border-left-color: var(--fill-color);\n",
              "      border-top-color: var(--fill-color);\n",
              "    }\n",
              "    30% {\n",
              "      border-color: transparent;\n",
              "      border-left-color: var(--fill-color);\n",
              "      border-top-color: var(--fill-color);\n",
              "      border-right-color: var(--fill-color);\n",
              "    }\n",
              "    40% {\n",
              "      border-color: transparent;\n",
              "      border-right-color: var(--fill-color);\n",
              "      border-top-color: var(--fill-color);\n",
              "    }\n",
              "    60% {\n",
              "      border-color: transparent;\n",
              "      border-right-color: var(--fill-color);\n",
              "    }\n",
              "    80% {\n",
              "      border-color: transparent;\n",
              "      border-right-color: var(--fill-color);\n",
              "      border-bottom-color: var(--fill-color);\n",
              "    }\n",
              "    90% {\n",
              "      border-color: transparent;\n",
              "      border-bottom-color: var(--fill-color);\n",
              "    }\n",
              "  }\n",
              "</style>\n",
              "\n",
              "  <script>\n",
              "    async function quickchart(key) {\n",
              "      const quickchartButtonEl =\n",
              "        document.querySelector('#' + key + ' button');\n",
              "      quickchartButtonEl.disabled = true;  // To prevent multiple clicks.\n",
              "      quickchartButtonEl.classList.add('colab-df-spinner');\n",
              "      try {\n",
              "        const charts = await google.colab.kernel.invokeFunction(\n",
              "            'suggestCharts', [key], {});\n",
              "      } catch (error) {\n",
              "        console.error('Error during call to suggestCharts:', error);\n",
              "      }\n",
              "      quickchartButtonEl.classList.remove('colab-df-spinner');\n",
              "      quickchartButtonEl.classList.add('colab-df-quickchart-complete');\n",
              "    }\n",
              "    (() => {\n",
              "      let quickchartButtonEl =\n",
              "        document.querySelector('#df-7024e303-ff44-49cb-9ee6-8844c887d2a7 button');\n",
              "      quickchartButtonEl.style.display =\n",
              "        google.colab.kernel.accessAllowed ? 'block' : 'none';\n",
              "    })();\n",
              "  </script>\n",
              "</div>\n",
              "    </div>\n",
              "  </div>\n"
            ],
            "application/vnd.google.colaboratory.intrinsic+json": {
              "type": "dataframe",
              "variable_name": "df_org",
              "summary": "{\n  \"name\": \"df_org\",\n  \"rows\": 3502,\n  \"fields\": [\n    {\n      \"column\": \"text\",\n      \"properties\": {\n        \"dtype\": \"string\",\n        \"num_unique_values\": 3490,\n        \"samples\": [\n          \"\\u062d\\u062f \\u064a\\u0635\\u062d\\u062d \\u0627\\u0630\\u0627 \\u0643\\u0646\\u062a \\u063a\\u0644\\u0637\\u0627\\u0646 \\u0627\\u0644\\u0645 \\u064a\\u0643\\u0646 \\u0627\\u0644\\u0645\\u0639\\u0646\\u064a\\u064a\\u0646 \\u0628\\u0627\\u0644\\u062a\\u062d\\u0648\\u0644 \\u0627\\u0644\\u0627\\u0644\\u0643\\u062a\\u0631\\u0648\\u0646\\u064a \\u0639\\u0627\\u0645 \\u0662\\u0660\\u0661\\u0662 \\u0646\\u0641\\u0633\\u0647\\u0645 \\u0627\\u0644\\u0645\\u0633\\u0621\\u0648\\u0644\\u064a\\u0646 \\u0639\\u0646\\u0643\\u062f\\u0633 \\u0627\\u0644\\u0646\\u062f\\u0648\\u0627\\u062a \\u0648\\u0627\\u0644\\u0645\\u0621\\u062a\\u0645\\u0631\\u0627\\u062a \\u0627\\u0644\\u0644\\u064a \\u062a\\u0642\\u0648\\u062f \\u0627\\u0644\\u064a \\u0627\\u0644\\u062a\\u062d\\u0648\\u0644 \\u0627\\u0644\\u062a\\u062d\\u0648\\u0644 \\u0646\\u0641\\u0633\\u0647 \\u062a\\u0639\\u062b\\u0631 \\u0627\\u0644\\u062f\\u0631\\u0628 \\u0627\\u0644\\u064a\\u0646 \\u0627\\u0644\\u062d\\u064a\\u0646 URL\",\n          \"\\u064a\\u0648\\u0645 \\u0627\\u0644\\u0645\\u0631\\u0627\\u0647 \\u0627\\u0644\\u0639\\u0627\\u0644\\u0645\\u064a \\u0639\\u0627\\u0645 \\u0648\\u0627\\u0646\\u062a\\u064a \\u0645\\u0644\\u0647\\u0645\\u0647 \\u0648\\u0637\\u0645\\u0648\\u062d\\u0647 \\u0648\\u0642\\u0648\\u064a\\u0647 \\u0648\\u0645\\u0646\\u062c\\u0632\\u0647 \\u0639\\u0627\\u0645 \\u0648\\u0627\\u0646\\u062a\\u064a \\u0627\\u0633\\u0627\\u0633 \\u0627\\u0644\\u0645\\u062c\\u062a\\u0645\\u0639 \\u0627\\u0633\\u062a\\u062e\\u062f\\u0645 \\u0643\\u0648\\u062f \\u0627\\u0644\\u062e\\u0635\\u0645 WOM10 \\u0648\\u0627\\u062d\\u0635\\u0644 \\u0639\\u0644\\u064a \\u062e\\u0635\\u0645 \\u0641\\u0648\\u0631\\u064a \\u0639\\u0644\\u064a \\u0627\\u0644\\u0627\\u062c\\u0647\\u0632\\u0647 \\u0627\\u0644\\u0635\\u063a\\u064a\\u0631\\u0647 \\u0648\\u0645\\u0646\\u062a\\u062c\\u0627\\u062a \\u0627\\u0644\\u0639\\u0646\\u0627\\u064a\\u0647 \\u0627\\u0644\\u0634\\u062e\\u0635\\u064a\\u0647 \\u0643\\u0648\\u0646\\u064a\\u0642\\u062f\\u0648\\u0647 \\u062a\\u0645\\u0643\\u064a\\u0646 \\u0627\\u0644\\u064a\\u0648\\u0645\\u0627\\u0644\\u0645\\u0631\\u0627\\u0647\\u0627\\u0644\\u0639\\u0627\\u0644\\u0645\\u064a \\u0647\\u064a\\u062a\\u0642\\u0648\\u062f\",\n          \"\\u063a\\u0631\\u0641\\u0647 \\u0627\\u0644\\u0634\\u0631\\u0642\\u064a\\u0647 \\u062a\\u0646\\u0638\\u0645 \\u0644\\u0642\\u0627\\u0621 \\u0631\\u0627\\u0621\\u062f\\u0627\\u062a \\u0627\\u0644\\u0627\\u0639\\u0645\\u0627\\u0644 \\u0628\\u0627\\u0644\\u0642\\u0637\\u064a\\u0641 \\u0634\\u0628\\u0643\\u0647 \\u0627\\u0645 \\u0627\\u0644\\u062d\\u0645\\u0627\\u0645 \\u0646\\u0638\\u0645\\u062a \\u063a\\u0631\\u0641\\u0647 \\u0627\\u0644\\u0634\\u0631\\u0642\\u064a\\u0647 \\u0645\\u0645\\u062b\\u0644\\u0647 \\u0628\\u0645\\u0631\\u0643\\u0632 \\u062a\\u0645\\u0643\\u064a\\u0646 \\u0627\\u0644\\u0645\\u0631\\u0627\\u0647 \\u0627\\u0645\\u0633 \\u0644\\u0642\\u0627\\u0621 \\u0631\\u0627\\u0621\\u062f\\u0627\\u062a \\u0627\\u0644\\u0627\\u0639\\u0645\\u0627\\u0644 \\u0628\\u0645\\u062d\\u0627\\u0641\\u0638\\u0647 \\u0627\\u0644\\u0642\\u0637\\u064a\\u0641 \\u0627\\u0633\\u062a\\u0636\\u0627\\u0641\\u062a \\u062e\\u0644\\u0627\\u0644\\u0647 \\u0645\\u062f\\u064a\\u0631\\u0647 \\u0627\\u0644\\u0641\\u0631\\u0639 \\u0627\\u0644\\u0646\\u0633\\u0627\\u0621\\u064a \\u0644\\u0628\\u0646\\u0643 \\u0627\\u0644\\u062a\\u0646\\u0645\\u064a\\u0647 \\u0627\\u0644\\u0627\\u062c\\u062a\\u0645\\u0627\\u0639\\u064a\\u0647 \\u0628\\u0627\\u0644\\u0645\\u0646\\u0637\\u0642\\u0647 \\u0641\\u0648\\u0632\\u064a\\u0647 \\u0627\\u0644\\u0642\\u062d\\u0637\\u0627\\u0646\\u064a \\u0627\\u0633\\u062a\\u0639\\u0631\\u0636\\u062a \\u062e\\u062f\\u0645\\u0627\\u062a\"\n        ],\n        \"semantic_type\": \"\",\n        \"description\": \"\"\n      }\n    },\n    {\n      \"column\": \"stance\",\n      \"properties\": {\n        \"dtype\": \"category\",\n        \"num_unique_values\": 2,\n        \"samples\": [\n          \"Favor\",\n          \"Against\"\n        ],\n        \"semantic_type\": \"\",\n        \"description\": \"\"\n      }\n    }\n  ]\n}"
            }
          },
          "metadata": {},
          "execution_count": 19
        }
      ]
    },
    {
      "cell_type": "code",
      "source": [
        "df_org.shape # 3502 observations"
      ],
      "metadata": {
        "id": "e9GsBSoj0W0C",
        "colab": {
          "base_uri": "https://localhost:8080/"
        },
        "outputId": "28041b96-d888-48a6-ac69-69d8ecc29f83"
      },
      "execution_count": 12,
      "outputs": [
        {
          "output_type": "execute_result",
          "data": {
            "text/plain": [
              "(3502, 2)"
            ]
          },
          "metadata": {},
          "execution_count": 12
        }
      ]
    },
    {
      "cell_type": "markdown",
      "source": [
        "- Take the Intent_en or Intent_ar from PAL/MSA train."
      ],
      "metadata": {
        "id": "reTpcmIBXc8e"
      }
    },
    {
      "cell_type": "code",
      "execution_count": 13,
      "metadata": {
        "id": "DJCDalzuRU6K",
        "colab": {
          "base_uri": "https://localhost:8080/"
        },
        "outputId": "b53e9e52-8adb-4861-bf22-50b5a46cf20c"
      },
      "outputs": [
        {
          "output_type": "execute_result",
          "data": {
            "text/plain": [
              "['Against', nan, 'Favor']"
            ]
          },
          "metadata": {},
          "execution_count": 13
        }
      ],
      "source": [
        "labels = df_org['stance'].unique().tolist()\n",
        "#labels = [s.strip() for s in labels ]\n",
        "labels"
      ]
    },
    {
      "cell_type": "markdown",
      "metadata": {
        "id": "D8ud_pY7RU6K"
      },
      "source": [
        "\n",
        "## Why we need id2label and labe2ids in NLP Projects\n",
        "\n",
        "In NLP tasks, especially those involving classification problems, id2label and label2id dictionaries are used to map class labels (categories) to integer IDs and vice versa. These mappings are essential for various stages of the NLP pipeline, such as data preprocessing, model training, and evaluation.\n",
        "\n",
        "**Data preprocessing**: In order to feed text data into an NLP model, the text must first be tokenized and then converted into numerical values. Similarly, class labels must also be transformed into numerical representations. The label2id dictionary helps in converting the original class labels into integer IDs.\n",
        "\n",
        "**Model training**: NLP models usually output probability distributions over classes as their predictions. During training, the model's predictions are compared against the ground truth labels (which have been converted to integer IDs) to compute the loss and optimize the model parameters.\n",
        "\n",
        "**Model evaluation and interpretation**: Once the model has been trained, its predictions (in the form of integer IDs) need to be mapped back to their original class labels to make the results interpretable. The id2label dictionary is used to perform this conversion.\n",
        "\n",
        "\n",
        "For `BertForSequenceClassification` model as well I need these exact mapping of id2labels and labels2id in dictionary form.\n",
        "\n",
        "### Hence, fefore you start training your model, create a map of the expected ids to their labels with id2label and label2id:"
      ]
    },
    {
      "cell_type": "code",
      "execution_count": null,
      "metadata": {
        "id": "ODGN-DkDRU6L",
        "outputId": "adda47f9-87cb-448c-a375-c3a22fe6f8c1",
        "colab": {
          "base_uri": "https://localhost:8080/"
        }
      },
      "outputs": [
        {
          "output_type": "stream",
          "name": "stdout",
          "text": [
            "0 Against\n",
            "1 None\n",
            "2 Favor\n"
          ]
        }
      ],
      "source": [
        "for key, value in enumerate(labels):\n",
        "    print(key, value)"
      ]
    },
    {
      "cell_type": "code",
      "execution_count": null,
      "metadata": {
        "id": "5jyOH3YGvyYW"
      },
      "outputs": [],
      "source": [
        "NUM_LABELS= len(labels)\n",
        "\n",
        "id2label={id:label for id,label in enumerate(labels)}\n",
        "\n",
        "label2id={label:id for id,label in enumerate(labels)}"
      ]
    },
    {
      "cell_type": "code",
      "source": [
        "#len(labels)"
      ],
      "metadata": {
        "id": "S3Jcoysaomrr"
      },
      "execution_count": null,
      "outputs": []
    },
    {
      "cell_type": "code",
      "execution_count": null,
      "metadata": {
        "colab": {
          "base_uri": "https://localhost:8080/"
        },
        "id": "MQ6iJXbFn86y",
        "outputId": "3ec3f883-b292-4d0b-c353-054ebc1ddad6"
      },
      "outputs": [
        {
          "output_type": "stream",
          "name": "stdout",
          "text": [
            "{'Against': 0, 'None': 1, 'Favor': 2} {0: 'Against', 1: 'None', 2: 'Favor'}\n"
          ]
        }
      ],
      "source": [
        "print(label2id, id2label)"
      ]
    },
    {
      "cell_type": "code",
      "execution_count": null,
      "metadata": {
        "id": "bz9g8EoARU6N",
        "outputId": "2e67765a-4e31-404c-c091-eef62758c28d",
        "colab": {
          "base_uri": "https://localhost:8080/",
          "height": 206
        }
      },
      "outputs": [
        {
          "output_type": "execute_result",
          "data": {
            "text/plain": [
              "                                                text   stance\n",
              "0  عشان يلمع صورته ويعنني تمكين المراه ويصير ترند...  Against\n",
              "1  روح حلل محد يم تطعيم كورونا شف الحرم البارح مل...     None\n",
              "2  يعرف بفوبيا المراه المتمكنه افه فكريه تغزو عقو...    Favor\n",
              "3  LEAP22 مءتمر يجمع اشهر وابرز المءثرين المجال ا...    Favor\n",
              "4  خصوصيه البيانات وحمايتها المنظمه مطلب ينبغي ان...    Favor"
            ],
            "text/html": [
              "\n",
              "  <div id=\"df-191a4cc5-9648-44fc-8f86-7143a1268f13\" class=\"colab-df-container\">\n",
              "    <div>\n",
              "<style scoped>\n",
              "    .dataframe tbody tr th:only-of-type {\n",
              "        vertical-align: middle;\n",
              "    }\n",
              "\n",
              "    .dataframe tbody tr th {\n",
              "        vertical-align: top;\n",
              "    }\n",
              "\n",
              "    .dataframe thead th {\n",
              "        text-align: right;\n",
              "    }\n",
              "</style>\n",
              "<table border=\"1\" class=\"dataframe\">\n",
              "  <thead>\n",
              "    <tr style=\"text-align: right;\">\n",
              "      <th></th>\n",
              "      <th>text</th>\n",
              "      <th>stance</th>\n",
              "    </tr>\n",
              "  </thead>\n",
              "  <tbody>\n",
              "    <tr>\n",
              "      <th>0</th>\n",
              "      <td>عشان يلمع صورته ويعنني تمكين المراه ويصير ترند...</td>\n",
              "      <td>Against</td>\n",
              "    </tr>\n",
              "    <tr>\n",
              "      <th>1</th>\n",
              "      <td>روح حلل محد يم تطعيم كورونا شف الحرم البارح مل...</td>\n",
              "      <td>None</td>\n",
              "    </tr>\n",
              "    <tr>\n",
              "      <th>2</th>\n",
              "      <td>يعرف بفوبيا المراه المتمكنه افه فكريه تغزو عقو...</td>\n",
              "      <td>Favor</td>\n",
              "    </tr>\n",
              "    <tr>\n",
              "      <th>3</th>\n",
              "      <td>LEAP22 مءتمر يجمع اشهر وابرز المءثرين المجال ا...</td>\n",
              "      <td>Favor</td>\n",
              "    </tr>\n",
              "    <tr>\n",
              "      <th>4</th>\n",
              "      <td>خصوصيه البيانات وحمايتها المنظمه مطلب ينبغي ان...</td>\n",
              "      <td>Favor</td>\n",
              "    </tr>\n",
              "  </tbody>\n",
              "</table>\n",
              "</div>\n",
              "    <div class=\"colab-df-buttons\">\n",
              "\n",
              "  <div class=\"colab-df-container\">\n",
              "    <button class=\"colab-df-convert\" onclick=\"convertToInteractive('df-191a4cc5-9648-44fc-8f86-7143a1268f13')\"\n",
              "            title=\"Convert this dataframe to an interactive table.\"\n",
              "            style=\"display:none;\">\n",
              "\n",
              "  <svg xmlns=\"http://www.w3.org/2000/svg\" height=\"24px\" viewBox=\"0 -960 960 960\">\n",
              "    <path d=\"M120-120v-720h720v720H120Zm60-500h600v-160H180v160Zm220 220h160v-160H400v160Zm0 220h160v-160H400v160ZM180-400h160v-160H180v160Zm440 0h160v-160H620v160ZM180-180h160v-160H180v160Zm440 0h160v-160H620v160Z\"/>\n",
              "  </svg>\n",
              "    </button>\n",
              "\n",
              "  <style>\n",
              "    .colab-df-container {\n",
              "      display:flex;\n",
              "      gap: 12px;\n",
              "    }\n",
              "\n",
              "    .colab-df-convert {\n",
              "      background-color: #E8F0FE;\n",
              "      border: none;\n",
              "      border-radius: 50%;\n",
              "      cursor: pointer;\n",
              "      display: none;\n",
              "      fill: #1967D2;\n",
              "      height: 32px;\n",
              "      padding: 0 0 0 0;\n",
              "      width: 32px;\n",
              "    }\n",
              "\n",
              "    .colab-df-convert:hover {\n",
              "      background-color: #E2EBFA;\n",
              "      box-shadow: 0px 1px 2px rgba(60, 64, 67, 0.3), 0px 1px 3px 1px rgba(60, 64, 67, 0.15);\n",
              "      fill: #174EA6;\n",
              "    }\n",
              "\n",
              "    .colab-df-buttons div {\n",
              "      margin-bottom: 4px;\n",
              "    }\n",
              "\n",
              "    [theme=dark] .colab-df-convert {\n",
              "      background-color: #3B4455;\n",
              "      fill: #D2E3FC;\n",
              "    }\n",
              "\n",
              "    [theme=dark] .colab-df-convert:hover {\n",
              "      background-color: #434B5C;\n",
              "      box-shadow: 0px 1px 3px 1px rgba(0, 0, 0, 0.15);\n",
              "      filter: drop-shadow(0px 1px 2px rgba(0, 0, 0, 0.3));\n",
              "      fill: #FFFFFF;\n",
              "    }\n",
              "  </style>\n",
              "\n",
              "    <script>\n",
              "      const buttonEl =\n",
              "        document.querySelector('#df-191a4cc5-9648-44fc-8f86-7143a1268f13 button.colab-df-convert');\n",
              "      buttonEl.style.display =\n",
              "        google.colab.kernel.accessAllowed ? 'block' : 'none';\n",
              "\n",
              "      async function convertToInteractive(key) {\n",
              "        const element = document.querySelector('#df-191a4cc5-9648-44fc-8f86-7143a1268f13');\n",
              "        const dataTable =\n",
              "          await google.colab.kernel.invokeFunction('convertToInteractive',\n",
              "                                                    [key], {});\n",
              "        if (!dataTable) return;\n",
              "\n",
              "        const docLinkHtml = 'Like what you see? Visit the ' +\n",
              "          '<a target=\"_blank\" href=https://colab.research.google.com/notebooks/data_table.ipynb>data table notebook</a>'\n",
              "          + ' to learn more about interactive tables.';\n",
              "        element.innerHTML = '';\n",
              "        dataTable['output_type'] = 'display_data';\n",
              "        await google.colab.output.renderOutput(dataTable, element);\n",
              "        const docLink = document.createElement('div');\n",
              "        docLink.innerHTML = docLinkHtml;\n",
              "        element.appendChild(docLink);\n",
              "      }\n",
              "    </script>\n",
              "  </div>\n",
              "\n",
              "\n",
              "<div id=\"df-e71d3f4b-356d-4918-9863-d3164488f50d\">\n",
              "  <button class=\"colab-df-quickchart\" onclick=\"quickchart('df-e71d3f4b-356d-4918-9863-d3164488f50d')\"\n",
              "            title=\"Suggest charts\"\n",
              "            style=\"display:none;\">\n",
              "\n",
              "<svg xmlns=\"http://www.w3.org/2000/svg\" height=\"24px\"viewBox=\"0 0 24 24\"\n",
              "     width=\"24px\">\n",
              "    <g>\n",
              "        <path d=\"M19 3H5c-1.1 0-2 .9-2 2v14c0 1.1.9 2 2 2h14c1.1 0 2-.9 2-2V5c0-1.1-.9-2-2-2zM9 17H7v-7h2v7zm4 0h-2V7h2v10zm4 0h-2v-4h2v4z\"/>\n",
              "    </g>\n",
              "</svg>\n",
              "  </button>\n",
              "\n",
              "<style>\n",
              "  .colab-df-quickchart {\n",
              "      --bg-color: #E8F0FE;\n",
              "      --fill-color: #1967D2;\n",
              "      --hover-bg-color: #E2EBFA;\n",
              "      --hover-fill-color: #174EA6;\n",
              "      --disabled-fill-color: #AAA;\n",
              "      --disabled-bg-color: #DDD;\n",
              "  }\n",
              "\n",
              "  [theme=dark] .colab-df-quickchart {\n",
              "      --bg-color: #3B4455;\n",
              "      --fill-color: #D2E3FC;\n",
              "      --hover-bg-color: #434B5C;\n",
              "      --hover-fill-color: #FFFFFF;\n",
              "      --disabled-bg-color: #3B4455;\n",
              "      --disabled-fill-color: #666;\n",
              "  }\n",
              "\n",
              "  .colab-df-quickchart {\n",
              "    background-color: var(--bg-color);\n",
              "    border: none;\n",
              "    border-radius: 50%;\n",
              "    cursor: pointer;\n",
              "    display: none;\n",
              "    fill: var(--fill-color);\n",
              "    height: 32px;\n",
              "    padding: 0;\n",
              "    width: 32px;\n",
              "  }\n",
              "\n",
              "  .colab-df-quickchart:hover {\n",
              "    background-color: var(--hover-bg-color);\n",
              "    box-shadow: 0 1px 2px rgba(60, 64, 67, 0.3), 0 1px 3px 1px rgba(60, 64, 67, 0.15);\n",
              "    fill: var(--button-hover-fill-color);\n",
              "  }\n",
              "\n",
              "  .colab-df-quickchart-complete:disabled,\n",
              "  .colab-df-quickchart-complete:disabled:hover {\n",
              "    background-color: var(--disabled-bg-color);\n",
              "    fill: var(--disabled-fill-color);\n",
              "    box-shadow: none;\n",
              "  }\n",
              "\n",
              "  .colab-df-spinner {\n",
              "    border: 2px solid var(--fill-color);\n",
              "    border-color: transparent;\n",
              "    border-bottom-color: var(--fill-color);\n",
              "    animation:\n",
              "      spin 1s steps(1) infinite;\n",
              "  }\n",
              "\n",
              "  @keyframes spin {\n",
              "    0% {\n",
              "      border-color: transparent;\n",
              "      border-bottom-color: var(--fill-color);\n",
              "      border-left-color: var(--fill-color);\n",
              "    }\n",
              "    20% {\n",
              "      border-color: transparent;\n",
              "      border-left-color: var(--fill-color);\n",
              "      border-top-color: var(--fill-color);\n",
              "    }\n",
              "    30% {\n",
              "      border-color: transparent;\n",
              "      border-left-color: var(--fill-color);\n",
              "      border-top-color: var(--fill-color);\n",
              "      border-right-color: var(--fill-color);\n",
              "    }\n",
              "    40% {\n",
              "      border-color: transparent;\n",
              "      border-right-color: var(--fill-color);\n",
              "      border-top-color: var(--fill-color);\n",
              "    }\n",
              "    60% {\n",
              "      border-color: transparent;\n",
              "      border-right-color: var(--fill-color);\n",
              "    }\n",
              "    80% {\n",
              "      border-color: transparent;\n",
              "      border-right-color: var(--fill-color);\n",
              "      border-bottom-color: var(--fill-color);\n",
              "    }\n",
              "    90% {\n",
              "      border-color: transparent;\n",
              "      border-bottom-color: var(--fill-color);\n",
              "    }\n",
              "  }\n",
              "</style>\n",
              "\n",
              "  <script>\n",
              "    async function quickchart(key) {\n",
              "      const quickchartButtonEl =\n",
              "        document.querySelector('#' + key + ' button');\n",
              "      quickchartButtonEl.disabled = true;  // To prevent multiple clicks.\n",
              "      quickchartButtonEl.classList.add('colab-df-spinner');\n",
              "      try {\n",
              "        const charts = await google.colab.kernel.invokeFunction(\n",
              "            'suggestCharts', [key], {});\n",
              "      } catch (error) {\n",
              "        console.error('Error during call to suggestCharts:', error);\n",
              "      }\n",
              "      quickchartButtonEl.classList.remove('colab-df-spinner');\n",
              "      quickchartButtonEl.classList.add('colab-df-quickchart-complete');\n",
              "    }\n",
              "    (() => {\n",
              "      let quickchartButtonEl =\n",
              "        document.querySelector('#df-e71d3f4b-356d-4918-9863-d3164488f50d button');\n",
              "      quickchartButtonEl.style.display =\n",
              "        google.colab.kernel.accessAllowed ? 'block' : 'none';\n",
              "    })();\n",
              "  </script>\n",
              "</div>\n",
              "    </div>\n",
              "  </div>\n"
            ],
            "application/vnd.google.colaboratory.intrinsic+json": {
              "type": "dataframe",
              "variable_name": "df_org",
              "summary": "{\n  \"name\": \"df_org\",\n  \"rows\": 3502,\n  \"fields\": [\n    {\n      \"column\": \"text\",\n      \"properties\": {\n        \"dtype\": \"string\",\n        \"num_unique_values\": 3490,\n        \"samples\": [\n          \"\\u062d\\u062f \\u064a\\u0635\\u062d\\u062d \\u0627\\u0630\\u0627 \\u0643\\u0646\\u062a \\u063a\\u0644\\u0637\\u0627\\u0646 \\u0627\\u0644\\u0645 \\u064a\\u0643\\u0646 \\u0627\\u0644\\u0645\\u0639\\u0646\\u064a\\u064a\\u0646 \\u0628\\u0627\\u0644\\u062a\\u062d\\u0648\\u0644 \\u0627\\u0644\\u0627\\u0644\\u0643\\u062a\\u0631\\u0648\\u0646\\u064a \\u0639\\u0627\\u0645 \\u0662\\u0660\\u0661\\u0662 \\u0646\\u0641\\u0633\\u0647\\u0645 \\u0627\\u0644\\u0645\\u0633\\u0621\\u0648\\u0644\\u064a\\u0646 \\u0639\\u0646\\u0643\\u062f\\u0633 \\u0627\\u0644\\u0646\\u062f\\u0648\\u0627\\u062a \\u0648\\u0627\\u0644\\u0645\\u0621\\u062a\\u0645\\u0631\\u0627\\u062a \\u0627\\u0644\\u0644\\u064a \\u062a\\u0642\\u0648\\u062f \\u0627\\u0644\\u064a \\u0627\\u0644\\u062a\\u062d\\u0648\\u0644 \\u0627\\u0644\\u062a\\u062d\\u0648\\u0644 \\u0646\\u0641\\u0633\\u0647 \\u062a\\u0639\\u062b\\u0631 \\u0627\\u0644\\u062f\\u0631\\u0628 \\u0627\\u0644\\u064a\\u0646 \\u0627\\u0644\\u062d\\u064a\\u0646 URL\",\n          \"\\u064a\\u0648\\u0645 \\u0627\\u0644\\u0645\\u0631\\u0627\\u0647 \\u0627\\u0644\\u0639\\u0627\\u0644\\u0645\\u064a \\u0639\\u0627\\u0645 \\u0648\\u0627\\u0646\\u062a\\u064a \\u0645\\u0644\\u0647\\u0645\\u0647 \\u0648\\u0637\\u0645\\u0648\\u062d\\u0647 \\u0648\\u0642\\u0648\\u064a\\u0647 \\u0648\\u0645\\u0646\\u062c\\u0632\\u0647 \\u0639\\u0627\\u0645 \\u0648\\u0627\\u0646\\u062a\\u064a \\u0627\\u0633\\u0627\\u0633 \\u0627\\u0644\\u0645\\u062c\\u062a\\u0645\\u0639 \\u0627\\u0633\\u062a\\u062e\\u062f\\u0645 \\u0643\\u0648\\u062f \\u0627\\u0644\\u062e\\u0635\\u0645 WOM10 \\u0648\\u0627\\u062d\\u0635\\u0644 \\u0639\\u0644\\u064a \\u062e\\u0635\\u0645 \\u0641\\u0648\\u0631\\u064a \\u0639\\u0644\\u064a \\u0627\\u0644\\u0627\\u062c\\u0647\\u0632\\u0647 \\u0627\\u0644\\u0635\\u063a\\u064a\\u0631\\u0647 \\u0648\\u0645\\u0646\\u062a\\u062c\\u0627\\u062a \\u0627\\u0644\\u0639\\u0646\\u0627\\u064a\\u0647 \\u0627\\u0644\\u0634\\u062e\\u0635\\u064a\\u0647 \\u0643\\u0648\\u0646\\u064a\\u0642\\u062f\\u0648\\u0647 \\u062a\\u0645\\u0643\\u064a\\u0646 \\u0627\\u0644\\u064a\\u0648\\u0645\\u0627\\u0644\\u0645\\u0631\\u0627\\u0647\\u0627\\u0644\\u0639\\u0627\\u0644\\u0645\\u064a \\u0647\\u064a\\u062a\\u0642\\u0648\\u062f\",\n          \"\\u063a\\u0631\\u0641\\u0647 \\u0627\\u0644\\u0634\\u0631\\u0642\\u064a\\u0647 \\u062a\\u0646\\u0638\\u0645 \\u0644\\u0642\\u0627\\u0621 \\u0631\\u0627\\u0621\\u062f\\u0627\\u062a \\u0627\\u0644\\u0627\\u0639\\u0645\\u0627\\u0644 \\u0628\\u0627\\u0644\\u0642\\u0637\\u064a\\u0641 \\u0634\\u0628\\u0643\\u0647 \\u0627\\u0645 \\u0627\\u0644\\u062d\\u0645\\u0627\\u0645 \\u0646\\u0638\\u0645\\u062a \\u063a\\u0631\\u0641\\u0647 \\u0627\\u0644\\u0634\\u0631\\u0642\\u064a\\u0647 \\u0645\\u0645\\u062b\\u0644\\u0647 \\u0628\\u0645\\u0631\\u0643\\u0632 \\u062a\\u0645\\u0643\\u064a\\u0646 \\u0627\\u0644\\u0645\\u0631\\u0627\\u0647 \\u0627\\u0645\\u0633 \\u0644\\u0642\\u0627\\u0621 \\u0631\\u0627\\u0621\\u062f\\u0627\\u062a \\u0627\\u0644\\u0627\\u0639\\u0645\\u0627\\u0644 \\u0628\\u0645\\u062d\\u0627\\u0641\\u0638\\u0647 \\u0627\\u0644\\u0642\\u0637\\u064a\\u0641 \\u0627\\u0633\\u062a\\u0636\\u0627\\u0641\\u062a \\u062e\\u0644\\u0627\\u0644\\u0647 \\u0645\\u062f\\u064a\\u0631\\u0647 \\u0627\\u0644\\u0641\\u0631\\u0639 \\u0627\\u0644\\u0646\\u0633\\u0627\\u0621\\u064a \\u0644\\u0628\\u0646\\u0643 \\u0627\\u0644\\u062a\\u0646\\u0645\\u064a\\u0647 \\u0627\\u0644\\u0627\\u062c\\u062a\\u0645\\u0627\\u0639\\u064a\\u0647 \\u0628\\u0627\\u0644\\u0645\\u0646\\u0637\\u0642\\u0647 \\u0641\\u0648\\u0632\\u064a\\u0647 \\u0627\\u0644\\u0642\\u062d\\u0637\\u0627\\u0646\\u064a \\u0627\\u0633\\u062a\\u0639\\u0631\\u0636\\u062a \\u062e\\u062f\\u0645\\u0627\\u062a\"\n        ],\n        \"semantic_type\": \"\",\n        \"description\": \"\"\n      }\n    },\n    {\n      \"column\": \"stance\",\n      \"properties\": {\n        \"dtype\": \"category\",\n        \"num_unique_values\": 3,\n        \"samples\": [\n          \"Against\",\n          \"None\",\n          \"Favor\"\n        ],\n        \"semantic_type\": \"\",\n        \"description\": \"\"\n      }\n    }\n  ]\n}"
            }
          },
          "metadata": {},
          "execution_count": 21
        }
      ],
      "source": [
        "df_org.head()"
      ]
    },
    {
      "cell_type": "markdown",
      "metadata": {
        "id": "p4T72T2BRU6N"
      },
      "source": [
        "### Create a new column to represent the categories in numerical form\n",
        "\n",
        "I need a 'label' column heading with numeric value else while running the epochs with `trainer.train()` I will get below error\n",
        "\n",
        "```\n",
        "BertForSequenceClassification ValueError: The model did not return\n",
        "\n",
        "```\n",
        "\n",
        "\n",
        "### In below I am doing it manually, but I could have also done it with pd.factorize() as below\n",
        "\n",
        "Pandas factorize method is used for encoding categorical variables as integers. It assigns a unique integer value to each distinct category in a given Series or DataFrame, effectively transforming non-numeric data into numeric values."
      ]
    },
    {
      "cell_type": "code",
      "execution_count": null,
      "metadata": {
        "id": "pEFvKXeYRU6O"
      },
      "outputs": [],
      "source": [
        "#df_org['labels_num'] = pd.factorize(df_org.category)[0]\n",
        "#df_org.head()"
      ]
    },
    {
      "cell_type": "code",
      "execution_count": null,
      "metadata": {
        "id": "HbdFN3VZoawV",
        "colab": {
          "base_uri": "https://localhost:8080/"
        },
        "outputId": "533229e5-ca8c-42ed-d71e-9b32002035f8"
      },
      "outputs": [
        {
          "output_type": "stream",
          "name": "stderr",
          "text": [
            "<ipython-input-22-0c81b20623f5>:2: SettingWithCopyWarning: \n",
            "A value is trying to be set on a copy of a slice from a DataFrame.\n",
            "Try using .loc[row_indexer,col_indexer] = value instead\n",
            "\n",
            "See the caveats in the documentation: https://pandas.pydata.org/pandas-docs/stable/user_guide/indexing.html#returning-a-view-versus-a-copy\n",
            "  df_org[\"labels\"]= pd.factorize(df_org.stance)[0]\n"
          ]
        }
      ],
      "source": [
        "#df_org[\"labels\"]= df_org[\"Intent_ID\"] -1\n",
        "df_org[\"labels\"]= pd.factorize(df_org.stance)[0]\n",
        "#df_org[\"labels\"]= df_org.stance.map(lambda x: label2id[x.strip()]) #Intent_en"
      ]
    },
    {
      "cell_type": "code",
      "source": [
        "df_org.tail(10)"
      ],
      "metadata": {
        "colab": {
          "base_uri": "https://localhost:8080/",
          "height": 363
        },
        "id": "ZWt3lVJs1Fi7",
        "outputId": "c1fa0c84-0fad-45d4-e68b-8722e3f0a9f2"
      },
      "execution_count": null,
      "outputs": [
        {
          "output_type": "execute_result",
          "data": {
            "text/plain": [
              "                                                   text   stance  labels\n",
              "3492  ظل رءيه 2030 صناعه السياحه انتظرت اليوم ساعات ...    Favor       2\n",
              "3493  تحديات للتحول الرقمي الموارد البشريه التحولالر...     None       1\n",
              "3494  تمكين المراه يعني فتح المجال للعمل مجالات تناس...    Favor       2\n",
              "3495  وحده الحسنات القليله كورونا لجوء الكثير المحلا...    Favor       2\n",
              "3496  التحول النظام الورقي الي النظام الرقمي يعني اس...    Favor       2\n",
              "3497  جماعه الخير انا اهلي حاشتنا كورونا خلصنا العام...     None       1\n",
              "3498  للاسف مدراء الدواءر العقليات القديمه سبب تعثر ...    Favor       2\n",
              "3499  عصر تمكين المراه وانما عصر تدمير الاسره والمجت...  Against       0\n",
              "3500  ياجماعه الخير يعقل اليوم جهه خدميه تذهب لانجاز...    Favor       2\n",
              "3501   التحول الالكتروني يقضي علي الفوضي ويرتقي بالمهنه    Favor       2"
            ],
            "text/html": [
              "\n",
              "  <div id=\"df-dedc9606-55aa-4c44-993d-4c3fad31ebcc\" class=\"colab-df-container\">\n",
              "    <div>\n",
              "<style scoped>\n",
              "    .dataframe tbody tr th:only-of-type {\n",
              "        vertical-align: middle;\n",
              "    }\n",
              "\n",
              "    .dataframe tbody tr th {\n",
              "        vertical-align: top;\n",
              "    }\n",
              "\n",
              "    .dataframe thead th {\n",
              "        text-align: right;\n",
              "    }\n",
              "</style>\n",
              "<table border=\"1\" class=\"dataframe\">\n",
              "  <thead>\n",
              "    <tr style=\"text-align: right;\">\n",
              "      <th></th>\n",
              "      <th>text</th>\n",
              "      <th>stance</th>\n",
              "      <th>labels</th>\n",
              "    </tr>\n",
              "  </thead>\n",
              "  <tbody>\n",
              "    <tr>\n",
              "      <th>3492</th>\n",
              "      <td>ظل رءيه 2030 صناعه السياحه انتظرت اليوم ساعات ...</td>\n",
              "      <td>Favor</td>\n",
              "      <td>2</td>\n",
              "    </tr>\n",
              "    <tr>\n",
              "      <th>3493</th>\n",
              "      <td>تحديات للتحول الرقمي الموارد البشريه التحولالر...</td>\n",
              "      <td>None</td>\n",
              "      <td>1</td>\n",
              "    </tr>\n",
              "    <tr>\n",
              "      <th>3494</th>\n",
              "      <td>تمكين المراه يعني فتح المجال للعمل مجالات تناس...</td>\n",
              "      <td>Favor</td>\n",
              "      <td>2</td>\n",
              "    </tr>\n",
              "    <tr>\n",
              "      <th>3495</th>\n",
              "      <td>وحده الحسنات القليله كورونا لجوء الكثير المحلا...</td>\n",
              "      <td>Favor</td>\n",
              "      <td>2</td>\n",
              "    </tr>\n",
              "    <tr>\n",
              "      <th>3496</th>\n",
              "      <td>التحول النظام الورقي الي النظام الرقمي يعني اس...</td>\n",
              "      <td>Favor</td>\n",
              "      <td>2</td>\n",
              "    </tr>\n",
              "    <tr>\n",
              "      <th>3497</th>\n",
              "      <td>جماعه الخير انا اهلي حاشتنا كورونا خلصنا العام...</td>\n",
              "      <td>None</td>\n",
              "      <td>1</td>\n",
              "    </tr>\n",
              "    <tr>\n",
              "      <th>3498</th>\n",
              "      <td>للاسف مدراء الدواءر العقليات القديمه سبب تعثر ...</td>\n",
              "      <td>Favor</td>\n",
              "      <td>2</td>\n",
              "    </tr>\n",
              "    <tr>\n",
              "      <th>3499</th>\n",
              "      <td>عصر تمكين المراه وانما عصر تدمير الاسره والمجت...</td>\n",
              "      <td>Against</td>\n",
              "      <td>0</td>\n",
              "    </tr>\n",
              "    <tr>\n",
              "      <th>3500</th>\n",
              "      <td>ياجماعه الخير يعقل اليوم جهه خدميه تذهب لانجاز...</td>\n",
              "      <td>Favor</td>\n",
              "      <td>2</td>\n",
              "    </tr>\n",
              "    <tr>\n",
              "      <th>3501</th>\n",
              "      <td>التحول الالكتروني يقضي علي الفوضي ويرتقي بالمهنه</td>\n",
              "      <td>Favor</td>\n",
              "      <td>2</td>\n",
              "    </tr>\n",
              "  </tbody>\n",
              "</table>\n",
              "</div>\n",
              "    <div class=\"colab-df-buttons\">\n",
              "\n",
              "  <div class=\"colab-df-container\">\n",
              "    <button class=\"colab-df-convert\" onclick=\"convertToInteractive('df-dedc9606-55aa-4c44-993d-4c3fad31ebcc')\"\n",
              "            title=\"Convert this dataframe to an interactive table.\"\n",
              "            style=\"display:none;\">\n",
              "\n",
              "  <svg xmlns=\"http://www.w3.org/2000/svg\" height=\"24px\" viewBox=\"0 -960 960 960\">\n",
              "    <path d=\"M120-120v-720h720v720H120Zm60-500h600v-160H180v160Zm220 220h160v-160H400v160Zm0 220h160v-160H400v160ZM180-400h160v-160H180v160Zm440 0h160v-160H620v160ZM180-180h160v-160H180v160Zm440 0h160v-160H620v160Z\"/>\n",
              "  </svg>\n",
              "    </button>\n",
              "\n",
              "  <style>\n",
              "    .colab-df-container {\n",
              "      display:flex;\n",
              "      gap: 12px;\n",
              "    }\n",
              "\n",
              "    .colab-df-convert {\n",
              "      background-color: #E8F0FE;\n",
              "      border: none;\n",
              "      border-radius: 50%;\n",
              "      cursor: pointer;\n",
              "      display: none;\n",
              "      fill: #1967D2;\n",
              "      height: 32px;\n",
              "      padding: 0 0 0 0;\n",
              "      width: 32px;\n",
              "    }\n",
              "\n",
              "    .colab-df-convert:hover {\n",
              "      background-color: #E2EBFA;\n",
              "      box-shadow: 0px 1px 2px rgba(60, 64, 67, 0.3), 0px 1px 3px 1px rgba(60, 64, 67, 0.15);\n",
              "      fill: #174EA6;\n",
              "    }\n",
              "\n",
              "    .colab-df-buttons div {\n",
              "      margin-bottom: 4px;\n",
              "    }\n",
              "\n",
              "    [theme=dark] .colab-df-convert {\n",
              "      background-color: #3B4455;\n",
              "      fill: #D2E3FC;\n",
              "    }\n",
              "\n",
              "    [theme=dark] .colab-df-convert:hover {\n",
              "      background-color: #434B5C;\n",
              "      box-shadow: 0px 1px 3px 1px rgba(0, 0, 0, 0.15);\n",
              "      filter: drop-shadow(0px 1px 2px rgba(0, 0, 0, 0.3));\n",
              "      fill: #FFFFFF;\n",
              "    }\n",
              "  </style>\n",
              "\n",
              "    <script>\n",
              "      const buttonEl =\n",
              "        document.querySelector('#df-dedc9606-55aa-4c44-993d-4c3fad31ebcc button.colab-df-convert');\n",
              "      buttonEl.style.display =\n",
              "        google.colab.kernel.accessAllowed ? 'block' : 'none';\n",
              "\n",
              "      async function convertToInteractive(key) {\n",
              "        const element = document.querySelector('#df-dedc9606-55aa-4c44-993d-4c3fad31ebcc');\n",
              "        const dataTable =\n",
              "          await google.colab.kernel.invokeFunction('convertToInteractive',\n",
              "                                                    [key], {});\n",
              "        if (!dataTable) return;\n",
              "\n",
              "        const docLinkHtml = 'Like what you see? Visit the ' +\n",
              "          '<a target=\"_blank\" href=https://colab.research.google.com/notebooks/data_table.ipynb>data table notebook</a>'\n",
              "          + ' to learn more about interactive tables.';\n",
              "        element.innerHTML = '';\n",
              "        dataTable['output_type'] = 'display_data';\n",
              "        await google.colab.output.renderOutput(dataTable, element);\n",
              "        const docLink = document.createElement('div');\n",
              "        docLink.innerHTML = docLinkHtml;\n",
              "        element.appendChild(docLink);\n",
              "      }\n",
              "    </script>\n",
              "  </div>\n",
              "\n",
              "\n",
              "<div id=\"df-58da31fe-88b1-4495-bc35-b192b6b52b16\">\n",
              "  <button class=\"colab-df-quickchart\" onclick=\"quickchart('df-58da31fe-88b1-4495-bc35-b192b6b52b16')\"\n",
              "            title=\"Suggest charts\"\n",
              "            style=\"display:none;\">\n",
              "\n",
              "<svg xmlns=\"http://www.w3.org/2000/svg\" height=\"24px\"viewBox=\"0 0 24 24\"\n",
              "     width=\"24px\">\n",
              "    <g>\n",
              "        <path d=\"M19 3H5c-1.1 0-2 .9-2 2v14c0 1.1.9 2 2 2h14c1.1 0 2-.9 2-2V5c0-1.1-.9-2-2-2zM9 17H7v-7h2v7zm4 0h-2V7h2v10zm4 0h-2v-4h2v4z\"/>\n",
              "    </g>\n",
              "</svg>\n",
              "  </button>\n",
              "\n",
              "<style>\n",
              "  .colab-df-quickchart {\n",
              "      --bg-color: #E8F0FE;\n",
              "      --fill-color: #1967D2;\n",
              "      --hover-bg-color: #E2EBFA;\n",
              "      --hover-fill-color: #174EA6;\n",
              "      --disabled-fill-color: #AAA;\n",
              "      --disabled-bg-color: #DDD;\n",
              "  }\n",
              "\n",
              "  [theme=dark] .colab-df-quickchart {\n",
              "      --bg-color: #3B4455;\n",
              "      --fill-color: #D2E3FC;\n",
              "      --hover-bg-color: #434B5C;\n",
              "      --hover-fill-color: #FFFFFF;\n",
              "      --disabled-bg-color: #3B4455;\n",
              "      --disabled-fill-color: #666;\n",
              "  }\n",
              "\n",
              "  .colab-df-quickchart {\n",
              "    background-color: var(--bg-color);\n",
              "    border: none;\n",
              "    border-radius: 50%;\n",
              "    cursor: pointer;\n",
              "    display: none;\n",
              "    fill: var(--fill-color);\n",
              "    height: 32px;\n",
              "    padding: 0;\n",
              "    width: 32px;\n",
              "  }\n",
              "\n",
              "  .colab-df-quickchart:hover {\n",
              "    background-color: var(--hover-bg-color);\n",
              "    box-shadow: 0 1px 2px rgba(60, 64, 67, 0.3), 0 1px 3px 1px rgba(60, 64, 67, 0.15);\n",
              "    fill: var(--button-hover-fill-color);\n",
              "  }\n",
              "\n",
              "  .colab-df-quickchart-complete:disabled,\n",
              "  .colab-df-quickchart-complete:disabled:hover {\n",
              "    background-color: var(--disabled-bg-color);\n",
              "    fill: var(--disabled-fill-color);\n",
              "    box-shadow: none;\n",
              "  }\n",
              "\n",
              "  .colab-df-spinner {\n",
              "    border: 2px solid var(--fill-color);\n",
              "    border-color: transparent;\n",
              "    border-bottom-color: var(--fill-color);\n",
              "    animation:\n",
              "      spin 1s steps(1) infinite;\n",
              "  }\n",
              "\n",
              "  @keyframes spin {\n",
              "    0% {\n",
              "      border-color: transparent;\n",
              "      border-bottom-color: var(--fill-color);\n",
              "      border-left-color: var(--fill-color);\n",
              "    }\n",
              "    20% {\n",
              "      border-color: transparent;\n",
              "      border-left-color: var(--fill-color);\n",
              "      border-top-color: var(--fill-color);\n",
              "    }\n",
              "    30% {\n",
              "      border-color: transparent;\n",
              "      border-left-color: var(--fill-color);\n",
              "      border-top-color: var(--fill-color);\n",
              "      border-right-color: var(--fill-color);\n",
              "    }\n",
              "    40% {\n",
              "      border-color: transparent;\n",
              "      border-right-color: var(--fill-color);\n",
              "      border-top-color: var(--fill-color);\n",
              "    }\n",
              "    60% {\n",
              "      border-color: transparent;\n",
              "      border-right-color: var(--fill-color);\n",
              "    }\n",
              "    80% {\n",
              "      border-color: transparent;\n",
              "      border-right-color: var(--fill-color);\n",
              "      border-bottom-color: var(--fill-color);\n",
              "    }\n",
              "    90% {\n",
              "      border-color: transparent;\n",
              "      border-bottom-color: var(--fill-color);\n",
              "    }\n",
              "  }\n",
              "</style>\n",
              "\n",
              "  <script>\n",
              "    async function quickchart(key) {\n",
              "      const quickchartButtonEl =\n",
              "        document.querySelector('#' + key + ' button');\n",
              "      quickchartButtonEl.disabled = true;  // To prevent multiple clicks.\n",
              "      quickchartButtonEl.classList.add('colab-df-spinner');\n",
              "      try {\n",
              "        const charts = await google.colab.kernel.invokeFunction(\n",
              "            'suggestCharts', [key], {});\n",
              "      } catch (error) {\n",
              "        console.error('Error during call to suggestCharts:', error);\n",
              "      }\n",
              "      quickchartButtonEl.classList.remove('colab-df-spinner');\n",
              "      quickchartButtonEl.classList.add('colab-df-quickchart-complete');\n",
              "    }\n",
              "    (() => {\n",
              "      let quickchartButtonEl =\n",
              "        document.querySelector('#df-58da31fe-88b1-4495-bc35-b192b6b52b16 button');\n",
              "      quickchartButtonEl.style.display =\n",
              "        google.colab.kernel.accessAllowed ? 'block' : 'none';\n",
              "    })();\n",
              "  </script>\n",
              "</div>\n",
              "    </div>\n",
              "  </div>\n"
            ],
            "application/vnd.google.colaboratory.intrinsic+json": {
              "type": "dataframe",
              "summary": "{\n  \"name\": \"df_org\",\n  \"rows\": 10,\n  \"fields\": [\n    {\n      \"column\": \"text\",\n      \"properties\": {\n        \"dtype\": \"string\",\n        \"num_unique_values\": 10,\n        \"samples\": [\n          \"\\u064a\\u0627\\u062c\\u0645\\u0627\\u0639\\u0647 \\u0627\\u0644\\u062e\\u064a\\u0631 \\u064a\\u0639\\u0642\\u0644 \\u0627\\u0644\\u064a\\u0648\\u0645 \\u062c\\u0647\\u0647 \\u062e\\u062f\\u0645\\u064a\\u0647 \\u062a\\u0630\\u0647\\u0628 \\u0644\\u0627\\u0646\\u062c\\u0627\\u0632 \\u0645\\u0639\\u0627\\u0645\\u0644\\u0647 \\u062a\\u062c\\u062f \\u0627\\u0644\\u0631\\u062f \\u0627\\u0646 \\u0627\\u0644\\u0633\\u064a\\u0633\\u062a\\u0645 \\u0639\\u0637\\u0644\\u0627\\u0646 \\u064a\\u0648\\u0645\\u064a\\u0646 \\u0648\\u0641\\u0648\\u0642\\u0647\\u0645 \\u0627\\u062c\\u0627\\u0632\\u0647 \\u0646\\u0647\\u0627\\u064a\\u0647 \\u0627\\u0644\\u0627\\u0633\\u0628\\u0648\\u0639 \\u0627\\u0644\\u064a\\u0648\\u0645 \\u0646\\u062a\\u0643\\u0644\\u0645 \\u0627\\u0644\\u062e\\u062f\\u0645\\u0627\\u062a \\u0627\\u0644\\u062a\\u062d\\u0648\\u0644 \\u0627\\u0644\\u0627\\u0644\\u0643\\u062a\\u0631\\u0648\\u0646\\u064a \\u0648\\u0645\\u0627\\u0632\\u0644\\u0646\\u0627 \\u0639\\u0632\\u0644\\u0647 \\u0627\\u0644\\u063a\\u064a\\u0631 \\u0627\\u0642\\u0631\\u0627\\u0631 \\u0627\\u0644\\u0642\\u0631\\u0627\\u0631\\u0627\\u062a \\u0633\\u0647\\u0644 \\u0639\\u0644\\u064a \\u0627\\u0631\\u0636 \\u062a\\u0631\\u064a \\u0627\\u0644\\u0639\\u0643\\u0633\",\n          \"\\u062a\\u062d\\u062f\\u064a\\u0627\\u062a \\u0644\\u0644\\u062a\\u062d\\u0648\\u0644 \\u0627\\u0644\\u0631\\u0642\\u0645\\u064a \\u0627\\u0644\\u0645\\u0648\\u0627\\u0631\\u062f \\u0627\\u0644\\u0628\\u0634\\u0631\\u064a\\u0647 \\u0627\\u0644\\u062a\\u062d\\u0648\\u0644\\u0627\\u0644\\u0631\\u0642\\u0645\\u064a \\u0627\\u0644\\u0645\\u0648\\u0627\\u0631\\u062f\\u0627\\u0644\\u0628\\u0634\\u0631\\u064a\\u0647 \\u0628\\u064a\\u0621\\u0647\\u0627\\u0644\\u0639\\u0645\\u0644 \\u0627\\u0644\\u0645\\u062c\\u062a\\u0645\\u0639\\u0627\\u0644\\u0648\\u0638\\u064a\\u0641\\u064a URL\",\n          \"\\u062c\\u0645\\u0627\\u0639\\u0647 \\u0627\\u0644\\u062e\\u064a\\u0631 \\u0627\\u0646\\u0627 \\u0627\\u0647\\u0644\\u064a \\u062d\\u0627\\u0634\\u062a\\u0646\\u0627 \\u0643\\u0648\\u0631\\u0648\\u0646\\u0627 \\u062e\\u0644\\u0635\\u0646\\u0627 \\u0627\\u0644\\u0639\\u0627\\u0645 \\u0627\\u0644\\u0645\\u0627\\u0636\\u064a \\u0645\\u0637\\u0639\\u0645\\u064a\\u0646 \\u062a\\u0637\\u0639\\u064a\\u0645 \\u0643\\u0648\\u0641\\u064a\\u062f 19 \\u0644\\u064a\\u0634 \\u0644\\u0627\\u0632\\u0645 \\u0646\\u0644\\u062a\\u0632\\u0645 \\u0628\\u0627\\u0644\\u062d\\u0638\\u0631 \\u0627\\u0644\\u0645\\u0641\\u0631\\u0648\\u0636 \\u0643\\u0631\\u062a \\u0627\\u0644\\u062a\\u0637\\u0639\\u064a\\u0645 \\u0628\\u062f\\u0627\\u0644 \\u0627\\u0644\\u0647\\u0648\\u064a\\u0647 \\u064a\\u062e\\u0644\\u0648\\u0646\\u0627 \\u0646\\u0645\\u0627\\u0631\\u0633 \\u062d\\u064a\\u0627\\u062a\\u0646\\u0627 \\u0645\\u0627\\u064a\\u0635\\u064a\\u0631 \\u062d\\u0627\\u0644\\u0646\\u0627 \\u062d\\u0627\\u0644 \\u0627\\u0644\\u062c\\u0645\\u064a\\u0639\"\n        ],\n        \"semantic_type\": \"\",\n        \"description\": \"\"\n      }\n    },\n    {\n      \"column\": \"stance\",\n      \"properties\": {\n        \"dtype\": \"category\",\n        \"num_unique_values\": 3,\n        \"samples\": [\n          \"Favor\",\n          \"None\",\n          \"Against\"\n        ],\n        \"semantic_type\": \"\",\n        \"description\": \"\"\n      }\n    },\n    {\n      \"column\": \"labels\",\n      \"properties\": {\n        \"dtype\": \"number\",\n        \"std\": 0,\n        \"min\": 0,\n        \"max\": 2,\n        \"num_unique_values\": 3,\n        \"samples\": [\n          2,\n          1,\n          0\n        ],\n        \"semantic_type\": \"\",\n        \"description\": \"\"\n      }\n    }\n  ]\n}"
            }
          },
          "metadata": {},
          "execution_count": 23
        }
      ]
    },
    {
      "cell_type": "code",
      "source": [
        "the_labels = df_org['labels'].unique().tolist()\n",
        "the_labels"
      ],
      "metadata": {
        "id": "t_IoF38zJtO7",
        "colab": {
          "base_uri": "https://localhost:8080/"
        },
        "outputId": "dfdab488-62f8-4c6d-f33a-4484796904ec"
      },
      "execution_count": null,
      "outputs": [
        {
          "output_type": "execute_result",
          "data": {
            "text/plain": [
              "[0, 1, 2]"
            ]
          },
          "metadata": {},
          "execution_count": 24
        }
      ]
    },
    {
      "cell_type": "code",
      "execution_count": null,
      "metadata": {
        "id": "zeNYOXNBGe1B"
      },
      "outputs": [],
      "source": [
        "#df_org.category.value_counts().plot(kind='pie', figsize=(3,3))"
      ]
    },
    {
      "cell_type": "code",
      "source": [
        "df_org.stance.value_counts().plot(kind='pie', figsize=(3,3))"
      ],
      "metadata": {
        "colab": {
          "base_uri": "https://localhost:8080/",
          "height": 285
        },
        "id": "wDPlihKiuEv7",
        "outputId": "6700d8c8-4c64-400d-cd11-3d0265a027ce"
      },
      "execution_count": null,
      "outputs": [
        {
          "output_type": "execute_result",
          "data": {
            "text/plain": [
              "<Axes: ylabel='stance'>"
            ]
          },
          "metadata": {},
          "execution_count": 26
        },
        {
          "output_type": "display_data",
          "data": {
            "text/plain": [
              "<Figure size 300x300 with 1 Axes>"
            ],
            "image/png": "[encoded data removed]"
          },
          "metadata": {}
        }
      ]
    },
    {
      "cell_type": "code",
      "source": [
        "df_org.stance.value_counts().plot(kind='bar', figsize=(3,3))"
      ],
      "metadata": {
        "colab": {
          "base_uri": "https://localhost:8080/",
          "height": 346
        },
        "id": "oEzgV8S-vDsf",
        "outputId": "1ed8cc50-bd93-4a6a-9634-b7b0d20c7577"
      },
      "execution_count": null,
      "outputs": [
        {
          "output_type": "execute_result",
          "data": {
            "text/plain": [
              "<Axes: >"
            ]
          },
          "metadata": {},
          "execution_count": 27
        },
        {
          "output_type": "display_data",
          "data": {
            "text/plain": [
              "<Figure size 300x300 with 1 Axes>"
            ],
            "image/png": "[encoded data removed]"
          },
          "metadata": {}
        }
      ]
    },
    {
      "cell_type": "markdown",
      "source": [
        "# The test of new model begins here."
      ],
      "metadata": {
        "id": "xt2Rse6fe4Xq"
      }
    },
    {
      "cell_type": "code",
      "source": [
        "\"\"\"\n",
        "from transformers import AutoModelForSequenceClassification, AutoTokenizer\n",
        "model_name = \"asafaya/bert-base-arabic-sentiment\"\n",
        "tokenizer = AutoTokenizer.from_pretrained(model_name)\n",
        "model = AutoModelForSequenceClassification.from_pretrained(model_name)\n",
        "\"\"\""
      ],
      "metadata": {
        "colab": {
          "base_uri": "https://localhost:8080/",
          "height": 52
        },
        "id": "WvHtSvCQe8qS",
        "outputId": "a8569807-5fcc-41a5-bb8c-52bec3ae7ccf"
      },
      "execution_count": null,
      "outputs": [
        {
          "output_type": "execute_result",
          "data": {
            "text/plain": [
              "'\\nfrom transformers import AutoModelForSequenceClassification, AutoTokenizer\\nmodel_name = \"asafaya/bert-base-arabic-sentiment\"\\ntokenizer = AutoTokenizer.from_pretrained(model_name)\\nmodel = AutoModelForSequenceClassification.from_pretrained(model_name)\\n'"
            ],
            "application/vnd.google.colaboratory.intrinsic+json": {
              "type": "string"
            }
          },
          "metadata": {},
          "execution_count": 38
        }
      ]
    },
    {
      "cell_type": "code",
      "source": [
        "model_name = \"aubmindlab/bert-base-arabertv01\"\n",
        "#model_name = \"aubmindlab/bert-base-arabertv02\"\n",
        "#model_name = \"asafaya/bert-base-arabic-sentiment\""
      ],
      "metadata": {
        "id": "7Zbd431LsgFo"
      },
      "execution_count": 22,
      "outputs": []
    },
    {
      "cell_type": "code",
      "execution_count": null,
      "metadata": {
        "id": "r80yPEvU79rx",
        "colab": {
          "base_uri": "https://localhost:8080/",
          "height": 145,
          "referenced_widgets": [
            "78f68185ed334f1bb2748b588e0e859f",
            "a0c77cafaf264f2ead46c6003012928d",
            "98c30c1053054f2ca6eefa71e321b24e",
            "55a01d3066c94cc89c6fc600f4189d05",
            "18a6837fd35a459bb66af58348ff970d",
            "16c266141823442a8f9b5e4770ca75cf",
            "c4f71ac82d294d1b8a03d138f449bc19",
            "a99d7fa0b08646ea9dc85b6843f71b28",
            "63d54441777842ff842d1aba1372fc8e",
            "5b1117ce58d3425f84b4c9c83e9e0b7f",
            "aa5cb75090b34f718b7b76f81c1298bd",
            "06acb2762b6443a1b96a161101089080",
            "b324b6cfc8324c089d638cabf1736cac",
            "de6be285537a4bbeabd61500d6bf7d88",
            "c33596a344d7400d8cc40ce2b951c390",
            "388c037dff844d67adc2da0c813a4f60",
            "b03f454c7f5a4aa9a93e1050452e2b6b",
            "06cc9fa8eb4949fcbaa7df7820dd3cba",
            "e75cb8f513a34f89a33c63c1ad937002",
            "41ebb746ac1b4dfd9fd759e56c1351f9",
            "a85bfca6502f4db5875eb9af8cfc321a",
            "290cb785460e468886ba5d7c7659ddaf",
            "fcb4e5fb90964d568a095019b6887b46",
            "448d1c5e1c7646cba7d40ffe6a9ab9e9",
            "0e2f8128b79345538f3931d6bbef3ea4",
            "ce001235b1004ece9fb7419d58ae0cba",
            "81c6f1a9c2e34d7cb75fb05c984b5437",
            "ae802e5223cd49d19cfde3102ff14f9e",
            "07112eec488d4dd2b0fea86008801ddd",
            "b3a58aa83ea7473f836d32f58c8af570",
            "bc3e8729f14a48cf9e3ee631ee2c726f",
            "faa160c0ad154891b1a1870e09e2e96b",
            "766bf6f3b58d4ce89fa5a55251abd789",
            "ffec1454619b4b57b43b7f03094d5c31",
            "e38c6176db674517b2aafe062a5af8c4",
            "20e3e6afbf744487862b7e402c600f2e",
            "c31468ff790b43c0af6ca50a2965e757",
            "a688097663f74f9498de398dce1c29e1",
            "77a2125ab7044561adb14d9c5d3248b9",
            "ad5d67080f044b1d8622f21a9f77067c",
            "dcc013d44b9a4e4eb10748e372a01c82",
            "249bdf4e36a04f5ea0df393970e33e8f",
            "6a8c57d552894ada9dd11a1600f262d2",
            "ac4102e4ef574f8fbd7ca9f8964940ae"
          ]
        },
        "outputId": "15dc65ad-a603-4f8a-d204-cbc137b5999a"
      },
      "outputs": [
        {
          "output_type": "display_data",
          "data": {
            "text/plain": [
              "tokenizer_config.json:   0%|          | 0.00/381 [00:00<?, ?B/s]"
            ],
            "application/vnd.jupyter.widget-view+json": {
              "version_major": 2,
              "version_minor": 0,
              "model_id": "78f68185ed334f1bb2748b588e0e859f"
            }
          },
          "metadata": {}
        },
        {
          "output_type": "display_data",
          "data": {
            "text/plain": [
              "vocab.txt:   0%|          | 0.00/825k [00:00<?, ?B/s]"
            ],
            "application/vnd.jupyter.widget-view+json": {
              "version_major": 2,
              "version_minor": 0,
              "model_id": "06acb2762b6443a1b96a161101089080"
            }
          },
          "metadata": {}
        },
        {
          "output_type": "display_data",
          "data": {
            "text/plain": [
              "tokenizer.json:   0%|          | 0.00/2.64M [00:00<?, ?B/s]"
            ],
            "application/vnd.jupyter.widget-view+json": {
              "version_major": 2,
              "version_minor": 0,
              "model_id": "fcb4e5fb90964d568a095019b6887b46"
            }
          },
          "metadata": {}
        },
        {
          "output_type": "display_data",
          "data": {
            "text/plain": [
              "special_tokens_map.json:   0%|          | 0.00/112 [00:00<?, ?B/s]"
            ],
            "application/vnd.jupyter.widget-view+json": {
              "version_major": 2,
              "version_minor": 0,
              "model_id": "ffec1454619b4b57b43b7f03094d5c31"
            }
          },
          "metadata": {}
        }
      ],
      "source": [
        "#tokenizer = BertTokenizerFast.from_pretrained(\"dbmdz/bert-base-turkish-uncased\", max_length=512)\n",
        "tokenizer = BertTokenizerFast.from_pretrained(model_name, max_length=128) #\n",
        "#tokenizer = BertTokenizerFast.from_pretrained(\"asafaya/bert-base-arabic-sentiment\", max_length=256)#"
      ]
    },
    {
      "cell_type": "markdown",
      "source": [
        "### OH: To find the max-length in a df."
      ],
      "metadata": {
        "id": "v-5k95uR6Mty"
      }
    },
    {
      "cell_type": "code",
      "source": [
        "# Function to tokenize text and calculate length\n",
        "def get_max_length(row):\n",
        "    #tokens = tokenizer(row['text'], return_tensors='pt')['input_ids'][0] #Note that text is the column name.\n",
        "    tokens = tokenizer(row['text'], return_tensors='pt')['input_ids'][0]\n",
        "    return len(tokens)"
      ],
      "metadata": {
        "id": "hmTBExcu6XLA"
      },
      "execution_count": null,
      "outputs": []
    },
    {
      "cell_type": "code",
      "source": [
        "# Apply the function to each row and find the maximum length\n",
        "max_length = df_org.apply(get_max_length, axis=1).max()\n",
        "\n",
        "print(\"Maximum length of sentences:\", max_length)"
      ],
      "metadata": {
        "colab": {
          "base_uri": "https://localhost:8080/"
        },
        "id": "7YbruSam6Krt",
        "outputId": "7ef459fe-4c19-4383-92e7-6aead5949edf"
      },
      "execution_count": null,
      "outputs": [
        {
          "output_type": "stream",
          "name": "stdout",
          "text": [
            "Maximum length of sentences: 103\n"
          ]
        }
      ]
    },
    {
      "cell_type": "code",
      "source": [
        "print(max_length) # 103\n",
        "mapping = {'None': 0, 'Favor': 1, 'Against': 2}"
      ],
      "metadata": {
        "colab": {
          "base_uri": "https://localhost:8080/"
        },
        "id": "kMMuCzTLY9yl",
        "outputId": "77e72bb9-47db-4312-b46d-b979f93e639e"
      },
      "execution_count": null,
      "outputs": [
        {
          "output_type": "stream",
          "name": "stdout",
          "text": [
            "103\n"
          ]
        }
      ]
    },
    {
      "cell_type": "code",
      "source": [
        "mapping"
      ],
      "metadata": {
        "colab": {
          "base_uri": "https://localhost:8080/"
        },
        "id": "IBjnLSiupDJL",
        "outputId": "45233de4-551c-4d46-95e6-880651c2056f"
      },
      "execution_count": null,
      "outputs": [
        {
          "output_type": "execute_result",
          "data": {
            "text/plain": [
              "{'None': 0, 'Favor': 1, 'Against': 2}"
            ]
          },
          "metadata": {},
          "execution_count": 259
        }
      ]
    },
    {
      "cell_type": "code",
      "source": [
        "df_org['labels'] = df['stance'].apply(lambda x: mapping[x])"
      ],
      "metadata": {
        "colab": {
          "base_uri": "https://localhost:8080/"
        },
        "id": "UxQ1SWrmRS9U",
        "outputId": "b60fb267-5012-47fc-cacf-9d219f557fab"
      },
      "execution_count": null,
      "outputs": [
        {
          "output_type": "stream",
          "name": "stderr",
          "text": [
            "<ipython-input-260-14c904a0f423>:1: SettingWithCopyWarning: \n",
            "A value is trying to be set on a copy of a slice from a DataFrame.\n",
            "Try using .loc[row_indexer,col_indexer] = value instead\n",
            "\n",
            "See the caveats in the documentation: https://pandas.pydata.org/pandas-docs/stable/user_guide/indexing.html#returning-a-view-versus-a-copy\n",
            "  df_org['labels'] = df['stance'].apply(lambda x: mapping[x])\n"
          ]
        }
      ]
    },
    {
      "cell_type": "code",
      "source": [
        "df_org.head(1)"
      ],
      "metadata": {
        "colab": {
          "base_uri": "https://localhost:8080/",
          "height": 80
        },
        "id": "W8A6UUmdXJNY",
        "outputId": "c01fdc2b-479a-4334-9c9f-65efb9bd778f"
      },
      "execution_count": null,
      "outputs": [
        {
          "output_type": "execute_result",
          "data": {
            "text/plain": [
              "                                                                                                                                                 text  \\\n",
              "0  عشان يلمع صورته ويعنني تمكين المراه ويصير ترند والحكومه اكثر تقمع المراه اخر شيء الي فرحانين بالقرار ودارسين قانون متوظفين كاشير مول راتبهم 3 الاف   \n",
              "\n",
              "    stance  labels  \n",
              "0  Against       2  "
            ],
            "text/html": [
              "\n",
              "  <div id=\"df-d461c7a1-5b79-453b-a3f3-68d1c861c244\" class=\"colab-df-container\">\n",
              "    <div>\n",
              "<style scoped>\n",
              "    .dataframe tbody tr th:only-of-type {\n",
              "        vertical-align: middle;\n",
              "    }\n",
              "\n",
              "    .dataframe tbody tr th {\n",
              "        vertical-align: top;\n",
              "    }\n",
              "\n",
              "    .dataframe thead th {\n",
              "        text-align: right;\n",
              "    }\n",
              "</style>\n",
              "<table border=\"1\" class=\"dataframe\">\n",
              "  <thead>\n",
              "    <tr style=\"text-align: right;\">\n",
              "      <th></th>\n",
              "      <th>text</th>\n",
              "      <th>stance</th>\n",
              "      <th>labels</th>\n",
              "    </tr>\n",
              "  </thead>\n",
              "  <tbody>\n",
              "    <tr>\n",
              "      <th>0</th>\n",
              "      <td>عشان يلمع صورته ويعنني تمكين المراه ويصير ترند والحكومه اكثر تقمع المراه اخر شيء الي فرحانين بالقرار ودارسين قانون متوظفين كاشير مول راتبهم 3 الاف</td>\n",
              "      <td>Against</td>\n",
              "      <td>2</td>\n",
              "    </tr>\n",
              "  </tbody>\n",
              "</table>\n",
              "</div>\n",
              "    <div class=\"colab-df-buttons\">\n",
              "\n",
              "  <div class=\"colab-df-container\">\n",
              "    <button class=\"colab-df-convert\" onclick=\"convertToInteractive('df-d461c7a1-5b79-453b-a3f3-68d1c861c244')\"\n",
              "            title=\"Convert this dataframe to an interactive table.\"\n",
              "            style=\"display:none;\">\n",
              "\n",
              "  <svg xmlns=\"http://www.w3.org/2000/svg\" height=\"24px\" viewBox=\"0 -960 960 960\">\n",
              "    <path d=\"M120-120v-720h720v720H120Zm60-500h600v-160H180v160Zm220 220h160v-160H400v160Zm0 220h160v-160H400v160ZM180-400h160v-160H180v160Zm440 0h160v-160H620v160ZM180-180h160v-160H180v160Zm440 0h160v-160H620v160Z\"/>\n",
              "  </svg>\n",
              "    </button>\n",
              "\n",
              "  <style>\n",
              "    .colab-df-container {\n",
              "      display:flex;\n",
              "      gap: 12px;\n",
              "    }\n",
              "\n",
              "    .colab-df-convert {\n",
              "      background-color: #E8F0FE;\n",
              "      border: none;\n",
              "      border-radius: 50%;\n",
              "      cursor: pointer;\n",
              "      display: none;\n",
              "      fill: #1967D2;\n",
              "      height: 32px;\n",
              "      padding: 0 0 0 0;\n",
              "      width: 32px;\n",
              "    }\n",
              "\n",
              "    .colab-df-convert:hover {\n",
              "      background-color: #E2EBFA;\n",
              "      box-shadow: 0px 1px 2px rgba(60, 64, 67, 0.3), 0px 1px 3px 1px rgba(60, 64, 67, 0.15);\n",
              "      fill: #174EA6;\n",
              "    }\n",
              "\n",
              "    .colab-df-buttons div {\n",
              "      margin-bottom: 4px;\n",
              "    }\n",
              "\n",
              "    [theme=dark] .colab-df-convert {\n",
              "      background-color: #3B4455;\n",
              "      fill: #D2E3FC;\n",
              "    }\n",
              "\n",
              "    [theme=dark] .colab-df-convert:hover {\n",
              "      background-color: #434B5C;\n",
              "      box-shadow: 0px 1px 3px 1px rgba(0, 0, 0, 0.15);\n",
              "      filter: drop-shadow(0px 1px 2px rgba(0, 0, 0, 0.3));\n",
              "      fill: #FFFFFF;\n",
              "    }\n",
              "  </style>\n",
              "\n",
              "    <script>\n",
              "      const buttonEl =\n",
              "        document.querySelector('#df-d461c7a1-5b79-453b-a3f3-68d1c861c244 button.colab-df-convert');\n",
              "      buttonEl.style.display =\n",
              "        google.colab.kernel.accessAllowed ? 'block' : 'none';\n",
              "\n",
              "      async function convertToInteractive(key) {\n",
              "        const element = document.querySelector('#df-d461c7a1-5b79-453b-a3f3-68d1c861c244');\n",
              "        const dataTable =\n",
              "          await google.colab.kernel.invokeFunction('convertToInteractive',\n",
              "                                                    [key], {});\n",
              "        if (!dataTable) return;\n",
              "\n",
              "        const docLinkHtml = 'Like what you see? Visit the ' +\n",
              "          '<a target=\"_blank\" href=https://colab.research.google.com/notebooks/data_table.ipynb>data table notebook</a>'\n",
              "          + ' to learn more about interactive tables.';\n",
              "        element.innerHTML = '';\n",
              "        dataTable['output_type'] = 'display_data';\n",
              "        await google.colab.output.renderOutput(dataTable, element);\n",
              "        const docLink = document.createElement('div');\n",
              "        docLink.innerHTML = docLinkHtml;\n",
              "        element.appendChild(docLink);\n",
              "      }\n",
              "    </script>\n",
              "  </div>\n",
              "\n",
              "    </div>\n",
              "  </div>\n"
            ],
            "application/vnd.google.colaboratory.intrinsic+json": {
              "type": "dataframe",
              "variable_name": "df_org",
              "summary": "{\n  \"name\": \"df_org\",\n  \"rows\": 3502,\n  \"fields\": [\n    {\n      \"column\": \"text\",\n      \"properties\": {\n        \"dtype\": \"string\",\n        \"num_unique_values\": 3490,\n        \"samples\": [\n          \"\\u062d\\u062f \\u064a\\u0635\\u062d\\u062d \\u0627\\u0630\\u0627 \\u0643\\u0646\\u062a \\u063a\\u0644\\u0637\\u0627\\u0646 \\u0627\\u0644\\u0645 \\u064a\\u0643\\u0646 \\u0627\\u0644\\u0645\\u0639\\u0646\\u064a\\u064a\\u0646 \\u0628\\u0627\\u0644\\u062a\\u062d\\u0648\\u0644 \\u0627\\u0644\\u0627\\u0644\\u0643\\u062a\\u0631\\u0648\\u0646\\u064a \\u0639\\u0627\\u0645 \\u0662\\u0660\\u0661\\u0662 \\u0646\\u0641\\u0633\\u0647\\u0645 \\u0627\\u0644\\u0645\\u0633\\u0621\\u0648\\u0644\\u064a\\u0646 \\u0639\\u0646\\u0643\\u062f\\u0633 \\u0627\\u0644\\u0646\\u062f\\u0648\\u0627\\u062a \\u0648\\u0627\\u0644\\u0645\\u0621\\u062a\\u0645\\u0631\\u0627\\u062a \\u0627\\u0644\\u0644\\u064a \\u062a\\u0642\\u0648\\u062f \\u0627\\u0644\\u064a \\u0627\\u0644\\u062a\\u062d\\u0648\\u0644 \\u0627\\u0644\\u062a\\u062d\\u0648\\u0644 \\u0646\\u0641\\u0633\\u0647 \\u062a\\u0639\\u062b\\u0631 \\u0627\\u0644\\u062f\\u0631\\u0628 \\u0627\\u0644\\u064a\\u0646 \\u0627\\u0644\\u062d\\u064a\\u0646 URL\",\n          \"\\u064a\\u0648\\u0645 \\u0627\\u0644\\u0645\\u0631\\u0627\\u0647 \\u0627\\u0644\\u0639\\u0627\\u0644\\u0645\\u064a \\u0639\\u0627\\u0645 \\u0648\\u0627\\u0646\\u062a\\u064a \\u0645\\u0644\\u0647\\u0645\\u0647 \\u0648\\u0637\\u0645\\u0648\\u062d\\u0647 \\u0648\\u0642\\u0648\\u064a\\u0647 \\u0648\\u0645\\u0646\\u062c\\u0632\\u0647 \\u0639\\u0627\\u0645 \\u0648\\u0627\\u0646\\u062a\\u064a \\u0627\\u0633\\u0627\\u0633 \\u0627\\u0644\\u0645\\u062c\\u062a\\u0645\\u0639 \\u0627\\u0633\\u062a\\u062e\\u062f\\u0645 \\u0643\\u0648\\u062f \\u0627\\u0644\\u062e\\u0635\\u0645 WOM10 \\u0648\\u0627\\u062d\\u0635\\u0644 \\u0639\\u0644\\u064a \\u062e\\u0635\\u0645 \\u0641\\u0648\\u0631\\u064a \\u0639\\u0644\\u064a \\u0627\\u0644\\u0627\\u062c\\u0647\\u0632\\u0647 \\u0627\\u0644\\u0635\\u063a\\u064a\\u0631\\u0647 \\u0648\\u0645\\u0646\\u062a\\u062c\\u0627\\u062a \\u0627\\u0644\\u0639\\u0646\\u0627\\u064a\\u0647 \\u0627\\u0644\\u0634\\u062e\\u0635\\u064a\\u0647 \\u0643\\u0648\\u0646\\u064a\\u0642\\u062f\\u0648\\u0647 \\u062a\\u0645\\u0643\\u064a\\u0646 \\u0627\\u0644\\u064a\\u0648\\u0645\\u0627\\u0644\\u0645\\u0631\\u0627\\u0647\\u0627\\u0644\\u0639\\u0627\\u0644\\u0645\\u064a \\u0647\\u064a\\u062a\\u0642\\u0648\\u062f\",\n          \"\\u063a\\u0631\\u0641\\u0647 \\u0627\\u0644\\u0634\\u0631\\u0642\\u064a\\u0647 \\u062a\\u0646\\u0638\\u0645 \\u0644\\u0642\\u0627\\u0621 \\u0631\\u0627\\u0621\\u062f\\u0627\\u062a \\u0627\\u0644\\u0627\\u0639\\u0645\\u0627\\u0644 \\u0628\\u0627\\u0644\\u0642\\u0637\\u064a\\u0641 \\u0634\\u0628\\u0643\\u0647 \\u0627\\u0645 \\u0627\\u0644\\u062d\\u0645\\u0627\\u0645 \\u0646\\u0638\\u0645\\u062a \\u063a\\u0631\\u0641\\u0647 \\u0627\\u0644\\u0634\\u0631\\u0642\\u064a\\u0647 \\u0645\\u0645\\u062b\\u0644\\u0647 \\u0628\\u0645\\u0631\\u0643\\u0632 \\u062a\\u0645\\u0643\\u064a\\u0646 \\u0627\\u0644\\u0645\\u0631\\u0627\\u0647 \\u0627\\u0645\\u0633 \\u0644\\u0642\\u0627\\u0621 \\u0631\\u0627\\u0621\\u062f\\u0627\\u062a \\u0627\\u0644\\u0627\\u0639\\u0645\\u0627\\u0644 \\u0628\\u0645\\u062d\\u0627\\u0641\\u0638\\u0647 \\u0627\\u0644\\u0642\\u0637\\u064a\\u0641 \\u0627\\u0633\\u062a\\u0636\\u0627\\u0641\\u062a \\u062e\\u0644\\u0627\\u0644\\u0647 \\u0645\\u062f\\u064a\\u0631\\u0647 \\u0627\\u0644\\u0641\\u0631\\u0639 \\u0627\\u0644\\u0646\\u0633\\u0627\\u0621\\u064a \\u0644\\u0628\\u0646\\u0643 \\u0627\\u0644\\u062a\\u0646\\u0645\\u064a\\u0647 \\u0627\\u0644\\u0627\\u062c\\u062a\\u0645\\u0627\\u0639\\u064a\\u0647 \\u0628\\u0627\\u0644\\u0645\\u0646\\u0637\\u0642\\u0647 \\u0641\\u0648\\u0632\\u064a\\u0647 \\u0627\\u0644\\u0642\\u062d\\u0637\\u0627\\u0646\\u064a \\u0627\\u0633\\u062a\\u0639\\u0631\\u0636\\u062a \\u062e\\u062f\\u0645\\u0627\\u062a\"\n        ],\n        \"semantic_type\": \"\",\n        \"description\": \"\"\n      }\n    },\n    {\n      \"column\": \"stance\",\n      \"properties\": {\n        \"dtype\": \"category\",\n        \"num_unique_values\": 3,\n        \"samples\": [\n          \"Against\",\n          \"None\",\n          \"Favor\"\n        ],\n        \"semantic_type\": \"\",\n        \"description\": \"\"\n      }\n    },\n    {\n      \"column\": \"labels\",\n      \"properties\": {\n        \"dtype\": \"number\",\n        \"std\": 0,\n        \"min\": 0,\n        \"max\": 2,\n        \"num_unique_values\": 3,\n        \"samples\": [\n          2,\n          0,\n          1\n        ],\n        \"semantic_type\": \"\",\n        \"description\": \"\"\n      }\n    }\n  ]\n}"
            }
          },
          "metadata": {},
          "execution_count": 264
        }
      ]
    },
    {
      "cell_type": "code",
      "execution_count": null,
      "metadata": {
        "id": "L7mT5FEU2Jyr"
      },
      "outputs": [],
      "source": [
        "## Done\n",
        "#model_name = \"aubmindlab/bert-base-arabertv01\"\n",
        "#model = BertForSequenceClassification.from_pretrained(model_name, num_labels=NUM_LABELS, id2label=id2label, label2id=label2id)\n",
        "#model.to(device)"
      ]
    },
    {
      "cell_type": "code",
      "source": [
        "#print(asd)\n",
        "model = BertForSequenceClassification.from_pretrained(model_name, num_labels=NUM_LABELS, id2label=id2label, label2id=label2id)\n",
        "model.to(device)"
      ],
      "metadata": {
        "id": "C8bi1m7vr3aT",
        "colab": {
          "base_uri": "https://localhost:8080/"
        },
        "outputId": "cecb2670-6037-40b4-bd3b-66a6b3dad711"
      },
      "execution_count": null,
      "outputs": [
        {
          "output_type": "stream",
          "name": "stderr",
          "text": [
            "Some weights of BertForSequenceClassification were not initialized from the model checkpoint at aubmindlab/bert-base-arabertv02 and are newly initialized: ['classifier.bias', 'classifier.weight']\n",
            "You should probably TRAIN this model on a down-stream task to be able to use it for predictions and inference.\n"
          ]
        },
        {
          "output_type": "execute_result",
          "data": {
            "text/plain": [
              "BertForSequenceClassification(\n",
              "  (bert): BertModel(\n",
              "    (embeddings): BertEmbeddings(\n",
              "      (word_embeddings): Embedding(64000, 768, padding_idx=0)\n",
              "      (position_embeddings): Embedding(512, 768)\n",
              "      (token_type_embeddings): Embedding(2, 768)\n",
              "      (LayerNorm): LayerNorm((768,), eps=1e-12, elementwise_affine=True)\n",
              "      (dropout): Dropout(p=0.1, inplace=False)\n",
              "    )\n",
              "    (encoder): BertEncoder(\n",
              "      (layer): ModuleList(\n",
              "        (0-11): 12 x BertLayer(\n",
              "          (attention): BertAttention(\n",
              "            (self): BertSelfAttention(\n",
              "              (query): Linear(in_features=768, out_features=768, bias=True)\n",
              "              (key): Linear(in_features=768, out_features=768, bias=True)\n",
              "              (value): Linear(in_features=768, out_features=768, bias=True)\n",
              "              (dropout): Dropout(p=0.1, inplace=False)\n",
              "            )\n",
              "            (output): BertSelfOutput(\n",
              "              (dense): Linear(in_features=768, out_features=768, bias=True)\n",
              "              (LayerNorm): LayerNorm((768,), eps=1e-12, elementwise_affine=True)\n",
              "              (dropout): Dropout(p=0.1, inplace=False)\n",
              "            )\n",
              "          )\n",
              "          (intermediate): BertIntermediate(\n",
              "            (dense): Linear(in_features=768, out_features=3072, bias=True)\n",
              "            (intermediate_act_fn): GELUActivation()\n",
              "          )\n",
              "          (output): BertOutput(\n",
              "            (dense): Linear(in_features=3072, out_features=768, bias=True)\n",
              "            (LayerNorm): LayerNorm((768,), eps=1e-12, elementwise_affine=True)\n",
              "            (dropout): Dropout(p=0.1, inplace=False)\n",
              "          )\n",
              "        )\n",
              "      )\n",
              "    )\n",
              "    (pooler): BertPooler(\n",
              "      (dense): Linear(in_features=768, out_features=768, bias=True)\n",
              "      (activation): Tanh()\n",
              "    )\n",
              "  )\n",
              "  (dropout): Dropout(p=0.1, inplace=False)\n",
              "  (classifier): Linear(in_features=768, out_features=3, bias=True)\n",
              ")"
            ]
          },
          "metadata": {},
          "execution_count": 265
        }
      ]
    },
    {
      "cell_type": "markdown",
      "metadata": {
        "id": "J85V2rxXRU6Q"
      },
      "source": [
        "## Useful information and understanding you know about the model from the above output\n",
        "\n",
        "**Model components:** The model consists of several key components, such as:\n",
        "\n",
        "* Embeddings (word, position, and token type embeddings)\n",
        "\n",
        "* Encoder layers (12 layers in this case, each with self-attention, intermediate, and output components)\n",
        "\n",
        "* Layer normalization and dropout layers for regularization\n",
        "\n",
        "* GELU activation functions used in the intermediate layers\n",
        "\n",
        "**Model dimensions:**\n",
        "\n",
        "* Word embeddings: The model has an embedding size of 768 dimensions and a vocabulary size of 32,000 tokens.\n",
        "\n",
        "* Position embeddings: The model can handle input sequences of up to 512 tokens in length.\n",
        "\n",
        "* Encoder layers: The model has 12 encoder layers, each with a hidden size of 768 and an intermediate layer size of 3072.\n",
        "\n",
        "* Task-specific classification layer: The BertForSequenceClassification model is designed for sequence classification tasks. It takes the final hidden state of the [CLS] token and passes it through a linear layer and a softmax function to produce class probabilities. In this case, the model is configured with a custom number of labels (NUM_LABELS) and label mappings (id2label, label2id)."
      ]
    },
    {
      "cell_type": "markdown",
      "metadata": {
        "id": "BDNghM3vRU6Q"
      },
      "source": [
        "--------------------------\n",
        "\n",
        "## Lets understand the flow of a raw input-text > through the pretrained BERT Model > and finally coming out on the other side of the model as a class prediction in the context of this task-specific fine-tuning.\n",
        "\n",
        "In BERT-based models like BertForSequenceClassification, the [CLS] token (short for \"classification\") serves as a special token that is prepended to the input sequence. It is designed to be used as an aggregate representation of the entire input sequence for classification tasks.\n",
        "\n",
        "Here's a step-by-step breakdown of how the [CLS] token is handled during fine-tuning for a specific classification task:\n",
        "\n",
        "Tokenization: During the pre-processing of the input text, the tokenizer inserts the [CLS] token at the beginning of the input sequence. For example, if the input text is \"This is a sample sentence.\", the tokenized input would look like: \"[CLS] This is a sample sentence.\"\n",
        "\n",
        "**Embeddings:** The tokenized input sequence, including the [CLS] token, is passed through the BERT model's embedding layers, which convert the tokens into continuous-valued word vectors.\n",
        "\n",
        "**Encoder layers:** The embedded input sequence is then processed through the BERT model's encoder layers, which consist of self-attention mechanisms and feed-forward neural networks. During this process, the model learns to capture the semantic and syntactic information present in the input sequence, as well as any relationships between the tokens.\n",
        "\n",
        "**Final hidden state of [CLS]:** At the end of the BERT model's encoder layers, each token has a corresponding hidden state vector. For the [CLS] token, its final hidden state is used as an aggregated representation of the entire input sequence. This vector is then passed to the task-specific classification layer.\n",
        "\n",
        "**Linear layer:** The final hidden state of the [CLS] token is fed into a linear layer, which maps the 768-dimensional vector (assuming the base BERT model) to a vector of size equal to the number of target classes. This is essentially a weight matrix multiplication followed by a bias term addition.\n",
        "\n",
        "**Softmax function:** The output of the linear layer is then passed through a softmax function, which converts the raw output values into class probabilities. The softmax function ensures that the sum of probabilities across all classes equals 1.\n",
        "\n",
        "**Prediction:** The class with the highest probability is chosen as the final prediction for the given input sequence.\n",
        "\n",
        "During task-specific fine-tuning, the model learns to adjust its weights and biases based on the training data and the target labels. This involves updating both the BERT model's pre-trained parameters and the task-specific classification layer's parameters through backpropagation and optimization techniques like gradient descent. This fine-tuning process allows the model to adapt to the specific classification task and improve its performance on the given dataset.\n",
        "\n",
        "-------------------\n",
        "\n",
        "## In the above task specific fine tuning do all of the weights of the pretrained BERT model gets modified during this finetuning process or only some of the weights get modified ?\n",
        "\n",
        "\n",
        "During task-specific fine-tuning, all of the weights of the pre-trained BERT model are potentially subject to modification, including the weights in the embedding layers, the encoder layers, and the classification layer. However, the extent to which each weight is modified depends on the learning rate, the specific task, and the training data.\n",
        "\n",
        "In general, fine-tuning a pre-trained model like BERT involves updating its weights to better adapt to the target task. When fine-tuning begins, the initial weights of the model come from the pre-trained model, which has already learned general language representations from a large-scale unsupervised task (e.g., masked language modeling).\n",
        "\n",
        "During fine-tuning, the model is exposed to the particular task-specific training data and labels, and the weights are updated using backpropagation and gradient descent.\n",
        "\n",
        "Typically, the learning rate for fine-tuning is set to be smaller than the learning rate used during pre-training. This is because the pre-trained model already has a good understanding of language, and the fine-tuning process aims to make small, incremental adjustments to the weights to adapt the model to the specific task without losing the valuable general language knowledge."
      ]
    },
    {
      "cell_type": "markdown",
      "metadata": {
        "id": "ZROZOxM9xi3l"
      },
      "source": [
        "## Splitting df_org\n"
      ]
    },
    {
      "cell_type": "code",
      "source": [
        "from sklearn.model_selection import train_test_split"
      ],
      "metadata": {
        "id": "qaAp7715wuEU"
      },
      "execution_count": null,
      "outputs": []
    },
    {
      "cell_type": "code",
      "source": [
        "# Split the data into train, validation, and test sets\n",
        "# TBD later, but for other cases!\n",
        "\n",
        "\"\"\"\n",
        "val_texts, test_texts, val_labels, test_labels = train_test_split(val_test_texts, val_test_labels, test_size=0.5, random_state=42)\n",
        "\n",
        "train_texts, val_test_texts, train_labels, val_test_labels = train_test_split(df_org['text'], df_org['labels'], test_size=0.25, random_state=42)\n",
        "\"\"\"\n",
        "\n",
        "## Feature\n",
        "X = list(df_org.text)\n",
        "\n",
        "##target\n",
        "y = list(df_org.labels)"
      ],
      "metadata": {
        "id": "4dEgz9bGb8Kn"
      },
      "execution_count": null,
      "outputs": []
    },
    {
      "cell_type": "code",
      "source": [
        "# Split data into train and test sets (the rest train, 350 for test or 10%)\n",
        "X_train, X_test, y_train, y_test = train_test_split(X, y, test_size=350, random_state=42)"
      ],
      "metadata": {
        "id": "mMR6nMK4vqgB"
      },
      "execution_count": null,
      "outputs": []
    },
    {
      "cell_type": "code",
      "source": [
        "# Split train data into train and validation sets (ca. 70% train, 20% validation)\n",
        "X_train, X_val, y_train, y_val = train_test_split(X_train, y_train, test_size=0.2, random_state=42)"
      ],
      "metadata": {
        "id": "ilxxgSmVwDUd"
      },
      "execution_count": null,
      "outputs": []
    },
    {
      "cell_type": "code",
      "source": [
        "SIZE= df_org.shape[0] # 3502\n",
        "SIZE"
      ],
      "metadata": {
        "colab": {
          "base_uri": "https://localhost:8080/"
        },
        "id": "JMYCLi2YxdaJ",
        "outputId": "ea136236-2a13-4a1b-cba8-08affa2b5228"
      },
      "execution_count": null,
      "outputs": [
        {
          "output_type": "execute_result",
          "data": {
            "text/plain": [
              "3502"
            ]
          },
          "metadata": {},
          "execution_count": 270
        }
      ]
    },
    {
      "cell_type": "code",
      "source": [
        "df_org.head(3)"
      ],
      "metadata": {
        "colab": {
          "base_uri": "https://localhost:8080/",
          "height": 143
        },
        "id": "uJh5MGCryR0L",
        "outputId": "8310055b-a495-4c7f-dd46-fbc5bfd23cac"
      },
      "execution_count": null,
      "outputs": [
        {
          "output_type": "execute_result",
          "data": {
            "text/plain": [
              "                                                                                                                                                                        text  \\\n",
              "0                         عشان يلمع صورته ويعنني تمكين المراه ويصير ترند والحكومه اكثر تقمع المراه اخر شيء الي فرحانين بالقرار ودارسين قانون متوظفين كاشير مول راتبهم 3 الاف   \n",
              "1                                                                                                        روح حلل محد يم تطعيم كورونا شف الحرم البارح مليونين بدون شرط تحصين😅   \n",
              "2  يعرف بفوبيا المراه المتمكنه افه فكريه تغزو عقول الرجال انه اذ راي تمكين للمراه حتي بسيطا فهو المرجح بالطبع ربطه للموضوع النسويه واتهام الفكره باكملها بالشيطنه والخبث URL   \n",
              "\n",
              "    stance  labels  \n",
              "0  Against       2  \n",
              "1     None       0  \n",
              "2    Favor       1  "
            ],
            "text/html": [
              "\n",
              "  <div id=\"df-e2e505cd-73cc-46d2-9722-b403d6785c06\" class=\"colab-df-container\">\n",
              "    <div>\n",
              "<style scoped>\n",
              "    .dataframe tbody tr th:only-of-type {\n",
              "        vertical-align: middle;\n",
              "    }\n",
              "\n",
              "    .dataframe tbody tr th {\n",
              "        vertical-align: top;\n",
              "    }\n",
              "\n",
              "    .dataframe thead th {\n",
              "        text-align: right;\n",
              "    }\n",
              "</style>\n",
              "<table border=\"1\" class=\"dataframe\">\n",
              "  <thead>\n",
              "    <tr style=\"text-align: right;\">\n",
              "      <th></th>\n",
              "      <th>text</th>\n",
              "      <th>stance</th>\n",
              "      <th>labels</th>\n",
              "    </tr>\n",
              "  </thead>\n",
              "  <tbody>\n",
              "    <tr>\n",
              "      <th>0</th>\n",
              "      <td>عشان يلمع صورته ويعنني تمكين المراه ويصير ترند والحكومه اكثر تقمع المراه اخر شيء الي فرحانين بالقرار ودارسين قانون متوظفين كاشير مول راتبهم 3 الاف</td>\n",
              "      <td>Against</td>\n",
              "      <td>2</td>\n",
              "    </tr>\n",
              "    <tr>\n",
              "      <th>1</th>\n",
              "      <td>روح حلل محد يم تطعيم كورونا شف الحرم البارح مليونين بدون شرط تحصين😅</td>\n",
              "      <td>None</td>\n",
              "      <td>0</td>\n",
              "    </tr>\n",
              "    <tr>\n",
              "      <th>2</th>\n",
              "      <td>يعرف بفوبيا المراه المتمكنه افه فكريه تغزو عقول الرجال انه اذ راي تمكين للمراه حتي بسيطا فهو المرجح بالطبع ربطه للموضوع النسويه واتهام الفكره باكملها بالشيطنه والخبث URL</td>\n",
              "      <td>Favor</td>\n",
              "      <td>1</td>\n",
              "    </tr>\n",
              "  </tbody>\n",
              "</table>\n",
              "</div>\n",
              "    <div class=\"colab-df-buttons\">\n",
              "\n",
              "  <div class=\"colab-df-container\">\n",
              "    <button class=\"colab-df-convert\" onclick=\"convertToInteractive('df-e2e505cd-73cc-46d2-9722-b403d6785c06')\"\n",
              "            title=\"Convert this dataframe to an interactive table.\"\n",
              "            style=\"display:none;\">\n",
              "\n",
              "  <svg xmlns=\"http://www.w3.org/2000/svg\" height=\"24px\" viewBox=\"0 -960 960 960\">\n",
              "    <path d=\"M120-120v-720h720v720H120Zm60-500h600v-160H180v160Zm220 220h160v-160H400v160Zm0 220h160v-160H400v160ZM180-400h160v-160H180v160Zm440 0h160v-160H620v160ZM180-180h160v-160H180v160Zm440 0h160v-160H620v160Z\"/>\n",
              "  </svg>\n",
              "    </button>\n",
              "\n",
              "  <style>\n",
              "    .colab-df-container {\n",
              "      display:flex;\n",
              "      gap: 12px;\n",
              "    }\n",
              "\n",
              "    .colab-df-convert {\n",
              "      background-color: #E8F0FE;\n",
              "      border: none;\n",
              "      border-radius: 50%;\n",
              "      cursor: pointer;\n",
              "      display: none;\n",
              "      fill: #1967D2;\n",
              "      height: 32px;\n",
              "      padding: 0 0 0 0;\n",
              "      width: 32px;\n",
              "    }\n",
              "\n",
              "    .colab-df-convert:hover {\n",
              "      background-color: #E2EBFA;\n",
              "      box-shadow: 0px 1px 2px rgba(60, 64, 67, 0.3), 0px 1px 3px 1px rgba(60, 64, 67, 0.15);\n",
              "      fill: #174EA6;\n",
              "    }\n",
              "\n",
              "    .colab-df-buttons div {\n",
              "      margin-bottom: 4px;\n",
              "    }\n",
              "\n",
              "    [theme=dark] .colab-df-convert {\n",
              "      background-color: #3B4455;\n",
              "      fill: #D2E3FC;\n",
              "    }\n",
              "\n",
              "    [theme=dark] .colab-df-convert:hover {\n",
              "      background-color: #434B5C;\n",
              "      box-shadow: 0px 1px 3px 1px rgba(0, 0, 0, 0.15);\n",
              "      filter: drop-shadow(0px 1px 2px rgba(0, 0, 0, 0.3));\n",
              "      fill: #FFFFFF;\n",
              "    }\n",
              "  </style>\n",
              "\n",
              "    <script>\n",
              "      const buttonEl =\n",
              "        document.querySelector('#df-e2e505cd-73cc-46d2-9722-b403d6785c06 button.colab-df-convert');\n",
              "      buttonEl.style.display =\n",
              "        google.colab.kernel.accessAllowed ? 'block' : 'none';\n",
              "\n",
              "      async function convertToInteractive(key) {\n",
              "        const element = document.querySelector('#df-e2e505cd-73cc-46d2-9722-b403d6785c06');\n",
              "        const dataTable =\n",
              "          await google.colab.kernel.invokeFunction('convertToInteractive',\n",
              "                                                    [key], {});\n",
              "        if (!dataTable) return;\n",
              "\n",
              "        const docLinkHtml = 'Like what you see? Visit the ' +\n",
              "          '<a target=\"_blank\" href=https://colab.research.google.com/notebooks/data_table.ipynb>data table notebook</a>'\n",
              "          + ' to learn more about interactive tables.';\n",
              "        element.innerHTML = '';\n",
              "        dataTable['output_type'] = 'display_data';\n",
              "        await google.colab.output.renderOutput(dataTable, element);\n",
              "        const docLink = document.createElement('div');\n",
              "        docLink.innerHTML = docLinkHtml;\n",
              "        element.appendChild(docLink);\n",
              "      }\n",
              "    </script>\n",
              "  </div>\n",
              "\n",
              "\n",
              "<div id=\"df-cd1238b3-5944-45e1-a269-7dad1811d720\">\n",
              "  <button class=\"colab-df-quickchart\" onclick=\"quickchart('df-cd1238b3-5944-45e1-a269-7dad1811d720')\"\n",
              "            title=\"Suggest charts\"\n",
              "            style=\"display:none;\">\n",
              "\n",
              "<svg xmlns=\"http://www.w3.org/2000/svg\" height=\"24px\"viewBox=\"0 0 24 24\"\n",
              "     width=\"24px\">\n",
              "    <g>\n",
              "        <path d=\"M19 3H5c-1.1 0-2 .9-2 2v14c0 1.1.9 2 2 2h14c1.1 0 2-.9 2-2V5c0-1.1-.9-2-2-2zM9 17H7v-7h2v7zm4 0h-2V7h2v10zm4 0h-2v-4h2v4z\"/>\n",
              "    </g>\n",
              "</svg>\n",
              "  </button>\n",
              "\n",
              "<style>\n",
              "  .colab-df-quickchart {\n",
              "      --bg-color: #E8F0FE;\n",
              "      --fill-color: #1967D2;\n",
              "      --hover-bg-color: #E2EBFA;\n",
              "      --hover-fill-color: #174EA6;\n",
              "      --disabled-fill-color: #AAA;\n",
              "      --disabled-bg-color: #DDD;\n",
              "  }\n",
              "\n",
              "  [theme=dark] .colab-df-quickchart {\n",
              "      --bg-color: #3B4455;\n",
              "      --fill-color: #D2E3FC;\n",
              "      --hover-bg-color: #434B5C;\n",
              "      --hover-fill-color: #FFFFFF;\n",
              "      --disabled-bg-color: #3B4455;\n",
              "      --disabled-fill-color: #666;\n",
              "  }\n",
              "\n",
              "  .colab-df-quickchart {\n",
              "    background-color: var(--bg-color);\n",
              "    border: none;\n",
              "    border-radius: 50%;\n",
              "    cursor: pointer;\n",
              "    display: none;\n",
              "    fill: var(--fill-color);\n",
              "    height: 32px;\n",
              "    padding: 0;\n",
              "    width: 32px;\n",
              "  }\n",
              "\n",
              "  .colab-df-quickchart:hover {\n",
              "    background-color: var(--hover-bg-color);\n",
              "    box-shadow: 0 1px 2px rgba(60, 64, 67, 0.3), 0 1px 3px 1px rgba(60, 64, 67, 0.15);\n",
              "    fill: var(--button-hover-fill-color);\n",
              "  }\n",
              "\n",
              "  .colab-df-quickchart-complete:disabled,\n",
              "  .colab-df-quickchart-complete:disabled:hover {\n",
              "    background-color: var(--disabled-bg-color);\n",
              "    fill: var(--disabled-fill-color);\n",
              "    box-shadow: none;\n",
              "  }\n",
              "\n",
              "  .colab-df-spinner {\n",
              "    border: 2px solid var(--fill-color);\n",
              "    border-color: transparent;\n",
              "    border-bottom-color: var(--fill-color);\n",
              "    animation:\n",
              "      spin 1s steps(1) infinite;\n",
              "  }\n",
              "\n",
              "  @keyframes spin {\n",
              "    0% {\n",
              "      border-color: transparent;\n",
              "      border-bottom-color: var(--fill-color);\n",
              "      border-left-color: var(--fill-color);\n",
              "    }\n",
              "    20% {\n",
              "      border-color: transparent;\n",
              "      border-left-color: var(--fill-color);\n",
              "      border-top-color: var(--fill-color);\n",
              "    }\n",
              "    30% {\n",
              "      border-color: transparent;\n",
              "      border-left-color: var(--fill-color);\n",
              "      border-top-color: var(--fill-color);\n",
              "      border-right-color: var(--fill-color);\n",
              "    }\n",
              "    40% {\n",
              "      border-color: transparent;\n",
              "      border-right-color: var(--fill-color);\n",
              "      border-top-color: var(--fill-color);\n",
              "    }\n",
              "    60% {\n",
              "      border-color: transparent;\n",
              "      border-right-color: var(--fill-color);\n",
              "    }\n",
              "    80% {\n",
              "      border-color: transparent;\n",
              "      border-right-color: var(--fill-color);\n",
              "      border-bottom-color: var(--fill-color);\n",
              "    }\n",
              "    90% {\n",
              "      border-color: transparent;\n",
              "      border-bottom-color: var(--fill-color);\n",
              "    }\n",
              "  }\n",
              "</style>\n",
              "\n",
              "  <script>\n",
              "    async function quickchart(key) {\n",
              "      const quickchartButtonEl =\n",
              "        document.querySelector('#' + key + ' button');\n",
              "      quickchartButtonEl.disabled = true;  // To prevent multiple clicks.\n",
              "      quickchartButtonEl.classList.add('colab-df-spinner');\n",
              "      try {\n",
              "        const charts = await google.colab.kernel.invokeFunction(\n",
              "            'suggestCharts', [key], {});\n",
              "      } catch (error) {\n",
              "        console.error('Error during call to suggestCharts:', error);\n",
              "      }\n",
              "      quickchartButtonEl.classList.remove('colab-df-spinner');\n",
              "      quickchartButtonEl.classList.add('colab-df-quickchart-complete');\n",
              "    }\n",
              "    (() => {\n",
              "      let quickchartButtonEl =\n",
              "        document.querySelector('#df-cd1238b3-5944-45e1-a269-7dad1811d720 button');\n",
              "      quickchartButtonEl.style.display =\n",
              "        google.colab.kernel.accessAllowed ? 'block' : 'none';\n",
              "    })();\n",
              "  </script>\n",
              "</div>\n",
              "    </div>\n",
              "  </div>\n"
            ],
            "application/vnd.google.colaboratory.intrinsic+json": {
              "type": "dataframe",
              "variable_name": "df_org",
              "summary": "{\n  \"name\": \"df_org\",\n  \"rows\": 3502,\n  \"fields\": [\n    {\n      \"column\": \"text\",\n      \"properties\": {\n        \"dtype\": \"string\",\n        \"num_unique_values\": 3490,\n        \"samples\": [\n          \"\\u062d\\u062f \\u064a\\u0635\\u062d\\u062d \\u0627\\u0630\\u0627 \\u0643\\u0646\\u062a \\u063a\\u0644\\u0637\\u0627\\u0646 \\u0627\\u0644\\u0645 \\u064a\\u0643\\u0646 \\u0627\\u0644\\u0645\\u0639\\u0646\\u064a\\u064a\\u0646 \\u0628\\u0627\\u0644\\u062a\\u062d\\u0648\\u0644 \\u0627\\u0644\\u0627\\u0644\\u0643\\u062a\\u0631\\u0648\\u0646\\u064a \\u0639\\u0627\\u0645 \\u0662\\u0660\\u0661\\u0662 \\u0646\\u0641\\u0633\\u0647\\u0645 \\u0627\\u0644\\u0645\\u0633\\u0621\\u0648\\u0644\\u064a\\u0646 \\u0639\\u0646\\u0643\\u062f\\u0633 \\u0627\\u0644\\u0646\\u062f\\u0648\\u0627\\u062a \\u0648\\u0627\\u0644\\u0645\\u0621\\u062a\\u0645\\u0631\\u0627\\u062a \\u0627\\u0644\\u0644\\u064a \\u062a\\u0642\\u0648\\u062f \\u0627\\u0644\\u064a \\u0627\\u0644\\u062a\\u062d\\u0648\\u0644 \\u0627\\u0644\\u062a\\u062d\\u0648\\u0644 \\u0646\\u0641\\u0633\\u0647 \\u062a\\u0639\\u062b\\u0631 \\u0627\\u0644\\u062f\\u0631\\u0628 \\u0627\\u0644\\u064a\\u0646 \\u0627\\u0644\\u062d\\u064a\\u0646 URL\",\n          \"\\u064a\\u0648\\u0645 \\u0627\\u0644\\u0645\\u0631\\u0627\\u0647 \\u0627\\u0644\\u0639\\u0627\\u0644\\u0645\\u064a \\u0639\\u0627\\u0645 \\u0648\\u0627\\u0646\\u062a\\u064a \\u0645\\u0644\\u0647\\u0645\\u0647 \\u0648\\u0637\\u0645\\u0648\\u062d\\u0647 \\u0648\\u0642\\u0648\\u064a\\u0647 \\u0648\\u0645\\u0646\\u062c\\u0632\\u0647 \\u0639\\u0627\\u0645 \\u0648\\u0627\\u0646\\u062a\\u064a \\u0627\\u0633\\u0627\\u0633 \\u0627\\u0644\\u0645\\u062c\\u062a\\u0645\\u0639 \\u0627\\u0633\\u062a\\u062e\\u062f\\u0645 \\u0643\\u0648\\u062f \\u0627\\u0644\\u062e\\u0635\\u0645 WOM10 \\u0648\\u0627\\u062d\\u0635\\u0644 \\u0639\\u0644\\u064a \\u062e\\u0635\\u0645 \\u0641\\u0648\\u0631\\u064a \\u0639\\u0644\\u064a \\u0627\\u0644\\u0627\\u062c\\u0647\\u0632\\u0647 \\u0627\\u0644\\u0635\\u063a\\u064a\\u0631\\u0647 \\u0648\\u0645\\u0646\\u062a\\u062c\\u0627\\u062a \\u0627\\u0644\\u0639\\u0646\\u0627\\u064a\\u0647 \\u0627\\u0644\\u0634\\u062e\\u0635\\u064a\\u0647 \\u0643\\u0648\\u0646\\u064a\\u0642\\u062f\\u0648\\u0647 \\u062a\\u0645\\u0643\\u064a\\u0646 \\u0627\\u0644\\u064a\\u0648\\u0645\\u0627\\u0644\\u0645\\u0631\\u0627\\u0647\\u0627\\u0644\\u0639\\u0627\\u0644\\u0645\\u064a \\u0647\\u064a\\u062a\\u0642\\u0648\\u062f\",\n          \"\\u063a\\u0631\\u0641\\u0647 \\u0627\\u0644\\u0634\\u0631\\u0642\\u064a\\u0647 \\u062a\\u0646\\u0638\\u0645 \\u0644\\u0642\\u0627\\u0621 \\u0631\\u0627\\u0621\\u062f\\u0627\\u062a \\u0627\\u0644\\u0627\\u0639\\u0645\\u0627\\u0644 \\u0628\\u0627\\u0644\\u0642\\u0637\\u064a\\u0641 \\u0634\\u0628\\u0643\\u0647 \\u0627\\u0645 \\u0627\\u0644\\u062d\\u0645\\u0627\\u0645 \\u0646\\u0638\\u0645\\u062a \\u063a\\u0631\\u0641\\u0647 \\u0627\\u0644\\u0634\\u0631\\u0642\\u064a\\u0647 \\u0645\\u0645\\u062b\\u0644\\u0647 \\u0628\\u0645\\u0631\\u0643\\u0632 \\u062a\\u0645\\u0643\\u064a\\u0646 \\u0627\\u0644\\u0645\\u0631\\u0627\\u0647 \\u0627\\u0645\\u0633 \\u0644\\u0642\\u0627\\u0621 \\u0631\\u0627\\u0621\\u062f\\u0627\\u062a \\u0627\\u0644\\u0627\\u0639\\u0645\\u0627\\u0644 \\u0628\\u0645\\u062d\\u0627\\u0641\\u0638\\u0647 \\u0627\\u0644\\u0642\\u0637\\u064a\\u0641 \\u0627\\u0633\\u062a\\u0636\\u0627\\u0641\\u062a \\u062e\\u0644\\u0627\\u0644\\u0647 \\u0645\\u062f\\u064a\\u0631\\u0647 \\u0627\\u0644\\u0641\\u0631\\u0639 \\u0627\\u0644\\u0646\\u0633\\u0627\\u0621\\u064a \\u0644\\u0628\\u0646\\u0643 \\u0627\\u0644\\u062a\\u0646\\u0645\\u064a\\u0647 \\u0627\\u0644\\u0627\\u062c\\u062a\\u0645\\u0627\\u0639\\u064a\\u0647 \\u0628\\u0627\\u0644\\u0645\\u0646\\u0637\\u0642\\u0647 \\u0641\\u0648\\u0632\\u064a\\u0647 \\u0627\\u0644\\u0642\\u062d\\u0637\\u0627\\u0646\\u064a \\u0627\\u0633\\u062a\\u0639\\u0631\\u0636\\u062a \\u062e\\u062f\\u0645\\u0627\\u062a\"\n        ],\n        \"semantic_type\": \"\",\n        \"description\": \"\"\n      }\n    },\n    {\n      \"column\": \"stance\",\n      \"properties\": {\n        \"dtype\": \"category\",\n        \"num_unique_values\": 3,\n        \"samples\": [\n          \"Against\",\n          \"None\",\n          \"Favor\"\n        ],\n        \"semantic_type\": \"\",\n        \"description\": \"\"\n      }\n    },\n    {\n      \"column\": \"labels\",\n      \"properties\": {\n        \"dtype\": \"number\",\n        \"std\": 0,\n        \"min\": 0,\n        \"max\": 2,\n        \"num_unique_values\": 3,\n        \"samples\": [\n          2,\n          0,\n          1\n        ],\n        \"semantic_type\": \"\",\n        \"description\": \"\"\n      }\n    }\n  ]\n}"
            }
          },
          "metadata": {},
          "execution_count": 271
        }
      ]
    },
    {
      "cell_type": "code",
      "execution_count": null,
      "metadata": {
        "id": "HM58CfgUZ0oK"
      },
      "outputs": [],
      "source": [
        "\"\"\"\n",
        "train_texts= list(df_org.text[:SIZE//2])\n",
        "\n",
        "val_texts=   list(df_org.text[SIZE//2:(3*SIZE)//4 ])\n",
        "\n",
        "test_texts=  list(df_org.text[(3*SIZE)//4:])\n",
        "\n",
        "train_labels= list(df_org.labels[:SIZE//2])\n",
        "\n",
        "val_labels=   list(df_org.labels[SIZE//2:(3*SIZE)//4])\n",
        "\n",
        "test_labels=  list(df_org.labels[(3*SIZE)//4:])\n",
        "\"\"\""
      ]
    },
    {
      "cell_type": "code",
      "execution_count": null,
      "metadata": {
        "colab": {
          "base_uri": "https://localhost:8080/"
        },
        "id": "vwe5Bt8CfhdU",
        "outputId": "bb417610-a09e-46c9-cdbf-14202144961e"
      },
      "outputs": [
        {
          "output_type": "execute_result",
          "data": {
            "text/plain": [
              "(2016, 505, 350)"
            ]
          },
          "metadata": {},
          "execution_count": 272
        }
      ],
      "source": [
        "len(X_train), len(X_val), len(X_test)"
      ]
    },
    {
      "cell_type": "code",
      "execution_count": null,
      "metadata": {
        "id": "snOgiQe2mbpx"
      },
      "outputs": [],
      "source": [
        "train_encodings = tokenizer(X_train, truncation=True, padding=True)\n",
        "val_encodings  = tokenizer(X_val, truncation=True, padding=True) #val_texts_new\n",
        "test_encodings = tokenizer(X_test, truncation=True, padding=True)"
      ]
    },
    {
      "cell_type": "code",
      "execution_count": null,
      "metadata": {
        "id": "dj3aABBzRU6R"
      },
      "outputs": [],
      "source": [
        "class DataLoader(Dataset):\n",
        "    \"\"\"\n",
        "    Custom Dataset class for handling tokenized text data and corresponding labels.\n",
        "    Inherits from torch.utils.data.Dataset.\n",
        "    \"\"\"\n",
        "    def __init__(self, encodings, labels):\n",
        "        \"\"\"\n",
        "        Initializes the DataLoader class with encodings and labels.\n",
        "\n",
        "        Args:\n",
        "            encodings (dict): A dictionary containing tokenized input text data\n",
        "                              (e.g., 'input_ids', 'token_type_ids', 'attention_mask').\n",
        "            labels (list): A list of integer labels for the input text data.\n",
        "        \"\"\"\n",
        "        self.encodings = encodings\n",
        "        self.labels = labels\n",
        "\n",
        "    def __getitem__(self, idx):\n",
        "        \"\"\"\n",
        "        Returns a dictionary containing tokenized data and the corresponding label for a given index.\n",
        "\n",
        "        Args:\n",
        "            idx (int): The index of the data item to retrieve.\n",
        "\n",
        "        Returns:\n",
        "            item (dict): A dictionary containing the tokenized data and the corresponding label.\n",
        "        \"\"\"\n",
        "        # Retrieve tokenized data for the given index\n",
        "        item = {key: torch.tensor(val[idx]) for key, val in self.encodings.items()}\n",
        "        # Add the label for the given index to the item dictionary\n",
        "        item['labels'] = torch.tensor(self.labels[idx])\n",
        "        return item\n",
        "\n",
        "    def __len__(self):\n",
        "        \"\"\"\n",
        "        Returns the number of data items in the dataset.\n",
        "\n",
        "        Returns:\n",
        "            (int): The number of data items in the dataset.\n",
        "        \"\"\"\n",
        "        return len(self.labels)\n"
      ]
    },
    {
      "cell_type": "markdown",
      "metadata": {
        "id": "XXAZS9HdRU6S"
      },
      "source": [
        "## From above DataLoader() The line `item = {key: torch.tensor(val[idx]) for key, val in self.encodings.items()}`\n",
        "\n",
        "Here I use a dictionary comprehension that constructs a new dictionary called `item`. This line converts the encoding values associated with the input text at the given index idx into PyTorch tensors.\n",
        "\n",
        "self.encodings is a dictionary containing tokenized input text with keys like 'input_ids', 'token_type_ids', and 'attention_mask'. These keys represent different aspects of the encoded text that are needed for processing by the BERT model. The values associated with these keys are lists or arrays of integers.\n",
        "\n",
        ".items() is a method that returns a view object displaying a list of a dictionary's key-value pairs as tuples.\n",
        "\n",
        "The dictionary comprehension iterates through the key-value pairs of self.encodings with the variables key and val. For each key-value pair, it creates a new key-value pair in the item dictionary, where the key remains the same, and the value is a PyTorch tensor created from the elements at index idx of the original value.\n",
        "\n",
        "In essence, this line of code is converting the relevant parts of the input encodings (e.g., input IDs, attention masks) at the given index idx into PyTorch tensors and storing them in a new dictionary called item. This format is necessary for input to the BERT model during training or evaluation.\n",
        "\n",
        "Here's an example of the output format for self.encodings:\n",
        "\n",
        "\n",
        "```\n",
        "{\n",
        "    'input_ids': [\n",
        "        [101, 2023, 2003, 1037, 2742, 102],\n",
        "        [101, 1045, 2066, 5009, 2102, 102],\n",
        "        [101, 2129, 2024, 2017, 1029, 102]\n",
        "    ],\n",
        "    'token_type_ids': [\n",
        "        [0, 0, 0, 0, 0, 0],\n",
        "        [0, 0, 0, 0, 0, 0],\n",
        "        [0, 0, 0, 0, 0, 0]\n",
        "    ],\n",
        "    'attention_mask': [\n",
        "        [1, 1, 1, 1, 1, 1],\n",
        "        [1, 1, 1, 1, 1, 1],\n",
        "        [1, 1, 1, 1, 1, 1]\n",
        "    ]\n",
        "}\n",
        "```\n",
        "\n",
        "In this example, there are three input sentences, each encoded into three different features: input_ids, token_type_ids, and attention_mask.\n",
        "\n",
        "* input_ids: Lists of token IDs that represent the input text. The integers correspond to the tokens in the tokenizer's vocabulary.\n",
        "\n",
        "* token_type_ids: Lists of token type IDs that indicate the type of each token. In this case, they are all 0 since there is only one sentence per input. In tasks that require sentence pairs, you would see different token type IDs for different sentences.\n",
        "\n",
        "* attention_mask: Lists of binary values that indicate whether a given token should be attended to (1) or not (0). In this example, all tokens are attended to, so all the values are 1. Padding tokens would have a value of 0 in the attention_mask.\n",
        "\n",
        "Note that this example assumes that the maximum sequence length is 6 tokens, and there's no need for padding or truncation. In practice, you would have longer sequences, and padding would be necessary to make all the input sequences have the same length."
      ]
    },
    {
      "cell_type": "code",
      "execution_count": null,
      "metadata": {
        "id": "Vx3u-9ljtmM_"
      },
      "outputs": [],
      "source": [
        "train_dataloader = DataLoader(train_encodings, y_train)#train_labels\n",
        "\n",
        "val_dataloader = DataLoader(val_encodings, y_val) #val_labels\n",
        "\n",
        "test_dataset = DataLoader(test_encodings, y_test)"
      ]
    },
    {
      "cell_type": "markdown",
      "metadata": {
        "id": "-dXcl4LWBsJy"
      },
      "source": [
        "## Training with Trainer Class"
      ]
    },
    {
      "cell_type": "code",
      "execution_count": null,
      "metadata": {
        "id": "jHP9LR_QsytZ"
      },
      "outputs": [],
      "source": [
        "from transformers import TrainingArguments, Trainer"
      ]
    },
    {
      "cell_type": "code",
      "execution_count": null,
      "metadata": {
        "id": "RmiLeS1GRU6T"
      },
      "outputs": [],
      "source": [
        "from sklearn.metrics import accuracy_score, precision_recall_fscore_support\n",
        "\n",
        "def compute_metrics(pred):\n",
        "    \"\"\"\n",
        "    Computes accuracy, F1, precision, and recall for a given set of predictions.\n",
        "\n",
        "    Args:\n",
        "        pred (obj): An object containing label_ids and predictions attributes.\n",
        "            - label_ids (array-like): A 1D array of true class labels.\n",
        "            - predictions (array-like): A 2D array where each row represents\n",
        "              an observation, and each column represents the probability of\n",
        "              that observation belonging to a certain class.\n",
        "\n",
        "    Returns:\n",
        "        dict: A dictionary containing the following metrics:\n",
        "            - Accuracy (float): The proportion of correctly classified instances.\n",
        "            - F1 (float): The macro F1 score, which is the harmonic mean of precision\n",
        "              and recall. Macro averaging calculates the metric independently for\n",
        "              each class and then takes the average.\n",
        "            - Precision (float): The macro precision, which is the number of true\n",
        "              positives divided by the sum of true positives and false positives.\n",
        "            - Recall (float): The macro recall, which is the number of true positives\n",
        "              divided by the sum of true positives and false negatives.\n",
        "    \"\"\"\n",
        "    # Extract true labels from the input object\n",
        "    labels = pred.label_ids\n",
        "\n",
        "    # Obtain predicted class labels by finding the column index with the maximum probability\n",
        "    preds = pred.predictions.argmax(-1)\n",
        "\n",
        "    # Compute macro precision, recall, and F1 score using sklearn's precision_recall_fscore_support function\n",
        "    precision, recall, f1, _ = precision_recall_fscore_support(labels, preds, average='macro', zero_division=1)\n",
        "\n",
        "    # Calculate the accuracy score using sklearn's accuracy_score function\n",
        "    acc = accuracy_score(labels, preds)\n",
        "\n",
        "    # Return the computed metrics as a dictionary\n",
        "    return {\n",
        "        'Accuracy': acc,\n",
        "        'F1': f1,\n",
        "        'Precision': precision,\n",
        "        'Recall': recall\n",
        "    }\n"
      ]
    },
    {
      "cell_type": "markdown",
      "metadata": {
        "id": "yH_jBjqCRU6U"
      },
      "source": [
        "## compute_metrics\n",
        "\n",
        "argmax(): The NumPy method argmax() returns the index of the maximum value along a given axis. In a classification problem, we are interested in finding the class with the highest probability for each observation.\n",
        "\n",
        "(-1): The (-1) inside argmax() represents the axis along which the operation should be performed. In Python, negative indices are used to access elements from the end. So, (-1) here means the last axis, which is the columns in a 2D array."
      ]
    },
    {
      "cell_type": "code",
      "execution_count": null,
      "metadata": {
        "id": "zMiPOIVAmYI2"
      },
      "outputs": [],
      "source": [
        "training_args = TrainingArguments(\n",
        "    # The output directory where the model predictions and checkpoints will be written\n",
        "    output_dir='./TTC4900Model',\n",
        "    do_train=True,\n",
        "    do_eval=True,\n",
        "    #  The number of epochs, defaults to 3.0\n",
        "    num_train_epochs=3,\n",
        "    per_device_train_batch_size=16,\n",
        "    per_device_eval_batch_size=32,\n",
        "    # Number of steps used for a linear warmup\n",
        "    warmup_steps=100,\n",
        "    weight_decay=0.01,\n",
        "    logging_strategy='steps',\n",
        "   # TensorBoard log directory\n",
        "    logging_dir='./multi-class-logs',\n",
        "    logging_steps=50,\n",
        "    evaluation_strategy=\"steps\",\n",
        "    eval_steps=50,\n",
        "    save_strategy=\"steps\",\n",
        "    #fp16=True, ## with GPUs only\n",
        "    load_best_model_at_end=True\n",
        ")"
      ]
    },
    {
      "cell_type": "code",
      "source": [
        "!nvidia-smi #GPU Info"
      ],
      "metadata": {
        "colab": {
          "base_uri": "https://localhost:8080/"
        },
        "id": "KJZoZvSV9TiV",
        "outputId": "39af3212-81d5-40df-ec5b-e2c436ee98bf"
      },
      "execution_count": null,
      "outputs": [
        {
          "output_type": "stream",
          "name": "stdout",
          "text": [
            "/bin/bash: line 1: nvidia-smi: command not found\n"
          ]
        }
      ]
    },
    {
      "cell_type": "code",
      "execution_count": null,
      "metadata": {
        "id": "8Ajz99mwj-OL",
        "colab": {
          "base_uri": "https://localhost:8080/"
        },
        "outputId": "c94bfe70-9c16-4398-a33c-c2339630296e"
      },
      "outputs": [
        {
          "output_type": "stream",
          "name": "stderr",
          "text": [
            "/usr/local/lib/python3.10/dist-packages/accelerate/accelerator.py:432: FutureWarning: Passing the following arguments to `Accelerator` is deprecated and will be removed in version 1.0 of Accelerate: dict_keys(['dispatch_batches', 'split_batches', 'even_batches', 'use_seedable_sampler']). Please pass an `accelerate.DataLoaderConfiguration` instead: \n",
            "dataloader_config = DataLoaderConfiguration(dispatch_batches=None, split_batches=False, even_batches=True, use_seedable_sampler=True)\n",
            "  warnings.warn(\n"
          ]
        }
      ],
      "source": [
        "trainer = Trainer(\n",
        "    # the pre-trained model that will be fine-tuned\n",
        "    model=model,\n",
        "     # training arguments that we defined above\n",
        "    args=training_args,\n",
        "    train_dataset=train_dataloader,\n",
        "    eval_dataset=val_dataloader,\n",
        "    compute_metrics= compute_metrics\n",
        ")"
      ]
    },
    {
      "cell_type": "code",
      "source": [
        "\"\"\"\n",
        "import os\n",
        "os.environ['CUDA_LAUNCH_BLOCKING'] = '1'\n",
        "print(torch.cuda.is_available()) # True\n",
        "print(torch.version.cuda) # 12.1\n",
        "\"\"\""
      ],
      "metadata": {
        "id": "cXh4hH5R7g5N",
        "colab": {
          "base_uri": "https://localhost:8080/",
          "height": 36
        },
        "outputId": "0c1c556d-31a4-4342-f22d-10952504b75d"
      },
      "execution_count": null,
      "outputs": [
        {
          "output_type": "execute_result",
          "data": {
            "text/plain": [
              "\"\\nimport os\\nos.environ['CUDA_LAUNCH_BLOCKING'] = '1'\\n\""
            ],
            "application/vnd.google.colaboratory.intrinsic+json": {
              "type": "string"
            }
          },
          "metadata": {},
          "execution_count": 91
        }
      ]
    },
    {
      "cell_type": "code",
      "source": [
        "#df_org.info()"
      ],
      "metadata": {
        "id": "tHAArDhRzO2J"
      },
      "execution_count": null,
      "outputs": []
    },
    {
      "cell_type": "code",
      "execution_count": null,
      "metadata": {
        "id": "1WRhCH-Hj-RT",
        "colab": {
          "base_uri": "https://localhost:8080/",
          "height": 329
        },
        "outputId": "f2cc6872-6b8a-4883-86b0-560b97506a83"
      },
      "outputs": [
        {
          "output_type": "display_data",
          "data": {
            "text/plain": [
              "<IPython.core.display.HTML object>"
            ],
            "text/html": [
              "\n",
              "    <div>\n",
              "      \n",
              "      <progress value='378' max='378' style='width:300px; height:20px; vertical-align: middle;'></progress>\n",
              "      [378/378 26:48, Epoch 3/3]\n",
              "    </div>\n",
              "    <table border=\"1\" class=\"dataframe\">\n",
              "  <thead>\n",
              " <tr style=\"text-align: left;\">\n",
              "      <th>Step</th>\n",
              "      <th>Training Loss</th>\n",
              "      <th>Validation Loss</th>\n",
              "      <th>Accuracy</th>\n",
              "      <th>F1</th>\n",
              "      <th>Precision</th>\n",
              "      <th>Recall</th>\n",
              "    </tr>\n",
              "  </thead>\n",
              "  <tbody>\n",
              "    <tr>\n",
              "      <td>50</td>\n",
              "      <td>0.946500</td>\n",
              "      <td>0.737013</td>\n",
              "      <td>0.669307</td>\n",
              "      <td>0.397386</td>\n",
              "      <td>0.771769</td>\n",
              "      <td>0.412701</td>\n",
              "    </tr>\n",
              "    <tr>\n",
              "      <td>100</td>\n",
              "      <td>0.712800</td>\n",
              "      <td>0.687902</td>\n",
              "      <td>0.738614</td>\n",
              "      <td>0.502373</td>\n",
              "      <td>0.807770</td>\n",
              "      <td>0.537583</td>\n",
              "    </tr>\n",
              "    <tr>\n",
              "      <td>150</td>\n",
              "      <td>0.703200</td>\n",
              "      <td>0.735069</td>\n",
              "      <td>0.734653</td>\n",
              "      <td>0.499375</td>\n",
              "      <td>0.805243</td>\n",
              "      <td>0.532953</td>\n",
              "    </tr>\n",
              "    <tr>\n",
              "      <td>200</td>\n",
              "      <td>0.635000</td>\n",
              "      <td>0.658409</td>\n",
              "      <td>0.728713</td>\n",
              "      <td>0.524139</td>\n",
              "      <td>0.550165</td>\n",
              "      <td>0.524048</td>\n",
              "    </tr>\n",
              "    <tr>\n",
              "      <td>250</td>\n",
              "      <td>0.614500</td>\n",
              "      <td>0.622419</td>\n",
              "      <td>0.734653</td>\n",
              "      <td>0.555308</td>\n",
              "      <td>0.570057</td>\n",
              "      <td>0.571879</td>\n",
              "    </tr>\n",
              "    <tr>\n",
              "      <td>300</td>\n",
              "      <td>0.502200</td>\n",
              "      <td>0.672650</td>\n",
              "      <td>0.720792</td>\n",
              "      <td>0.540895</td>\n",
              "      <td>0.598369</td>\n",
              "      <td>0.568443</td>\n",
              "    </tr>\n",
              "    <tr>\n",
              "      <td>350</td>\n",
              "      <td>0.417100</td>\n",
              "      <td>0.672125</td>\n",
              "      <td>0.756436</td>\n",
              "      <td>0.579072</td>\n",
              "      <td>0.637167</td>\n",
              "      <td>0.577054</td>\n",
              "    </tr>\n",
              "  </tbody>\n",
              "</table><p>"
            ]
          },
          "metadata": {}
        },
        {
          "output_type": "execute_result",
          "data": {
            "text/plain": [
              "TrainOutput(global_step=378, training_loss=0.634005309412719, metrics={'train_runtime': 1612.7903, 'train_samples_per_second': 3.75, 'train_steps_per_second': 0.234, 'total_flos': 261074288740608.0, 'train_loss': 0.634005309412719, 'epoch': 3.0})"
            ]
          },
          "metadata": {},
          "execution_count": 280
        }
      ],
      "source": [
        "trainer.train()"
      ]
    },
    {
      "cell_type": "code",
      "source": [
        "#print(asd)"
      ],
      "metadata": {
        "id": "x_hKequZ1vcB"
      },
      "execution_count": null,
      "outputs": []
    },
    {
      "cell_type": "code",
      "execution_count": null,
      "metadata": {
        "id": "FN2i7kRIj-UQ",
        "colab": {
          "base_uri": "https://localhost:8080/",
          "height": 37
        },
        "outputId": "6b3434a6-3d82-4824-c6ab-38dd76eb2b1c"
      },
      "outputs": [
        {
          "output_type": "display_data",
          "data": {
            "text/plain": [
              "<IPython.core.display.HTML object>"
            ],
            "text/html": [
              "\n",
              "    <div>\n",
              "      \n",
              "      <progress value='90' max='63' style='width:300px; height:20px; vertical-align: middle;'></progress>\n",
              "      [63/63 03:10]\n",
              "    </div>\n",
              "    "
            ]
          },
          "metadata": {}
        }
      ],
      "source": [
        "q=[trainer.evaluate(eval_dataset=df_org) for df_org in [train_dataloader, val_dataloader, test_dataset]]"
      ]
    },
    {
      "cell_type": "code",
      "source": [
        "pd.DataFrame(q, index=[\"train\",\"val\",\"test\"]).iloc[:,:5]"
      ],
      "metadata": {
        "colab": {
          "base_uri": "https://localhost:8080/",
          "height": 143
        },
        "id": "e4XddyzPG0oG",
        "outputId": "8c786743-07ae-47d8-81aa-f1b02774027a"
      },
      "execution_count": null,
      "outputs": [
        {
          "output_type": "execute_result",
          "data": {
            "text/plain": [
              "       eval_loss  eval_Accuracy   eval_F1  eval_Precision  eval_Recall\n",
              "train   0.343620       0.882440  0.749337        0.881758     0.727541\n",
              "val     0.660448       0.752475  0.575563        0.625947     0.573678\n",
              "test    0.583618       0.788571  0.629468        0.799437     0.620134"
            ],
            "text/html": [
              "\n",
              "  <div id=\"df-e4233e0c-e314-40ea-bfd9-56b94be66b87\" class=\"colab-df-container\">\n",
              "    <div>\n",
              "<style scoped>\n",
              "    .dataframe tbody tr th:only-of-type {\n",
              "        vertical-align: middle;\n",
              "    }\n",
              "\n",
              "    .dataframe tbody tr th {\n",
              "        vertical-align: top;\n",
              "    }\n",
              "\n",
              "    .dataframe thead th {\n",
              "        text-align: right;\n",
              "    }\n",
              "</style>\n",
              "<table border=\"1\" class=\"dataframe\">\n",
              "  <thead>\n",
              "    <tr style=\"text-align: right;\">\n",
              "      <th></th>\n",
              "      <th>eval_loss</th>\n",
              "      <th>eval_Accuracy</th>\n",
              "      <th>eval_F1</th>\n",
              "      <th>eval_Precision</th>\n",
              "      <th>eval_Recall</th>\n",
              "    </tr>\n",
              "  </thead>\n",
              "  <tbody>\n",
              "    <tr>\n",
              "      <th>train</th>\n",
              "      <td>0.343620</td>\n",
              "      <td>0.882440</td>\n",
              "      <td>0.749337</td>\n",
              "      <td>0.881758</td>\n",
              "      <td>0.727541</td>\n",
              "    </tr>\n",
              "    <tr>\n",
              "      <th>val</th>\n",
              "      <td>0.660448</td>\n",
              "      <td>0.752475</td>\n",
              "      <td>0.575563</td>\n",
              "      <td>0.625947</td>\n",
              "      <td>0.573678</td>\n",
              "    </tr>\n",
              "    <tr>\n",
              "      <th>test</th>\n",
              "      <td>0.583618</td>\n",
              "      <td>0.788571</td>\n",
              "      <td>0.629468</td>\n",
              "      <td>0.799437</td>\n",
              "      <td>0.620134</td>\n",
              "    </tr>\n",
              "  </tbody>\n",
              "</table>\n",
              "</div>\n",
              "    <div class=\"colab-df-buttons\">\n",
              "\n",
              "  <div class=\"colab-df-container\">\n",
              "    <button class=\"colab-df-convert\" onclick=\"convertToInteractive('df-e4233e0c-e314-40ea-bfd9-56b94be66b87')\"\n",
              "            title=\"Convert this dataframe to an interactive table.\"\n",
              "            style=\"display:none;\">\n",
              "\n",
              "  <svg xmlns=\"http://www.w3.org/2000/svg\" height=\"24px\" viewBox=\"0 -960 960 960\">\n",
              "    <path d=\"M120-120v-720h720v720H120Zm60-500h600v-160H180v160Zm220 220h160v-160H400v160Zm0 220h160v-160H400v160ZM180-400h160v-160H180v160Zm440 0h160v-160H620v160ZM180-180h160v-160H180v160Zm440 0h160v-160H620v160Z\"/>\n",
              "  </svg>\n",
              "    </button>\n",
              "\n",
              "  <style>\n",
              "    .colab-df-container {\n",
              "      display:flex;\n",
              "      gap: 12px;\n",
              "    }\n",
              "\n",
              "    .colab-df-convert {\n",
              "      background-color: #E8F0FE;\n",
              "      border: none;\n",
              "      border-radius: 50%;\n",
              "      cursor: pointer;\n",
              "      display: none;\n",
              "      fill: #1967D2;\n",
              "      height: 32px;\n",
              "      padding: 0 0 0 0;\n",
              "      width: 32px;\n",
              "    }\n",
              "\n",
              "    .colab-df-convert:hover {\n",
              "      background-color: #E2EBFA;\n",
              "      box-shadow: 0px 1px 2px rgba(60, 64, 67, 0.3), 0px 1px 3px 1px rgba(60, 64, 67, 0.15);\n",
              "      fill: #174EA6;\n",
              "    }\n",
              "\n",
              "    .colab-df-buttons div {\n",
              "      margin-bottom: 4px;\n",
              "    }\n",
              "\n",
              "    [theme=dark] .colab-df-convert {\n",
              "      background-color: #3B4455;\n",
              "      fill: #D2E3FC;\n",
              "    }\n",
              "\n",
              "    [theme=dark] .colab-df-convert:hover {\n",
              "      background-color: #434B5C;\n",
              "      box-shadow: 0px 1px 3px 1px rgba(0, 0, 0, 0.15);\n",
              "      filter: drop-shadow(0px 1px 2px rgba(0, 0, 0, 0.3));\n",
              "      fill: #FFFFFF;\n",
              "    }\n",
              "  </style>\n",
              "\n",
              "    <script>\n",
              "      const buttonEl =\n",
              "        document.querySelector('#df-e4233e0c-e314-40ea-bfd9-56b94be66b87 button.colab-df-convert');\n",
              "      buttonEl.style.display =\n",
              "        google.colab.kernel.accessAllowed ? 'block' : 'none';\n",
              "\n",
              "      async function convertToInteractive(key) {\n",
              "        const element = document.querySelector('#df-e4233e0c-e314-40ea-bfd9-56b94be66b87');\n",
              "        const dataTable =\n",
              "          await google.colab.kernel.invokeFunction('convertToInteractive',\n",
              "                                                    [key], {});\n",
              "        if (!dataTable) return;\n",
              "\n",
              "        const docLinkHtml = 'Like what you see? Visit the ' +\n",
              "          '<a target=\"_blank\" href=https://colab.research.google.com/notebooks/data_table.ipynb>data table notebook</a>'\n",
              "          + ' to learn more about interactive tables.';\n",
              "        element.innerHTML = '';\n",
              "        dataTable['output_type'] = 'display_data';\n",
              "        await google.colab.output.renderOutput(dataTable, element);\n",
              "        const docLink = document.createElement('div');\n",
              "        docLink.innerHTML = docLinkHtml;\n",
              "        element.appendChild(docLink);\n",
              "      }\n",
              "    </script>\n",
              "  </div>\n",
              "\n",
              "\n",
              "<div id=\"df-917ad4ff-8a14-4ee5-8208-fc188e396b17\">\n",
              "  <button class=\"colab-df-quickchart\" onclick=\"quickchart('df-917ad4ff-8a14-4ee5-8208-fc188e396b17')\"\n",
              "            title=\"Suggest charts\"\n",
              "            style=\"display:none;\">\n",
              "\n",
              "<svg xmlns=\"http://www.w3.org/2000/svg\" height=\"24px\"viewBox=\"0 0 24 24\"\n",
              "     width=\"24px\">\n",
              "    <g>\n",
              "        <path d=\"M19 3H5c-1.1 0-2 .9-2 2v14c0 1.1.9 2 2 2h14c1.1 0 2-.9 2-2V5c0-1.1-.9-2-2-2zM9 17H7v-7h2v7zm4 0h-2V7h2v10zm4 0h-2v-4h2v4z\"/>\n",
              "    </g>\n",
              "</svg>\n",
              "  </button>\n",
              "\n",
              "<style>\n",
              "  .colab-df-quickchart {\n",
              "      --bg-color: #E8F0FE;\n",
              "      --fill-color: #1967D2;\n",
              "      --hover-bg-color: #E2EBFA;\n",
              "      --hover-fill-color: #174EA6;\n",
              "      --disabled-fill-color: #AAA;\n",
              "      --disabled-bg-color: #DDD;\n",
              "  }\n",
              "\n",
              "  [theme=dark] .colab-df-quickchart {\n",
              "      --bg-color: #3B4455;\n",
              "      --fill-color: #D2E3FC;\n",
              "      --hover-bg-color: #434B5C;\n",
              "      --hover-fill-color: #FFFFFF;\n",
              "      --disabled-bg-color: #3B4455;\n",
              "      --disabled-fill-color: #666;\n",
              "  }\n",
              "\n",
              "  .colab-df-quickchart {\n",
              "    background-color: var(--bg-color);\n",
              "    border: none;\n",
              "    border-radius: 50%;\n",
              "    cursor: pointer;\n",
              "    display: none;\n",
              "    fill: var(--fill-color);\n",
              "    height: 32px;\n",
              "    padding: 0;\n",
              "    width: 32px;\n",
              "  }\n",
              "\n",
              "  .colab-df-quickchart:hover {\n",
              "    background-color: var(--hover-bg-color);\n",
              "    box-shadow: 0 1px 2px rgba(60, 64, 67, 0.3), 0 1px 3px 1px rgba(60, 64, 67, 0.15);\n",
              "    fill: var(--button-hover-fill-color);\n",
              "  }\n",
              "\n",
              "  .colab-df-quickchart-complete:disabled,\n",
              "  .colab-df-quickchart-complete:disabled:hover {\n",
              "    background-color: var(--disabled-bg-color);\n",
              "    fill: var(--disabled-fill-color);\n",
              "    box-shadow: none;\n",
              "  }\n",
              "\n",
              "  .colab-df-spinner {\n",
              "    border: 2px solid var(--fill-color);\n",
              "    border-color: transparent;\n",
              "    border-bottom-color: var(--fill-color);\n",
              "    animation:\n",
              "      spin 1s steps(1) infinite;\n",
              "  }\n",
              "\n",
              "  @keyframes spin {\n",
              "    0% {\n",
              "      border-color: transparent;\n",
              "      border-bottom-color: var(--fill-color);\n",
              "      border-left-color: var(--fill-color);\n",
              "    }\n",
              "    20% {\n",
              "      border-color: transparent;\n",
              "      border-left-color: var(--fill-color);\n",
              "      border-top-color: var(--fill-color);\n",
              "    }\n",
              "    30% {\n",
              "      border-color: transparent;\n",
              "      border-left-color: var(--fill-color);\n",
              "      border-top-color: var(--fill-color);\n",
              "      border-right-color: var(--fill-color);\n",
              "    }\n",
              "    40% {\n",
              "      border-color: transparent;\n",
              "      border-right-color: var(--fill-color);\n",
              "      border-top-color: var(--fill-color);\n",
              "    }\n",
              "    60% {\n",
              "      border-color: transparent;\n",
              "      border-right-color: var(--fill-color);\n",
              "    }\n",
              "    80% {\n",
              "      border-color: transparent;\n",
              "      border-right-color: var(--fill-color);\n",
              "      border-bottom-color: var(--fill-color);\n",
              "    }\n",
              "    90% {\n",
              "      border-color: transparent;\n",
              "      border-bottom-color: var(--fill-color);\n",
              "    }\n",
              "  }\n",
              "</style>\n",
              "\n",
              "  <script>\n",
              "    async function quickchart(key) {\n",
              "      const quickchartButtonEl =\n",
              "        document.querySelector('#' + key + ' button');\n",
              "      quickchartButtonEl.disabled = true;  // To prevent multiple clicks.\n",
              "      quickchartButtonEl.classList.add('colab-df-spinner');\n",
              "      try {\n",
              "        const charts = await google.colab.kernel.invokeFunction(\n",
              "            'suggestCharts', [key], {});\n",
              "      } catch (error) {\n",
              "        console.error('Error during call to suggestCharts:', error);\n",
              "      }\n",
              "      quickchartButtonEl.classList.remove('colab-df-spinner');\n",
              "      quickchartButtonEl.classList.add('colab-df-quickchart-complete');\n",
              "    }\n",
              "    (() => {\n",
              "      let quickchartButtonEl =\n",
              "        document.querySelector('#df-917ad4ff-8a14-4ee5-8208-fc188e396b17 button');\n",
              "      quickchartButtonEl.style.display =\n",
              "        google.colab.kernel.accessAllowed ? 'block' : 'none';\n",
              "    })();\n",
              "  </script>\n",
              "</div>\n",
              "    </div>\n",
              "  </div>\n"
            ],
            "application/vnd.google.colaboratory.intrinsic+json": {
              "type": "dataframe",
              "summary": "{\n  \"name\": \"pd\",\n  \"rows\": 3,\n  \"fields\": [\n    {\n      \"column\": \"eval_loss\",\n      \"properties\": {\n        \"dtype\": \"number\",\n        \"std\": 0.16526807464759596,\n        \"min\": 0.3436204791069031,\n        \"max\": 0.6604479551315308,\n        \"num_unique_values\": 3,\n        \"samples\": [\n          0.3436204791069031,\n          0.6604479551315308,\n          0.5836177468299866\n        ],\n        \"semantic_type\": \"\",\n        \"description\": \"\"\n      }\n    },\n    {\n      \"column\": \"eval_Accuracy\",\n      \"properties\": {\n        \"dtype\": \"number\",\n        \"std\": 0.06708861434599675,\n        \"min\": 0.7524752475247525,\n        \"max\": 0.8824404761904762,\n        \"num_unique_values\": 3,\n        \"samples\": [\n          0.8824404761904762,\n          0.7524752475247525,\n          0.7885714285714286\n        ],\n        \"semantic_type\": \"\",\n        \"description\": \"\"\n      }\n    },\n    {\n      \"column\": \"eval_F1\",\n      \"properties\": {\n        \"dtype\": \"number\",\n        \"std\": 0.08894942588933781,\n        \"min\": 0.5755627673672259,\n        \"max\": 0.7493372799780981,\n        \"num_unique_values\": 3,\n        \"samples\": [\n          0.7493372799780981,\n          0.5755627673672259,\n          0.6294679804783908\n        ],\n        \"semantic_type\": \"\",\n        \"description\": \"\"\n      }\n    },\n    {\n      \"column\": \"eval_Precision\",\n      \"properties\": {\n        \"dtype\": \"number\",\n        \"std\": 0.1305852081649811,\n        \"min\": 0.6259469696969696,\n        \"max\": 0.8817581528491992,\n        \"num_unique_values\": 3,\n        \"samples\": [\n          0.8817581528491992,\n          0.6259469696969696,\n          0.7994373032945838\n        ],\n        \"semantic_type\": \"\",\n        \"description\": \"\"\n      }\n    },\n    {\n      \"column\": \"eval_Recall\",\n      \"properties\": {\n        \"dtype\": \"number\",\n        \"std\": 0.07891820915386506,\n        \"min\": 0.5736778671204067,\n        \"max\": 0.7275412827485223,\n        \"num_unique_values\": 3,\n        \"samples\": [\n          0.7275412827485223,\n          0.5736778671204067,\n          0.6201335481823287\n        ],\n        \"semantic_type\": \"\",\n        \"description\": \"\"\n      }\n    }\n  ]\n}"
            }
          },
          "metadata": {},
          "execution_count": 282
        }
      ]
    },
    {
      "cell_type": "code",
      "source": [
        "#pd.DataFrame(q, index=[\"train\",\"val\",\"test\"]).iloc[:,-5:]"
      ],
      "metadata": {
        "id": "St0Hr7rbHBXJ"
      },
      "execution_count": null,
      "outputs": []
    },
    {
      "cell_type": "code",
      "execution_count": null,
      "metadata": {
        "id": "I0guPT0jYJth"
      },
      "outputs": [],
      "source": [
        "from transformers import DistilBertForSequenceClassification, DistilBertTokenizerFast"
      ]
    },
    {
      "cell_type": "code",
      "execution_count": null,
      "metadata": {
        "id": "W36i1DA4RU6W"
      },
      "outputs": [],
      "source": [
        "def predict(text):\n",
        "    \"\"\"\n",
        "    Predicts the class label for a given input text\n",
        "\n",
        "    Args:\n",
        "        text (str): The input text for which the class label needs to be predicted.\n",
        "\n",
        "    Returns:\n",
        "        probs (torch.Tensor): Class probabilities for the input text.\n",
        "        pred_label_idx (torch.Tensor): The index of the predicted class label.\n",
        "        pred_label (str): The predicted class label.\n",
        "    \"\"\"\n",
        "    # Tokenize the input text and move tensors to the GPU if available\n",
        "    #inputs = tokenizer(text, padding=True, truncation=True, max_length=128, return_tensors=\"pt\").to(\"cuda\") ## remove .to(\"cuda\") with CPU\n",
        "    inputs = tokenizer(text, padding=True, truncation=True, max_length=128, return_tensors=\"pt\") ## with CPU\n",
        "\n",
        "    # Get model output (logits)\n",
        "    outputs = model(**inputs)\n",
        "\n",
        "    probs = outputs[0].softmax(1)\n",
        "    \"\"\" Explanation outputs: The BERT model returns a tuple containing the output logits (and possibly other elements depending on the model configuration). In this case, the output logits are the first element in the tuple, which is why we access it using outputs[0].\n",
        "\n",
        "    outputs[0]: This is a tensor containing the raw output logits for each class. The shape of the tensor is (batch_size, num_classes) where batch_size is the number of input samples (in this case, 1, as we are predicting for a single input text) and num_classes is the number of target classes.\n",
        "\n",
        "    softmax(1): The softmax function is applied along dimension 1 (the class dimension) to convert the raw logits into class probabilities. Softmax normalizes the logits so that they sum to 1, making them interpretable as probabilities. \"\"\"\n",
        "\n",
        "    # Get the index of the class with the highest probability\n",
        "    # argmax() finds the index of the maximum value in the tensor along a specified dimension.\n",
        "    # By default, if no dimension is specified, it returns the index of the maximum value in the flattened tensor.\n",
        "    pred_label_idx = probs.argmax()\n",
        "\n",
        "    # Now map the predicted class index to the actual class label\n",
        "    # Since pred_label_idx is a tensor containing a single value (the predicted class index),\n",
        "    # the .item() method is used to extract the value as a scalar\n",
        "    pred_label = model.config.id2label[pred_label_idx.item()]\n",
        "\n",
        "    return probs, pred_label_idx, pred_label\n"
      ]
    },
    {
      "cell_type": "code",
      "source": [
        "# Adjust display options\n",
        "pd.set_option('display.max_colwidth', None)  # Show full column width\n",
        "#pd.set_option('display.max_rows', None)       # Show all rows"
      ],
      "metadata": {
        "id": "SsiJ8PcRI0oi"
      },
      "execution_count": null,
      "outputs": []
    },
    {
      "cell_type": "code",
      "source": [
        "df_org.head(20)"
      ],
      "metadata": {
        "colab": {
          "base_uri": "https://localhost:8080/",
          "height": 832
        },
        "id": "84iktPD_IdXT",
        "outputId": "dc52b3da-9fe0-4b01-9325-88fbe9e53cf6"
      },
      "execution_count": null,
      "outputs": [
        {
          "output_type": "execute_result",
          "data": {
            "text/plain": [
              "                                                                                                                                                                                                                                                                 text  \\\n",
              "0                                                                                                                  عشان يلمع صورته ويعنني تمكين المراه ويصير ترند والحكومه اكثر تقمع المراه اخر شيء الي فرحانين بالقرار ودارسين قانون متوظفين كاشير مول راتبهم 3 الاف   \n",
              "1                                                                                                                                                                                                 روح حلل محد يم تطعيم كورونا شف الحرم البارح مليونين بدون شرط تحصين😅   \n",
              "2                                                                                           يعرف بفوبيا المراه المتمكنه افه فكريه تغزو عقول الرجال انه اذ راي تمكين للمراه حتي بسيطا فهو المرجح بالطبع ربطه للموضوع النسويه واتهام الفكره باكملها بالشيطنه والخبث URL   \n",
              "3                                                                                                                                     LEAP22 مءتمر يجمع اشهر وابرز المءثرين المجال التقني خلاله السعوديه تستعرض قدرتها التحول الرقمي اللي تشهدها كافه قطاعاتها 👌🏼 URL   \n",
              "4                                خصوصيه البيانات وحمايتها المنظمه مطلب ينبغي ان تكون ذريعه لسد الطريق امام التحول التقني لاننا نجهل نحمي بياناتنا الفضاء التقني ان عمليه التحول الرقمي خيارا نقبله او نرفضه ونحن قطاع يتسم بالشفافيه والمشاركه المجتمع واصحاب المصلحه   \n",
              "5                                                                                                                                                                  فخورين بنساء الوطن 🇸🇦 وكلنا فخر بتقدم تمكين المراه يوم يوم الله يديم حكومتنا ويحفظ بلادنا ويعزها 🤍   \n",
              "6                                                                                                                                                                                                            ههههههههههههههه ماعليك زمن تمكين المراه ماراح يسوون شي 😂   \n",
              "7                                                                                                    كعاده البشر ذوي العقليات المحدوده والكسوله الكل هاجمه وانتقده ووصفوه بالجنون والغباء وووو الخ سالفه التحول الرقمي والدفع الالكتروني المصيبه ان كلامه طلع صح ونجح   \n",
              "8   MENTION MENTION MENTION وش فاءده اللقاح انه تم تطعيم ٥٠ بالميه السكان والاصابات يوم تزيد وش الفايده يقول مايمنع الاصابه يخففها كورونا الاصل الشفاء وصل ٩٩ بالميه يعني اللقاح يعطينا ١٠٠ بالميه كلنا نسمع ونعرف ناس انصابوا وهم اخذين اللقاح ونقلوا العدوي لمجموعه   \n",
              "9                                      يتمعن يجري اليوم الاوساط العلميه البحثيه علي الاصعده اهتمام مستميت بالتحول الواقع الي الافتراض التحول الرقمي الالكتروني واحلال الالات وتقنيات الذكاء الصناعي سيعلم كورونا ولماذا تم غلق العالم انتقاءيا وتعطيل الاقتصادالخ URL   \n",
              "10                              واختتم احمد بن حماد الكلباني عميد اكاديميه الامن الالكتروني المتقدم ورقه عمل الابتكار تعزيز الجاهزيه للامن الالكتروني تناولت الورقه طرق تسريع وتيره التحول الرقمي الاقتصاد اعتماد تكنولوجيا المعلومات والاتصالات الراءده التقنيات URL   \n",
              "11                                                                                                                                                                 تم تطعيم الجرعه الاولي لقاح pfizer اليوم شكرا علي جهودكم بالتوعيه الله يكثر امثالكم يعطيكم العافيه   \n",
              "12                                                                                                                                                                                                                   افتكر اني مضطره اخد تطعيم كورونا تاني قلبي يتقبض   \n",
              "13             كفل النظام الاساسي حق التقاضي لكافه يعيش علي الارض الطيبه وعلي نهج التحول الالكتروني السلطنه تم اطلاق منصه الكترونيه خاصه بالمحاكم بغرض تسهيل اجراءات التقاضي ننصدم بالصعوبات اليوميه المتكرره المنصه فاصبح النظام الالكتروني عاءقا يحول الحق الدستوري   \n",
              "14                                                                                                                                                                                                            السديس يءكد تفعيل التحول الالكتروني تعاملات الرءاسه URL   \n",
              "15                 باعتقادك تءثر الامبرياليه عمليه احلال الاجراءات التراتيبيه التسلسليه تقوض عمليه تقديم الخدمه للعملاء ماموري سعاده المتعاملين التحول الالكتروني اسهم تسهيل تقصير رحله المتعامل منظورك الشخصيهل لمءشرات الاداء دور رقابي علي الخدمه نفسها ام مقدميها   \n",
              "16                                                                                                                                                                                                                                                   وين تمكين المراه   \n",
              "17                                                  يامستشارين الصحه اللي جته كورونا المفروض يصير عنده مناعه اي مرض فيروسي يصيب الانسان ومع تقولون ياخذ تطعيم كورونا التطعيم تجيه كورونا تقولون ممكن التطعيم للابد تقولون سنه بالكثير وينتهي المفعول اجابه علميه حقيق   \n",
              "18                                                          اللي جته كورونا المفروض يصير عنده مناعه اي مرض فيروسي يصيب الانسان ومع تقولون ياخذ تطعيم كورونا التطعيم تجيه كورونا تقولون ممكن التطعيم للابد تقولون سنه بالكثير وينتهي المفعول اجابه علميه حقيقيه تنورون   \n",
              "19                                                                 اللي جته كورونا المفروض يصير عنده مناعه اي مرض فيروسي يصيب الانسان ومع تقولون ياخذ تطعيم كورونا التطعيم تجيه كورونا تقولون ممكن التطعيم للابد تقولون سنه بالكثير وينتهي المفعول اجابه علميه حقيقيه   \n",
              "\n",
              "     stance  labels  \n",
              "0   Against       2  \n",
              "1      None       0  \n",
              "2     Favor       1  \n",
              "3     Favor       1  \n",
              "4     Favor       1  \n",
              "5     Favor       1  \n",
              "6      None       0  \n",
              "7     Favor       1  \n",
              "8   Against       2  \n",
              "9   Against       2  \n",
              "10    Favor       1  \n",
              "11    Favor       1  \n",
              "12  Against       2  \n",
              "13  Against       2  \n",
              "14     None       0  \n",
              "15     None       0  \n",
              "16     None       0  \n",
              "17  Against       2  \n",
              "18  Against       2  \n",
              "19  Against       2  "
            ],
            "text/html": [
              "\n",
              "  <div id=\"df-5580a998-5174-47ca-af3a-e0a842c1379d\" class=\"colab-df-container\">\n",
              "    <div>\n",
              "<style scoped>\n",
              "    .dataframe tbody tr th:only-of-type {\n",
              "        vertical-align: middle;\n",
              "    }\n",
              "\n",
              "    .dataframe tbody tr th {\n",
              "        vertical-align: top;\n",
              "    }\n",
              "\n",
              "    .dataframe thead th {\n",
              "        text-align: right;\n",
              "    }\n",
              "</style>\n",
              "<table border=\"1\" class=\"dataframe\">\n",
              "  <thead>\n",
              "    <tr style=\"text-align: right;\">\n",
              "      <th></th>\n",
              "      <th>text</th>\n",
              "      <th>stance</th>\n",
              "      <th>labels</th>\n",
              "    </tr>\n",
              "  </thead>\n",
              "  <tbody>\n",
              "    <tr>\n",
              "      <th>0</th>\n",
              "      <td>عشان يلمع صورته ويعنني تمكين المراه ويصير ترند والحكومه اكثر تقمع المراه اخر شيء الي فرحانين بالقرار ودارسين قانون متوظفين كاشير مول راتبهم 3 الاف</td>\n",
              "      <td>Against</td>\n",
              "      <td>2</td>\n",
              "    </tr>\n",
              "    <tr>\n",
              "      <th>1</th>\n",
              "      <td>روح حلل محد يم تطعيم كورونا شف الحرم البارح مليونين بدون شرط تحصين😅</td>\n",
              "      <td>None</td>\n",
              "      <td>0</td>\n",
              "    </tr>\n",
              "    <tr>\n",
              "      <th>2</th>\n",
              "      <td>يعرف بفوبيا المراه المتمكنه افه فكريه تغزو عقول الرجال انه اذ راي تمكين للمراه حتي بسيطا فهو المرجح بالطبع ربطه للموضوع النسويه واتهام الفكره باكملها بالشيطنه والخبث URL</td>\n",
              "      <td>Favor</td>\n",
              "      <td>1</td>\n",
              "    </tr>\n",
              "    <tr>\n",
              "      <th>3</th>\n",
              "      <td>LEAP22 مءتمر يجمع اشهر وابرز المءثرين المجال التقني خلاله السعوديه تستعرض قدرتها التحول الرقمي اللي تشهدها كافه قطاعاتها 👌🏼 URL</td>\n",
              "      <td>Favor</td>\n",
              "      <td>1</td>\n",
              "    </tr>\n",
              "    <tr>\n",
              "      <th>4</th>\n",
              "      <td>خصوصيه البيانات وحمايتها المنظمه مطلب ينبغي ان تكون ذريعه لسد الطريق امام التحول التقني لاننا نجهل نحمي بياناتنا الفضاء التقني ان عمليه التحول الرقمي خيارا نقبله او نرفضه ونحن قطاع يتسم بالشفافيه والمشاركه المجتمع واصحاب المصلحه</td>\n",
              "      <td>Favor</td>\n",
              "      <td>1</td>\n",
              "    </tr>\n",
              "    <tr>\n",
              "      <th>5</th>\n",
              "      <td>فخورين بنساء الوطن 🇸🇦 وكلنا فخر بتقدم تمكين المراه يوم يوم الله يديم حكومتنا ويحفظ بلادنا ويعزها 🤍</td>\n",
              "      <td>Favor</td>\n",
              "      <td>1</td>\n",
              "    </tr>\n",
              "    <tr>\n",
              "      <th>6</th>\n",
              "      <td>ههههههههههههههه ماعليك زمن تمكين المراه ماراح يسوون شي 😂</td>\n",
              "      <td>None</td>\n",
              "      <td>0</td>\n",
              "    </tr>\n",
              "    <tr>\n",
              "      <th>7</th>\n",
              "      <td>كعاده البشر ذوي العقليات المحدوده والكسوله الكل هاجمه وانتقده ووصفوه بالجنون والغباء وووو الخ سالفه التحول الرقمي والدفع الالكتروني المصيبه ان كلامه طلع صح ونجح</td>\n",
              "      <td>Favor</td>\n",
              "      <td>1</td>\n",
              "    </tr>\n",
              "    <tr>\n",
              "      <th>8</th>\n",
              "      <td>MENTION MENTION MENTION وش فاءده اللقاح انه تم تطعيم ٥٠ بالميه السكان والاصابات يوم تزيد وش الفايده يقول مايمنع الاصابه يخففها كورونا الاصل الشفاء وصل ٩٩ بالميه يعني اللقاح يعطينا ١٠٠ بالميه كلنا نسمع ونعرف ناس انصابوا وهم اخذين اللقاح ونقلوا العدوي لمجموعه</td>\n",
              "      <td>Against</td>\n",
              "      <td>2</td>\n",
              "    </tr>\n",
              "    <tr>\n",
              "      <th>9</th>\n",
              "      <td>يتمعن يجري اليوم الاوساط العلميه البحثيه علي الاصعده اهتمام مستميت بالتحول الواقع الي الافتراض التحول الرقمي الالكتروني واحلال الالات وتقنيات الذكاء الصناعي سيعلم كورونا ولماذا تم غلق العالم انتقاءيا وتعطيل الاقتصادالخ URL</td>\n",
              "      <td>Against</td>\n",
              "      <td>2</td>\n",
              "    </tr>\n",
              "    <tr>\n",
              "      <th>10</th>\n",
              "      <td>واختتم احمد بن حماد الكلباني عميد اكاديميه الامن الالكتروني المتقدم ورقه عمل الابتكار تعزيز الجاهزيه للامن الالكتروني تناولت الورقه طرق تسريع وتيره التحول الرقمي الاقتصاد اعتماد تكنولوجيا المعلومات والاتصالات الراءده التقنيات URL</td>\n",
              "      <td>Favor</td>\n",
              "      <td>1</td>\n",
              "    </tr>\n",
              "    <tr>\n",
              "      <th>11</th>\n",
              "      <td>تم تطعيم الجرعه الاولي لقاح pfizer اليوم شكرا علي جهودكم بالتوعيه الله يكثر امثالكم يعطيكم العافيه</td>\n",
              "      <td>Favor</td>\n",
              "      <td>1</td>\n",
              "    </tr>\n",
              "    <tr>\n",
              "      <th>12</th>\n",
              "      <td>افتكر اني مضطره اخد تطعيم كورونا تاني قلبي يتقبض</td>\n",
              "      <td>Against</td>\n",
              "      <td>2</td>\n",
              "    </tr>\n",
              "    <tr>\n",
              "      <th>13</th>\n",
              "      <td>كفل النظام الاساسي حق التقاضي لكافه يعيش علي الارض الطيبه وعلي نهج التحول الالكتروني السلطنه تم اطلاق منصه الكترونيه خاصه بالمحاكم بغرض تسهيل اجراءات التقاضي ننصدم بالصعوبات اليوميه المتكرره المنصه فاصبح النظام الالكتروني عاءقا يحول الحق الدستوري</td>\n",
              "      <td>Against</td>\n",
              "      <td>2</td>\n",
              "    </tr>\n",
              "    <tr>\n",
              "      <th>14</th>\n",
              "      <td>السديس يءكد تفعيل التحول الالكتروني تعاملات الرءاسه URL</td>\n",
              "      <td>None</td>\n",
              "      <td>0</td>\n",
              "    </tr>\n",
              "    <tr>\n",
              "      <th>15</th>\n",
              "      <td>باعتقادك تءثر الامبرياليه عمليه احلال الاجراءات التراتيبيه التسلسليه تقوض عمليه تقديم الخدمه للعملاء ماموري سعاده المتعاملين التحول الالكتروني اسهم تسهيل تقصير رحله المتعامل منظورك الشخصيهل لمءشرات الاداء دور رقابي علي الخدمه نفسها ام مقدميها</td>\n",
              "      <td>None</td>\n",
              "      <td>0</td>\n",
              "    </tr>\n",
              "    <tr>\n",
              "      <th>16</th>\n",
              "      <td>وين تمكين المراه</td>\n",
              "      <td>None</td>\n",
              "      <td>0</td>\n",
              "    </tr>\n",
              "    <tr>\n",
              "      <th>17</th>\n",
              "      <td>يامستشارين الصحه اللي جته كورونا المفروض يصير عنده مناعه اي مرض فيروسي يصيب الانسان ومع تقولون ياخذ تطعيم كورونا التطعيم تجيه كورونا تقولون ممكن التطعيم للابد تقولون سنه بالكثير وينتهي المفعول اجابه علميه حقيق</td>\n",
              "      <td>Against</td>\n",
              "      <td>2</td>\n",
              "    </tr>\n",
              "    <tr>\n",
              "      <th>18</th>\n",
              "      <td>اللي جته كورونا المفروض يصير عنده مناعه اي مرض فيروسي يصيب الانسان ومع تقولون ياخذ تطعيم كورونا التطعيم تجيه كورونا تقولون ممكن التطعيم للابد تقولون سنه بالكثير وينتهي المفعول اجابه علميه حقيقيه تنورون</td>\n",
              "      <td>Against</td>\n",
              "      <td>2</td>\n",
              "    </tr>\n",
              "    <tr>\n",
              "      <th>19</th>\n",
              "      <td>اللي جته كورونا المفروض يصير عنده مناعه اي مرض فيروسي يصيب الانسان ومع تقولون ياخذ تطعيم كورونا التطعيم تجيه كورونا تقولون ممكن التطعيم للابد تقولون سنه بالكثير وينتهي المفعول اجابه علميه حقيقيه</td>\n",
              "      <td>Against</td>\n",
              "      <td>2</td>\n",
              "    </tr>\n",
              "  </tbody>\n",
              "</table>\n",
              "</div>\n",
              "    <div class=\"colab-df-buttons\">\n",
              "\n",
              "  <div class=\"colab-df-container\">\n",
              "    <button class=\"colab-df-convert\" onclick=\"convertToInteractive('df-5580a998-5174-47ca-af3a-e0a842c1379d')\"\n",
              "            title=\"Convert this dataframe to an interactive table.\"\n",
              "            style=\"display:none;\">\n",
              "\n",
              "  <svg xmlns=\"http://www.w3.org/2000/svg\" height=\"24px\" viewBox=\"0 -960 960 960\">\n",
              "    <path d=\"M120-120v-720h720v720H120Zm60-500h600v-160H180v160Zm220 220h160v-160H400v160Zm0 220h160v-160H400v160ZM180-400h160v-160H180v160Zm440 0h160v-160H620v160ZM180-180h160v-160H180v160Zm440 0h160v-160H620v160Z\"/>\n",
              "  </svg>\n",
              "    </button>\n",
              "\n",
              "  <style>\n",
              "    .colab-df-container {\n",
              "      display:flex;\n",
              "      gap: 12px;\n",
              "    }\n",
              "\n",
              "    .colab-df-convert {\n",
              "      background-color: #E8F0FE;\n",
              "      border: none;\n",
              "      border-radius: 50%;\n",
              "      cursor: pointer;\n",
              "      display: none;\n",
              "      fill: #1967D2;\n",
              "      height: 32px;\n",
              "      padding: 0 0 0 0;\n",
              "      width: 32px;\n",
              "    }\n",
              "\n",
              "    .colab-df-convert:hover {\n",
              "      background-color: #E2EBFA;\n",
              "      box-shadow: 0px 1px 2px rgba(60, 64, 67, 0.3), 0px 1px 3px 1px rgba(60, 64, 67, 0.15);\n",
              "      fill: #174EA6;\n",
              "    }\n",
              "\n",
              "    .colab-df-buttons div {\n",
              "      margin-bottom: 4px;\n",
              "    }\n",
              "\n",
              "    [theme=dark] .colab-df-convert {\n",
              "      background-color: #3B4455;\n",
              "      fill: #D2E3FC;\n",
              "    }\n",
              "\n",
              "    [theme=dark] .colab-df-convert:hover {\n",
              "      background-color: #434B5C;\n",
              "      box-shadow: 0px 1px 3px 1px rgba(0, 0, 0, 0.15);\n",
              "      filter: drop-shadow(0px 1px 2px rgba(0, 0, 0, 0.3));\n",
              "      fill: #FFFFFF;\n",
              "    }\n",
              "  </style>\n",
              "\n",
              "    <script>\n",
              "      const buttonEl =\n",
              "        document.querySelector('#df-5580a998-5174-47ca-af3a-e0a842c1379d button.colab-df-convert');\n",
              "      buttonEl.style.display =\n",
              "        google.colab.kernel.accessAllowed ? 'block' : 'none';\n",
              "\n",
              "      async function convertToInteractive(key) {\n",
              "        const element = document.querySelector('#df-5580a998-5174-47ca-af3a-e0a842c1379d');\n",
              "        const dataTable =\n",
              "          await google.colab.kernel.invokeFunction('convertToInteractive',\n",
              "                                                    [key], {});\n",
              "        if (!dataTable) return;\n",
              "\n",
              "        const docLinkHtml = 'Like what you see? Visit the ' +\n",
              "          '<a target=\"_blank\" href=https://colab.research.google.com/notebooks/data_table.ipynb>data table notebook</a>'\n",
              "          + ' to learn more about interactive tables.';\n",
              "        element.innerHTML = '';\n",
              "        dataTable['output_type'] = 'display_data';\n",
              "        await google.colab.output.renderOutput(dataTable, element);\n",
              "        const docLink = document.createElement('div');\n",
              "        docLink.innerHTML = docLinkHtml;\n",
              "        element.appendChild(docLink);\n",
              "      }\n",
              "    </script>\n",
              "  </div>\n",
              "\n",
              "\n",
              "<div id=\"df-428ad906-ebb6-4f12-b66a-d0a05633608a\">\n",
              "  <button class=\"colab-df-quickchart\" onclick=\"quickchart('df-428ad906-ebb6-4f12-b66a-d0a05633608a')\"\n",
              "            title=\"Suggest charts\"\n",
              "            style=\"display:none;\">\n",
              "\n",
              "<svg xmlns=\"http://www.w3.org/2000/svg\" height=\"24px\"viewBox=\"0 0 24 24\"\n",
              "     width=\"24px\">\n",
              "    <g>\n",
              "        <path d=\"M19 3H5c-1.1 0-2 .9-2 2v14c0 1.1.9 2 2 2h14c1.1 0 2-.9 2-2V5c0-1.1-.9-2-2-2zM9 17H7v-7h2v7zm4 0h-2V7h2v10zm4 0h-2v-4h2v4z\"/>\n",
              "    </g>\n",
              "</svg>\n",
              "  </button>\n",
              "\n",
              "<style>\n",
              "  .colab-df-quickchart {\n",
              "      --bg-color: #E8F0FE;\n",
              "      --fill-color: #1967D2;\n",
              "      --hover-bg-color: #E2EBFA;\n",
              "      --hover-fill-color: #174EA6;\n",
              "      --disabled-fill-color: #AAA;\n",
              "      --disabled-bg-color: #DDD;\n",
              "  }\n",
              "\n",
              "  [theme=dark] .colab-df-quickchart {\n",
              "      --bg-color: #3B4455;\n",
              "      --fill-color: #D2E3FC;\n",
              "      --hover-bg-color: #434B5C;\n",
              "      --hover-fill-color: #FFFFFF;\n",
              "      --disabled-bg-color: #3B4455;\n",
              "      --disabled-fill-color: #666;\n",
              "  }\n",
              "\n",
              "  .colab-df-quickchart {\n",
              "    background-color: var(--bg-color);\n",
              "    border: none;\n",
              "    border-radius: 50%;\n",
              "    cursor: pointer;\n",
              "    display: none;\n",
              "    fill: var(--fill-color);\n",
              "    height: 32px;\n",
              "    padding: 0;\n",
              "    width: 32px;\n",
              "  }\n",
              "\n",
              "  .colab-df-quickchart:hover {\n",
              "    background-color: var(--hover-bg-color);\n",
              "    box-shadow: 0 1px 2px rgba(60, 64, 67, 0.3), 0 1px 3px 1px rgba(60, 64, 67, 0.15);\n",
              "    fill: var(--button-hover-fill-color);\n",
              "  }\n",
              "\n",
              "  .colab-df-quickchart-complete:disabled,\n",
              "  .colab-df-quickchart-complete:disabled:hover {\n",
              "    background-color: var(--disabled-bg-color);\n",
              "    fill: var(--disabled-fill-color);\n",
              "    box-shadow: none;\n",
              "  }\n",
              "\n",
              "  .colab-df-spinner {\n",
              "    border: 2px solid var(--fill-color);\n",
              "    border-color: transparent;\n",
              "    border-bottom-color: var(--fill-color);\n",
              "    animation:\n",
              "      spin 1s steps(1) infinite;\n",
              "  }\n",
              "\n",
              "  @keyframes spin {\n",
              "    0% {\n",
              "      border-color: transparent;\n",
              "      border-bottom-color: var(--fill-color);\n",
              "      border-left-color: var(--fill-color);\n",
              "    }\n",
              "    20% {\n",
              "      border-color: transparent;\n",
              "      border-left-color: var(--fill-color);\n",
              "      border-top-color: var(--fill-color);\n",
              "    }\n",
              "    30% {\n",
              "      border-color: transparent;\n",
              "      border-left-color: var(--fill-color);\n",
              "      border-top-color: var(--fill-color);\n",
              "      border-right-color: var(--fill-color);\n",
              "    }\n",
              "    40% {\n",
              "      border-color: transparent;\n",
              "      border-right-color: var(--fill-color);\n",
              "      border-top-color: var(--fill-color);\n",
              "    }\n",
              "    60% {\n",
              "      border-color: transparent;\n",
              "      border-right-color: var(--fill-color);\n",
              "    }\n",
              "    80% {\n",
              "      border-color: transparent;\n",
              "      border-right-color: var(--fill-color);\n",
              "      border-bottom-color: var(--fill-color);\n",
              "    }\n",
              "    90% {\n",
              "      border-color: transparent;\n",
              "      border-bottom-color: var(--fill-color);\n",
              "    }\n",
              "  }\n",
              "</style>\n",
              "\n",
              "  <script>\n",
              "    async function quickchart(key) {\n",
              "      const quickchartButtonEl =\n",
              "        document.querySelector('#' + key + ' button');\n",
              "      quickchartButtonEl.disabled = true;  // To prevent multiple clicks.\n",
              "      quickchartButtonEl.classList.add('colab-df-spinner');\n",
              "      try {\n",
              "        const charts = await google.colab.kernel.invokeFunction(\n",
              "            'suggestCharts', [key], {});\n",
              "      } catch (error) {\n",
              "        console.error('Error during call to suggestCharts:', error);\n",
              "      }\n",
              "      quickchartButtonEl.classList.remove('colab-df-spinner');\n",
              "      quickchartButtonEl.classList.add('colab-df-quickchart-complete');\n",
              "    }\n",
              "    (() => {\n",
              "      let quickchartButtonEl =\n",
              "        document.querySelector('#df-428ad906-ebb6-4f12-b66a-d0a05633608a button');\n",
              "      quickchartButtonEl.style.display =\n",
              "        google.colab.kernel.accessAllowed ? 'block' : 'none';\n",
              "    })();\n",
              "  </script>\n",
              "</div>\n",
              "    </div>\n",
              "  </div>\n"
            ],
            "application/vnd.google.colaboratory.intrinsic+json": {
              "type": "dataframe",
              "variable_name": "df_org",
              "summary": "{\n  \"name\": \"df_org\",\n  \"rows\": 3502,\n  \"fields\": [\n    {\n      \"column\": \"text\",\n      \"properties\": {\n        \"dtype\": \"string\",\n        \"num_unique_values\": 3490,\n        \"samples\": [\n          \"\\u062d\\u062f \\u064a\\u0635\\u062d\\u062d \\u0627\\u0630\\u0627 \\u0643\\u0646\\u062a \\u063a\\u0644\\u0637\\u0627\\u0646 \\u0627\\u0644\\u0645 \\u064a\\u0643\\u0646 \\u0627\\u0644\\u0645\\u0639\\u0646\\u064a\\u064a\\u0646 \\u0628\\u0627\\u0644\\u062a\\u062d\\u0648\\u0644 \\u0627\\u0644\\u0627\\u0644\\u0643\\u062a\\u0631\\u0648\\u0646\\u064a \\u0639\\u0627\\u0645 \\u0662\\u0660\\u0661\\u0662 \\u0646\\u0641\\u0633\\u0647\\u0645 \\u0627\\u0644\\u0645\\u0633\\u0621\\u0648\\u0644\\u064a\\u0646 \\u0639\\u0646\\u0643\\u062f\\u0633 \\u0627\\u0644\\u0646\\u062f\\u0648\\u0627\\u062a \\u0648\\u0627\\u0644\\u0645\\u0621\\u062a\\u0645\\u0631\\u0627\\u062a \\u0627\\u0644\\u0644\\u064a \\u062a\\u0642\\u0648\\u062f \\u0627\\u0644\\u064a \\u0627\\u0644\\u062a\\u062d\\u0648\\u0644 \\u0627\\u0644\\u062a\\u062d\\u0648\\u0644 \\u0646\\u0641\\u0633\\u0647 \\u062a\\u0639\\u062b\\u0631 \\u0627\\u0644\\u062f\\u0631\\u0628 \\u0627\\u0644\\u064a\\u0646 \\u0627\\u0644\\u062d\\u064a\\u0646 URL\",\n          \"\\u064a\\u0648\\u0645 \\u0627\\u0644\\u0645\\u0631\\u0627\\u0647 \\u0627\\u0644\\u0639\\u0627\\u0644\\u0645\\u064a \\u0639\\u0627\\u0645 \\u0648\\u0627\\u0646\\u062a\\u064a \\u0645\\u0644\\u0647\\u0645\\u0647 \\u0648\\u0637\\u0645\\u0648\\u062d\\u0647 \\u0648\\u0642\\u0648\\u064a\\u0647 \\u0648\\u0645\\u0646\\u062c\\u0632\\u0647 \\u0639\\u0627\\u0645 \\u0648\\u0627\\u0646\\u062a\\u064a \\u0627\\u0633\\u0627\\u0633 \\u0627\\u0644\\u0645\\u062c\\u062a\\u0645\\u0639 \\u0627\\u0633\\u062a\\u062e\\u062f\\u0645 \\u0643\\u0648\\u062f \\u0627\\u0644\\u062e\\u0635\\u0645 WOM10 \\u0648\\u0627\\u062d\\u0635\\u0644 \\u0639\\u0644\\u064a \\u062e\\u0635\\u0645 \\u0641\\u0648\\u0631\\u064a \\u0639\\u0644\\u064a \\u0627\\u0644\\u0627\\u062c\\u0647\\u0632\\u0647 \\u0627\\u0644\\u0635\\u063a\\u064a\\u0631\\u0647 \\u0648\\u0645\\u0646\\u062a\\u062c\\u0627\\u062a \\u0627\\u0644\\u0639\\u0646\\u0627\\u064a\\u0647 \\u0627\\u0644\\u0634\\u062e\\u0635\\u064a\\u0647 \\u0643\\u0648\\u0646\\u064a\\u0642\\u062f\\u0648\\u0647 \\u062a\\u0645\\u0643\\u064a\\u0646 \\u0627\\u0644\\u064a\\u0648\\u0645\\u0627\\u0644\\u0645\\u0631\\u0627\\u0647\\u0627\\u0644\\u0639\\u0627\\u0644\\u0645\\u064a \\u0647\\u064a\\u062a\\u0642\\u0648\\u062f\",\n          \"\\u063a\\u0631\\u0641\\u0647 \\u0627\\u0644\\u0634\\u0631\\u0642\\u064a\\u0647 \\u062a\\u0646\\u0638\\u0645 \\u0644\\u0642\\u0627\\u0621 \\u0631\\u0627\\u0621\\u062f\\u0627\\u062a \\u0627\\u0644\\u0627\\u0639\\u0645\\u0627\\u0644 \\u0628\\u0627\\u0644\\u0642\\u0637\\u064a\\u0641 \\u0634\\u0628\\u0643\\u0647 \\u0627\\u0645 \\u0627\\u0644\\u062d\\u0645\\u0627\\u0645 \\u0646\\u0638\\u0645\\u062a \\u063a\\u0631\\u0641\\u0647 \\u0627\\u0644\\u0634\\u0631\\u0642\\u064a\\u0647 \\u0645\\u0645\\u062b\\u0644\\u0647 \\u0628\\u0645\\u0631\\u0643\\u0632 \\u062a\\u0645\\u0643\\u064a\\u0646 \\u0627\\u0644\\u0645\\u0631\\u0627\\u0647 \\u0627\\u0645\\u0633 \\u0644\\u0642\\u0627\\u0621 \\u0631\\u0627\\u0621\\u062f\\u0627\\u062a \\u0627\\u0644\\u0627\\u0639\\u0645\\u0627\\u0644 \\u0628\\u0645\\u062d\\u0627\\u0641\\u0638\\u0647 \\u0627\\u0644\\u0642\\u0637\\u064a\\u0641 \\u0627\\u0633\\u062a\\u0636\\u0627\\u0641\\u062a \\u062e\\u0644\\u0627\\u0644\\u0647 \\u0645\\u062f\\u064a\\u0631\\u0647 \\u0627\\u0644\\u0641\\u0631\\u0639 \\u0627\\u0644\\u0646\\u0633\\u0627\\u0621\\u064a \\u0644\\u0628\\u0646\\u0643 \\u0627\\u0644\\u062a\\u0646\\u0645\\u064a\\u0647 \\u0627\\u0644\\u0627\\u062c\\u062a\\u0645\\u0627\\u0639\\u064a\\u0647 \\u0628\\u0627\\u0644\\u0645\\u0646\\u0637\\u0642\\u0647 \\u0641\\u0648\\u0632\\u064a\\u0647 \\u0627\\u0644\\u0642\\u062d\\u0637\\u0627\\u0646\\u064a \\u0627\\u0633\\u062a\\u0639\\u0631\\u0636\\u062a \\u062e\\u062f\\u0645\\u0627\\u062a\"\n        ],\n        \"semantic_type\": \"\",\n        \"description\": \"\"\n      }\n    },\n    {\n      \"column\": \"stance\",\n      \"properties\": {\n        \"dtype\": \"category\",\n        \"num_unique_values\": 3,\n        \"samples\": [\n          \"Against\",\n          \"None\",\n          \"Favor\"\n        ],\n        \"semantic_type\": \"\",\n        \"description\": \"\"\n      }\n    },\n    {\n      \"column\": \"labels\",\n      \"properties\": {\n        \"dtype\": \"number\",\n        \"std\": 0,\n        \"min\": 0,\n        \"max\": 2,\n        \"num_unique_values\": 3,\n        \"samples\": [\n          2,\n          0,\n          1\n        ],\n        \"semantic_type\": \"\",\n        \"description\": \"\"\n      }\n    }\n  ]\n}"
            }
          },
          "metadata": {},
          "execution_count": 287
        }
      ]
    },
    {
      "cell_type": "code",
      "execution_count": null,
      "metadata": {
        "id": "mac8gGgWmYNn",
        "colab": {
          "base_uri": "https://localhost:8080/"
        },
        "outputId": "6b803838-9089-427b-9a97-5c2deb67247d"
      },
      "outputs": [
        {
          "output_type": "execute_result",
          "data": {
            "text/plain": [
              "(tensor([[0.0026, 0.9914, 0.0060]], grad_fn=<SoftmaxBackward0>),\n",
              " tensor(1),\n",
              " 'None')"
            ]
          },
          "metadata": {},
          "execution_count": 290
        }
      ],
      "source": [
        "# Test with a an example text in Turkish\n",
        "#text = \"Makine öğrenimi kendisi de daha da otomatik hale doğru ilerliyor.\"\n",
        "text = \"فخورين بنساء الوطن 🇸🇦 وكلنا فخر بتقدم تمكين المراه يوم يوم الله يديم حكومتنا ويحفظ بلادنا ويعزها\" ## Against\n",
        "#text= \"عشان مره ماتصير هطف وتصدق وزاره الكحه ونصيحه تاخذ الجرعه الثالثه التنشيطيه لانها اللي تعيد تدوير اللقاح\" #Against\n",
        "\n",
        "# \"Machine Learning itself is moving towards more and more automated\"\n",
        "predict(text)"
      ]
    },
    {
      "cell_type": "code",
      "source": [
        "text0 = 'ومافي امراه تبربر دخل الرجال وفلوسه زمن تمكين المراه الا عاجزه وارفله'\n",
        "predict(text0)"
      ],
      "metadata": {
        "colab": {
          "base_uri": "https://localhost:8080/"
        },
        "id": "bnodKWZI-eEs",
        "outputId": "6f734403-0c52-454b-c65c-184b77df4399"
      },
      "execution_count": null,
      "outputs": [
        {
          "output_type": "execute_result",
          "data": {
            "text/plain": [
              "(tensor([[0.1243, 0.1313, 0.7445]], grad_fn=<SoftmaxBackward0>),\n",
              " tensor(2),\n",
              " 'Favor')"
            ]
          },
          "metadata": {},
          "execution_count": 198
        }
      ]
    },
    {
      "cell_type": "code",
      "source": [
        "text1 ='التحول الالكتروني يقضي علي الفوضي ويرتقي بالمهنه' ## Favor\n",
        "predict(text1)"
      ],
      "metadata": {
        "colab": {
          "base_uri": "https://localhost:8080/"
        },
        "id": "I_B9kDo8F9Zg",
        "outputId": "f04abe9b-0396-4be6-e992-c9aa52d3cfe0"
      },
      "execution_count": null,
      "outputs": [
        {
          "output_type": "execute_result",
          "data": {
            "text/plain": [
              "(tensor([[0.1389, 0.6373, 0.2237]], grad_fn=<SoftmaxBackward0>),\n",
              " tensor(1),\n",
              " 'None')"
            ]
          },
          "metadata": {},
          "execution_count": 199
        }
      ]
    },
    {
      "cell_type": "code",
      "source": [
        "text2='تمكين المراه مكتسح 🤍🇸🇦' ## Favor\n",
        "predict(text2)"
      ],
      "metadata": {
        "colab": {
          "base_uri": "https://localhost:8080/"
        },
        "id": "ZwuKpyIdGtlE",
        "outputId": "adef3166-bad6-4c05-ee57-ba883d675b48"
      },
      "execution_count": null,
      "outputs": [
        {
          "output_type": "execute_result",
          "data": {
            "text/plain": [
              "(tensor([[0.0961, 0.0837, 0.8202]], grad_fn=<SoftmaxBackward0>),\n",
              " tensor(2),\n",
              " 'Favor')"
            ]
          },
          "metadata": {},
          "execution_count": 200
        }
      ]
    },
    {
      "cell_type": "markdown",
      "metadata": {
        "id": "WWoJjzP6aYlc"
      },
      "source": [
        "## Save model for inference"
      ]
    },
    {
      "cell_type": "code",
      "execution_count": null,
      "metadata": {
        "id": "aF7GVSKSYBPw",
        "colab": {
          "base_uri": "https://localhost:8080/"
        },
        "outputId": "ba7d11df-3738-4b3f-dac1-753ff59b5e62"
      },
      "outputs": [
        {
          "output_type": "execute_result",
          "data": {
            "text/plain": [
              "('arabic-text-stanceEval/tokenizer_config.json',\n",
              " 'arabic-text-stanceEval/special_tokens_map.json',\n",
              " 'arabic-text-stanceEval/vocab.txt',\n",
              " 'arabic-text-stanceEval/added_tokens.json',\n",
              " 'arabic-text-stanceEval/tokenizer.json')"
            ]
          },
          "metadata": {},
          "execution_count": 201
        }
      ],
      "source": [
        "model_path = \"arabic-text-stanceEval\"\n",
        "trainer.save_model(model_path)\n",
        "tokenizer.save_pretrained(model_path)"
      ]
    },
    {
      "cell_type": "markdown",
      "metadata": {
        "id": "mUKNavHKRU6i"
      },
      "source": [
        "## Re-Load saved model for inference"
      ]
    },
    {
      "cell_type": "code",
      "execution_count": null,
      "metadata": {
        "id": "qEYQdBL8Tdkm"
      },
      "outputs": [],
      "source": [
        "model_path = \"arabic-text-stanceEval\"\n",
        "\n",
        "\n",
        "model = BertForSequenceClassification.from_pretrained(model_path)\n",
        "tokenizer= BertTokenizerFast.from_pretrained(model_path)\n",
        "\n",
        "#nlp= pipeline(\"sentiment-analysis\", model=model, tokenizer=tokenizer)\n",
        "\n",
        "nlp = pipeline(\"text-classification\", model=model, tokenizer=tokenizer)"
      ]
    },
    {
      "cell_type": "code",
      "execution_count": null,
      "metadata": {
        "id": "zyiJkIvzcdgC",
        "colab": {
          "base_uri": "https://localhost:8080/"
        },
        "outputId": "30cac24e-cdb5-4eec-870c-1e397e4a707c"
      },
      "outputs": [
        {
          "output_type": "execute_result",
          "data": {
            "text/plain": [
              "[{'label': 'None', 'score': 0.9456400275230408}]"
            ]
          },
          "metadata": {},
          "execution_count": 239
        }
      ],
      "source": [
        "#nlp(\"Bugün hava çok güzel, dışarıda yürümek istiyorum.\")\n",
        "nlp('الحمدالله علي نعمه ابشر ونعمه التحول الالكتروني') ## Favor\n",
        "# Today the weather is very nice, I want to go for a walk outside\n",
        "\n",
        "# Gives below output\n",
        "#[{'label': 'saglik', 'score': 0.8295329213142395}]\n",
        "# \"Saglik\" is a Turkish word that means \"health\" in English."
      ]
    },
    {
      "cell_type": "code",
      "execution_count": null,
      "metadata": {
        "id": "RPLqmWPMGc53",
        "colab": {
          "base_uri": "https://localhost:8080/"
        },
        "outputId": "6b2792a2-e5fa-4f23-a435-5389c9057888"
      },
      "outputs": [
        {
          "output_type": "execute_result",
          "data": {
            "text/plain": [
              "[{'label': 'Favor', 'score': 0.5550872683525085}]"
            ]
          },
          "metadata": {},
          "execution_count": 245
        }
      ],
      "source": [
        "#nlp(\"Derin Öğrenme ve Yapay Zeka dünyayı değiştirecek.\")\n",
        "nlp(\"نقصد بالتويته ان الرجل مش نسوي لانه يتم اضطهاد...\")\n",
        "# Deep Learning and AI is going to change the world\n",
        "\n",
        "# gives below output\n",
        "#[{'label': 'teknoloji', 'score': 0.9932782053947449}]"
      ]
    },
    {
      "cell_type": "code",
      "execution_count": null,
      "metadata": {
        "id": "5hc65L_mQcVf",
        "colab": {
          "base_uri": "https://localhost:8080/"
        },
        "outputId": "b40b6d45-3b93-4ae2-e2ce-b02666c5cb8e"
      },
      "outputs": [
        {
          "output_type": "execute_result",
          "data": {
            "text/plain": [
              "[{'label': 'Against', 'score': 0.49603942036628723}]"
            ]
          },
          "metadata": {},
          "execution_count": 246
        }
      ],
      "source": [
        "nlp(\"امي اخذت تطعيم كورونا اليوم 👍🏻\") ##Favor\n",
        "# Due to recent volatility in the economy, the stock market index has been at quite low levels\n",
        "\n",
        "#gives below output\n",
        "#[{'label': 'ekonomi', 'score': 0.9850727915763855}]"
      ]
    },
    {
      "cell_type": "code",
      "source": [
        "df_org.sample(25)"
      ],
      "metadata": {
        "colab": {
          "base_uri": "https://localhost:8080/",
          "height": 972
        },
        "id": "alkKwmbVYv0O",
        "outputId": "52e56491-057e-4a59-f480-56b1df782901"
      },
      "execution_count": null,
      "outputs": [
        {
          "output_type": "execute_result",
          "data": {
            "text/plain": [
              "                                                                                                                                                                                                                                                                              text  \\\n",
              "2110                        MENTION MENTION مافيه تطعيم بالعالم يحمي ١٠٠٪ يقوله مسلم شي بامر الله كورونا وكل التطعيمات تعطيك حمايه بنسبه كبيره وتقلل نسبه المخاطر والاصابه كفيل اننا نتجه للتطعيم وتفعل بالاسباب انا طعمت بالانلفونزا واصابني خفيفه العبره احارب التطعيم واقول كذب   \n",
              "1920                                                                                         تجار المخدرات الحقيقيين العالم ام انهم يعلمون وكالعاده يمارسون الدجل عبر الاعلام والذباب الالكتروني سارعب الانظمه بامتداح جيوشها بزعم انها منعت بلادها التحول صوب النموذج الطالباني 9   \n",
              "1039                                                                                                                                                                                                                           خل كورونا تمر عليها الفيروسات تتشهد قال تطعيم قال 😅   \n",
              "2537                                                        اختفت الكتب والكتابه وهي تحدث بحكم التكنلوجيا واجهزتها الي يوم جديد ستعود الامه اجهل ماقبل التعليم لان عقولهم ستصبح بشريه لتوحد الفكر بعلم الالكتروني ستنغلق التدبر والتفكير ماحولها وستفقد الاجيال حيويه العقل البشري   \n",
              "507                                                                                                                                                                                                        نتمني ظل التحول التقني والرقمي تشهده مملكتنا الحبيبه ظل قيادتنا الرشيده   \n",
              "966                                                                                                                                                                             ترا والله احنا نعاني حتي نكتب تغريده اي شي ينطون الربع🙈 تغريده فخر تمكين المراه بو محمد ليش زعلان😜   \n",
              "495                                                                                                                                                                     ماذ الاطفال اعمار اقل ١٥ عام عندهم زياره ولم يتلقو تطعيم كورونا اجراءات العمره نرجو الاجابه بارك الله فيكم   \n",
              "2856                                                                                                                                                                           حاليا ام سي ١ برنامج معاليالمواطن التحول الالكتروني التعليم والتعليم تجربه المملكه اكثر راءعه ناجحه   \n",
              "1674                                انا مش مءمن بنظريات المءامره الي تحوم علي تطعيم كورونا الوقت نبيش نطعم تطعيم اعراض جانبيه كانت العشر الاف تبقي نسبه والاصابه بكورونا نسبه قليله تتدهور حالته الحالتين بعضهن اخذ التطعيم او اصبت بكورونا بدون تطعيم وانا اخترت نعتمد علي مناعتي   \n",
              "696                                                                                                                        ده جزء حمله رسميه للحد النسل بالكذب علي الذقونالطلاق سببه القوانين الفاسده والحملات الاعلاميه الفاجره تتكلم تمكين المراه والظلم الواقع عليهاوعيشي حياتك   \n",
              "351                                                                                                                                                                           خايفه التحول الالكتروني اللي حنا ابدا ماني سعيده هالخطوه اليوم حنا مستانسين بالسهوله سنين وش رح يصير   \n",
              "1276                                                                                                                                       هاديه رايقه ومافيه شي ممكن يعصبك 💅🏻 تحبين خوليو اغلاسياس اكثر مني 💔 تمكين المراه وبقوه 😂❤ 24 ساعه تتقهوين ☕ ماتحبين السفر ابددااا 🙅🏻‍♀️   \n",
              "1657                                                                                                                                                                             الحين شوي شوي تطلع التحذيرات علي تطعيم ڤايروس كورونا والله كثر اللي بنفقدهم بعيد الشر بتشخيص خاطء   \n",
              "1967                           MENTION اذا قلنا العرب هالكلام قالوا تبالغون دكتوره فنلنديه تقول لقاح سلاح بيولوجي وتاريخ الدوله صنعت لقاح فايزر سبق ان اوقفوا نسل الهنود الخمر خلال تطعيم النساء فلماذا نعتقد ان هالحرب القذره ضد الهنود الحمر تعاد المسلمين اين وزراء الصحه العرب   \n",
              "799                                                                                                                                                   طلبي الوحيد مساعده سيادتك يارب يسعد قلبك ويهنيكي اذا صوره جواز السفر وشهاده تطعيم فيروس كورونا تلبيه الامنيه رقم 01094746990   \n",
              "521                                                                        مجلسالشءونالاداريهللقضاء يطلق دليلا استرشاديا لبعض الخدمات القضاءيه يقدمها تجدونها الموقع الالكتروني منصه قضاء للخدمات الالكترونيه بحقل اجراءات التقاضي علي URL قضاء مشروعالتحولالالكتروني ⚖️🇴🇲 URL URL   \n",
              "1553  MENTION MENTION الامراض ممكن تنتقل الواحد ياخذ بالاسباب يتوكل علي الله ليش ارفض شي ديرتي مصرحته بعدين تعورون راسنا عمركم بحثتو باقي التطعيمات الي تعطونها عيالكم والا تعترضون لمجرد الاعتراض والله والله تقرون تطعيمات الاطفال الاعراض الجانبيه انها اكثر اعراض تطعيم كورونا   \n",
              "2137                                                                                                                                                                                              تمكين المراه امر جيد مراعاه الدين الاسلامي يحفظ حقوقها نصف المجتمع وشركاء النجاح   \n",
              "3102                                                                                                                                                        شكرا تقديم الفرصه الجميله المفيده لتنميه مهاراتنا التسويقيه الابداعيه 😍😍😍 👏🏻👏🏻👏🏻 التاهيلالمهنيوالحرفي ينبع تمكينالمراه   \n",
              "1355                                                                     بمناسبه يومالمراهالعربيه يسعدنا ان نحتفي بانجازات المراه القطريه ودورها الفعال شتي المجالات وفي المسيره التنمويه ومساهمتها تمكين المجتمع والحفاظ علي التماسك الاسري وكل عام والنساء العربيات بالف خير URL   \n",
              "474                                                                                                                                                        انها فرصه لكل مدير يثبت نفسه عصر التحول الالكتروني ويزيد جاهزيه ادارته واقسامها العقول حجر لهالمدراء خلكبالبيت عملعنبعد   \n",
              "2927                           يفقه شيء ينشر خبر الكل يسوي ريتويت للخبر يطرشون واتس اب يبلشونا ممرض امريكي يحوشه كورونا واهوا ماخذ اللقاح حبيبي امي انت احنا ننولد ناخذ تطعيمات الجدري مثلايحوشنا جدري يذبحنا ناخذ تطعيم فلو يحوشنا فلو مو قوي نموت الفلو قالك اللقاح يمنع الاصابه   \n",
              "3452                       MENTION MENTION قال انه مضاعفات انا شخصيا اخذت التطعيم الاول والثاني والامور جدا طيبه اي مضاعفات اي شخص السلطنه مسندم الي ظفار تعرض لمضاعفات اثر تطعيم ضد فايروس كورونا سواء لقاح فايزر او لقاح استرازينكا حفظ الله الجميع وابعد الله الوباء عمان عليها   \n",
              "1546                                                                                                                                                                                                              اكذوبه تمكينالمراه ماهي الا فخ لابعاد الناس دينهم ليسهل ابتلاعهم   \n",
              "980                                                                                                                                                                                                                 الوظيفه كانت حصريه للذكور تمكين المراه بديت اشوف تزاحم عليها 😂   \n",
              "\n",
              "       stance  \n",
              "2110    Favor  \n",
              "1920    Favor  \n",
              "1039  Against  \n",
              "2537  Against  \n",
              "507     Favor  \n",
              "966     Favor  \n",
              "495      None  \n",
              "2856    Favor  \n",
              "1674  Against  \n",
              "696   Against  \n",
              "351   Against  \n",
              "1276    Favor  \n",
              "1657     None  \n",
              "1967  Against  \n",
              "799      None  \n",
              "521     Favor  \n",
              "1553    Favor  \n",
              "2137    Favor  \n",
              "3102    Favor  \n",
              "1355    Favor  \n",
              "474     Favor  \n",
              "2927    Favor  \n",
              "3452    Favor  \n",
              "1546  Against  \n",
              "980     Favor  "
            ],
            "text/html": [
              "\n",
              "  <div id=\"df-c4a78d0e-6757-4b1b-8122-48cacea0919d\" class=\"colab-df-container\">\n",
              "    <div>\n",
              "<style scoped>\n",
              "    .dataframe tbody tr th:only-of-type {\n",
              "        vertical-align: middle;\n",
              "    }\n",
              "\n",
              "    .dataframe tbody tr th {\n",
              "        vertical-align: top;\n",
              "    }\n",
              "\n",
              "    .dataframe thead th {\n",
              "        text-align: right;\n",
              "    }\n",
              "</style>\n",
              "<table border=\"1\" class=\"dataframe\">\n",
              "  <thead>\n",
              "    <tr style=\"text-align: right;\">\n",
              "      <th></th>\n",
              "      <th>text</th>\n",
              "      <th>stance</th>\n",
              "    </tr>\n",
              "  </thead>\n",
              "  <tbody>\n",
              "    <tr>\n",
              "      <th>2110</th>\n",
              "      <td>MENTION MENTION مافيه تطعيم بالعالم يحمي ١٠٠٪ يقوله مسلم شي بامر الله كورونا وكل التطعيمات تعطيك حمايه بنسبه كبيره وتقلل نسبه المخاطر والاصابه كفيل اننا نتجه للتطعيم وتفعل بالاسباب انا طعمت بالانلفونزا واصابني خفيفه العبره احارب التطعيم واقول كذب</td>\n",
              "      <td>Favor</td>\n",
              "    </tr>\n",
              "    <tr>\n",
              "      <th>1920</th>\n",
              "      <td>تجار المخدرات الحقيقيين العالم ام انهم يعلمون وكالعاده يمارسون الدجل عبر الاعلام والذباب الالكتروني سارعب الانظمه بامتداح جيوشها بزعم انها منعت بلادها التحول صوب النموذج الطالباني 9</td>\n",
              "      <td>Favor</td>\n",
              "    </tr>\n",
              "    <tr>\n",
              "      <th>1039</th>\n",
              "      <td>خل كورونا تمر عليها الفيروسات تتشهد قال تطعيم قال 😅</td>\n",
              "      <td>Against</td>\n",
              "    </tr>\n",
              "    <tr>\n",
              "      <th>2537</th>\n",
              "      <td>اختفت الكتب والكتابه وهي تحدث بحكم التكنلوجيا واجهزتها الي يوم جديد ستعود الامه اجهل ماقبل التعليم لان عقولهم ستصبح بشريه لتوحد الفكر بعلم الالكتروني ستنغلق التدبر والتفكير ماحولها وستفقد الاجيال حيويه العقل البشري</td>\n",
              "      <td>Against</td>\n",
              "    </tr>\n",
              "    <tr>\n",
              "      <th>507</th>\n",
              "      <td>نتمني ظل التحول التقني والرقمي تشهده مملكتنا الحبيبه ظل قيادتنا الرشيده</td>\n",
              "      <td>Favor</td>\n",
              "    </tr>\n",
              "    <tr>\n",
              "      <th>966</th>\n",
              "      <td>ترا والله احنا نعاني حتي نكتب تغريده اي شي ينطون الربع🙈 تغريده فخر تمكين المراه بو محمد ليش زعلان😜</td>\n",
              "      <td>Favor</td>\n",
              "    </tr>\n",
              "    <tr>\n",
              "      <th>495</th>\n",
              "      <td>ماذ الاطفال اعمار اقل ١٥ عام عندهم زياره ولم يتلقو تطعيم كورونا اجراءات العمره نرجو الاجابه بارك الله فيكم</td>\n",
              "      <td>None</td>\n",
              "    </tr>\n",
              "    <tr>\n",
              "      <th>2856</th>\n",
              "      <td>حاليا ام سي ١ برنامج معاليالمواطن التحول الالكتروني التعليم والتعليم تجربه المملكه اكثر راءعه ناجحه</td>\n",
              "      <td>Favor</td>\n",
              "    </tr>\n",
              "    <tr>\n",
              "      <th>1674</th>\n",
              "      <td>انا مش مءمن بنظريات المءامره الي تحوم علي تطعيم كورونا الوقت نبيش نطعم تطعيم اعراض جانبيه كانت العشر الاف تبقي نسبه والاصابه بكورونا نسبه قليله تتدهور حالته الحالتين بعضهن اخذ التطعيم او اصبت بكورونا بدون تطعيم وانا اخترت نعتمد علي مناعتي</td>\n",
              "      <td>Against</td>\n",
              "    </tr>\n",
              "    <tr>\n",
              "      <th>696</th>\n",
              "      <td>ده جزء حمله رسميه للحد النسل بالكذب علي الذقونالطلاق سببه القوانين الفاسده والحملات الاعلاميه الفاجره تتكلم تمكين المراه والظلم الواقع عليهاوعيشي حياتك</td>\n",
              "      <td>Against</td>\n",
              "    </tr>\n",
              "    <tr>\n",
              "      <th>351</th>\n",
              "      <td>خايفه التحول الالكتروني اللي حنا ابدا ماني سعيده هالخطوه اليوم حنا مستانسين بالسهوله سنين وش رح يصير</td>\n",
              "      <td>Against</td>\n",
              "    </tr>\n",
              "    <tr>\n",
              "      <th>1276</th>\n",
              "      <td>هاديه رايقه ومافيه شي ممكن يعصبك 💅🏻 تحبين خوليو اغلاسياس اكثر مني 💔 تمكين المراه وبقوه 😂❤ 24 ساعه تتقهوين ☕ ماتحبين السفر ابددااا 🙅🏻‍♀️</td>\n",
              "      <td>Favor</td>\n",
              "    </tr>\n",
              "    <tr>\n",
              "      <th>1657</th>\n",
              "      <td>الحين شوي شوي تطلع التحذيرات علي تطعيم ڤايروس كورونا والله كثر اللي بنفقدهم بعيد الشر بتشخيص خاطء</td>\n",
              "      <td>None</td>\n",
              "    </tr>\n",
              "    <tr>\n",
              "      <th>1967</th>\n",
              "      <td>MENTION اذا قلنا العرب هالكلام قالوا تبالغون دكتوره فنلنديه تقول لقاح سلاح بيولوجي وتاريخ الدوله صنعت لقاح فايزر سبق ان اوقفوا نسل الهنود الخمر خلال تطعيم النساء فلماذا نعتقد ان هالحرب القذره ضد الهنود الحمر تعاد المسلمين اين وزراء الصحه العرب</td>\n",
              "      <td>Against</td>\n",
              "    </tr>\n",
              "    <tr>\n",
              "      <th>799</th>\n",
              "      <td>طلبي الوحيد مساعده سيادتك يارب يسعد قلبك ويهنيكي اذا صوره جواز السفر وشهاده تطعيم فيروس كورونا تلبيه الامنيه رقم 01094746990</td>\n",
              "      <td>None</td>\n",
              "    </tr>\n",
              "    <tr>\n",
              "      <th>521</th>\n",
              "      <td>مجلسالشءونالاداريهللقضاء يطلق دليلا استرشاديا لبعض الخدمات القضاءيه يقدمها تجدونها الموقع الالكتروني منصه قضاء للخدمات الالكترونيه بحقل اجراءات التقاضي علي URL قضاء مشروعالتحولالالكتروني ⚖️🇴🇲 URL URL</td>\n",
              "      <td>Favor</td>\n",
              "    </tr>\n",
              "    <tr>\n",
              "      <th>1553</th>\n",
              "      <td>MENTION MENTION الامراض ممكن تنتقل الواحد ياخذ بالاسباب يتوكل علي الله ليش ارفض شي ديرتي مصرحته بعدين تعورون راسنا عمركم بحثتو باقي التطعيمات الي تعطونها عيالكم والا تعترضون لمجرد الاعتراض والله والله تقرون تطعيمات الاطفال الاعراض الجانبيه انها اكثر اعراض تطعيم كورونا</td>\n",
              "      <td>Favor</td>\n",
              "    </tr>\n",
              "    <tr>\n",
              "      <th>2137</th>\n",
              "      <td>تمكين المراه امر جيد مراعاه الدين الاسلامي يحفظ حقوقها نصف المجتمع وشركاء النجاح</td>\n",
              "      <td>Favor</td>\n",
              "    </tr>\n",
              "    <tr>\n",
              "      <th>3102</th>\n",
              "      <td>شكرا تقديم الفرصه الجميله المفيده لتنميه مهاراتنا التسويقيه الابداعيه 😍😍😍 👏🏻👏🏻👏🏻 التاهيلالمهنيوالحرفي ينبع تمكينالمراه</td>\n",
              "      <td>Favor</td>\n",
              "    </tr>\n",
              "    <tr>\n",
              "      <th>1355</th>\n",
              "      <td>بمناسبه يومالمراهالعربيه يسعدنا ان نحتفي بانجازات المراه القطريه ودورها الفعال شتي المجالات وفي المسيره التنمويه ومساهمتها تمكين المجتمع والحفاظ علي التماسك الاسري وكل عام والنساء العربيات بالف خير URL</td>\n",
              "      <td>Favor</td>\n",
              "    </tr>\n",
              "    <tr>\n",
              "      <th>474</th>\n",
              "      <td>انها فرصه لكل مدير يثبت نفسه عصر التحول الالكتروني ويزيد جاهزيه ادارته واقسامها العقول حجر لهالمدراء خلكبالبيت عملعنبعد</td>\n",
              "      <td>Favor</td>\n",
              "    </tr>\n",
              "    <tr>\n",
              "      <th>2927</th>\n",
              "      <td>يفقه شيء ينشر خبر الكل يسوي ريتويت للخبر يطرشون واتس اب يبلشونا ممرض امريكي يحوشه كورونا واهوا ماخذ اللقاح حبيبي امي انت احنا ننولد ناخذ تطعيمات الجدري مثلايحوشنا جدري يذبحنا ناخذ تطعيم فلو يحوشنا فلو مو قوي نموت الفلو قالك اللقاح يمنع الاصابه</td>\n",
              "      <td>Favor</td>\n",
              "    </tr>\n",
              "    <tr>\n",
              "      <th>3452</th>\n",
              "      <td>MENTION MENTION قال انه مضاعفات انا شخصيا اخذت التطعيم الاول والثاني والامور جدا طيبه اي مضاعفات اي شخص السلطنه مسندم الي ظفار تعرض لمضاعفات اثر تطعيم ضد فايروس كورونا سواء لقاح فايزر او لقاح استرازينكا حفظ الله الجميع وابعد الله الوباء عمان عليها</td>\n",
              "      <td>Favor</td>\n",
              "    </tr>\n",
              "    <tr>\n",
              "      <th>1546</th>\n",
              "      <td>اكذوبه تمكينالمراه ماهي الا فخ لابعاد الناس دينهم ليسهل ابتلاعهم</td>\n",
              "      <td>Against</td>\n",
              "    </tr>\n",
              "    <tr>\n",
              "      <th>980</th>\n",
              "      <td>الوظيفه كانت حصريه للذكور تمكين المراه بديت اشوف تزاحم عليها 😂</td>\n",
              "      <td>Favor</td>\n",
              "    </tr>\n",
              "  </tbody>\n",
              "</table>\n",
              "</div>\n",
              "    <div class=\"colab-df-buttons\">\n",
              "\n",
              "  <div class=\"colab-df-container\">\n",
              "    <button class=\"colab-df-convert\" onclick=\"convertToInteractive('df-c4a78d0e-6757-4b1b-8122-48cacea0919d')\"\n",
              "            title=\"Convert this dataframe to an interactive table.\"\n",
              "            style=\"display:none;\">\n",
              "\n",
              "  <svg xmlns=\"http://www.w3.org/2000/svg\" height=\"24px\" viewBox=\"0 -960 960 960\">\n",
              "    <path d=\"M120-120v-720h720v720H120Zm60-500h600v-160H180v160Zm220 220h160v-160H400v160Zm0 220h160v-160H400v160ZM180-400h160v-160H180v160Zm440 0h160v-160H620v160ZM180-180h160v-160H180v160Zm440 0h160v-160H620v160Z\"/>\n",
              "  </svg>\n",
              "    </button>\n",
              "\n",
              "  <style>\n",
              "    .colab-df-container {\n",
              "      display:flex;\n",
              "      gap: 12px;\n",
              "    }\n",
              "\n",
              "    .colab-df-convert {\n",
              "      background-color: #E8F0FE;\n",
              "      border: none;\n",
              "      border-radius: 50%;\n",
              "      cursor: pointer;\n",
              "      display: none;\n",
              "      fill: #1967D2;\n",
              "      height: 32px;\n",
              "      padding: 0 0 0 0;\n",
              "      width: 32px;\n",
              "    }\n",
              "\n",
              "    .colab-df-convert:hover {\n",
              "      background-color: #E2EBFA;\n",
              "      box-shadow: 0px 1px 2px rgba(60, 64, 67, 0.3), 0px 1px 3px 1px rgba(60, 64, 67, 0.15);\n",
              "      fill: #174EA6;\n",
              "    }\n",
              "\n",
              "    .colab-df-buttons div {\n",
              "      margin-bottom: 4px;\n",
              "    }\n",
              "\n",
              "    [theme=dark] .colab-df-convert {\n",
              "      background-color: #3B4455;\n",
              "      fill: #D2E3FC;\n",
              "    }\n",
              "\n",
              "    [theme=dark] .colab-df-convert:hover {\n",
              "      background-color: #434B5C;\n",
              "      box-shadow: 0px 1px 3px 1px rgba(0, 0, 0, 0.15);\n",
              "      filter: drop-shadow(0px 1px 2px rgba(0, 0, 0, 0.3));\n",
              "      fill: #FFFFFF;\n",
              "    }\n",
              "  </style>\n",
              "\n",
              "    <script>\n",
              "      const buttonEl =\n",
              "        document.querySelector('#df-c4a78d0e-6757-4b1b-8122-48cacea0919d button.colab-df-convert');\n",
              "      buttonEl.style.display =\n",
              "        google.colab.kernel.accessAllowed ? 'block' : 'none';\n",
              "\n",
              "      async function convertToInteractive(key) {\n",
              "        const element = document.querySelector('#df-c4a78d0e-6757-4b1b-8122-48cacea0919d');\n",
              "        const dataTable =\n",
              "          await google.colab.kernel.invokeFunction('convertToInteractive',\n",
              "                                                    [key], {});\n",
              "        if (!dataTable) return;\n",
              "\n",
              "        const docLinkHtml = 'Like what you see? Visit the ' +\n",
              "          '<a target=\"_blank\" href=https://colab.research.google.com/notebooks/data_table.ipynb>data table notebook</a>'\n",
              "          + ' to learn more about interactive tables.';\n",
              "        element.innerHTML = '';\n",
              "        dataTable['output_type'] = 'display_data';\n",
              "        await google.colab.output.renderOutput(dataTable, element);\n",
              "        const docLink = document.createElement('div');\n",
              "        docLink.innerHTML = docLinkHtml;\n",
              "        element.appendChild(docLink);\n",
              "      }\n",
              "    </script>\n",
              "  </div>\n",
              "\n",
              "\n",
              "<div id=\"df-dfbdcc1c-f1f5-4eea-a20c-34f37a4d8f54\">\n",
              "  <button class=\"colab-df-quickchart\" onclick=\"quickchart('df-dfbdcc1c-f1f5-4eea-a20c-34f37a4d8f54')\"\n",
              "            title=\"Suggest charts\"\n",
              "            style=\"display:none;\">\n",
              "\n",
              "<svg xmlns=\"http://www.w3.org/2000/svg\" height=\"24px\"viewBox=\"0 0 24 24\"\n",
              "     width=\"24px\">\n",
              "    <g>\n",
              "        <path d=\"M19 3H5c-1.1 0-2 .9-2 2v14c0 1.1.9 2 2 2h14c1.1 0 2-.9 2-2V5c0-1.1-.9-2-2-2zM9 17H7v-7h2v7zm4 0h-2V7h2v10zm4 0h-2v-4h2v4z\"/>\n",
              "    </g>\n",
              "</svg>\n",
              "  </button>\n",
              "\n",
              "<style>\n",
              "  .colab-df-quickchart {\n",
              "      --bg-color: #E8F0FE;\n",
              "      --fill-color: #1967D2;\n",
              "      --hover-bg-color: #E2EBFA;\n",
              "      --hover-fill-color: #174EA6;\n",
              "      --disabled-fill-color: #AAA;\n",
              "      --disabled-bg-color: #DDD;\n",
              "  }\n",
              "\n",
              "  [theme=dark] .colab-df-quickchart {\n",
              "      --bg-color: #3B4455;\n",
              "      --fill-color: #D2E3FC;\n",
              "      --hover-bg-color: #434B5C;\n",
              "      --hover-fill-color: #FFFFFF;\n",
              "      --disabled-bg-color: #3B4455;\n",
              "      --disabled-fill-color: #666;\n",
              "  }\n",
              "\n",
              "  .colab-df-quickchart {\n",
              "    background-color: var(--bg-color);\n",
              "    border: none;\n",
              "    border-radius: 50%;\n",
              "    cursor: pointer;\n",
              "    display: none;\n",
              "    fill: var(--fill-color);\n",
              "    height: 32px;\n",
              "    padding: 0;\n",
              "    width: 32px;\n",
              "  }\n",
              "\n",
              "  .colab-df-quickchart:hover {\n",
              "    background-color: var(--hover-bg-color);\n",
              "    box-shadow: 0 1px 2px rgba(60, 64, 67, 0.3), 0 1px 3px 1px rgba(60, 64, 67, 0.15);\n",
              "    fill: var(--button-hover-fill-color);\n",
              "  }\n",
              "\n",
              "  .colab-df-quickchart-complete:disabled,\n",
              "  .colab-df-quickchart-complete:disabled:hover {\n",
              "    background-color: var(--disabled-bg-color);\n",
              "    fill: var(--disabled-fill-color);\n",
              "    box-shadow: none;\n",
              "  }\n",
              "\n",
              "  .colab-df-spinner {\n",
              "    border: 2px solid var(--fill-color);\n",
              "    border-color: transparent;\n",
              "    border-bottom-color: var(--fill-color);\n",
              "    animation:\n",
              "      spin 1s steps(1) infinite;\n",
              "  }\n",
              "\n",
              "  @keyframes spin {\n",
              "    0% {\n",
              "      border-color: transparent;\n",
              "      border-bottom-color: var(--fill-color);\n",
              "      border-left-color: var(--fill-color);\n",
              "    }\n",
              "    20% {\n",
              "      border-color: transparent;\n",
              "      border-left-color: var(--fill-color);\n",
              "      border-top-color: var(--fill-color);\n",
              "    }\n",
              "    30% {\n",
              "      border-color: transparent;\n",
              "      border-left-color: var(--fill-color);\n",
              "      border-top-color: var(--fill-color);\n",
              "      border-right-color: var(--fill-color);\n",
              "    }\n",
              "    40% {\n",
              "      border-color: transparent;\n",
              "      border-right-color: var(--fill-color);\n",
              "      border-top-color: var(--fill-color);\n",
              "    }\n",
              "    60% {\n",
              "      border-color: transparent;\n",
              "      border-right-color: var(--fill-color);\n",
              "    }\n",
              "    80% {\n",
              "      border-color: transparent;\n",
              "      border-right-color: var(--fill-color);\n",
              "      border-bottom-color: var(--fill-color);\n",
              "    }\n",
              "    90% {\n",
              "      border-color: transparent;\n",
              "      border-bottom-color: var(--fill-color);\n",
              "    }\n",
              "  }\n",
              "</style>\n",
              "\n",
              "  <script>\n",
              "    async function quickchart(key) {\n",
              "      const quickchartButtonEl =\n",
              "        document.querySelector('#' + key + ' button');\n",
              "      quickchartButtonEl.disabled = true;  // To prevent multiple clicks.\n",
              "      quickchartButtonEl.classList.add('colab-df-spinner');\n",
              "      try {\n",
              "        const charts = await google.colab.kernel.invokeFunction(\n",
              "            'suggestCharts', [key], {});\n",
              "      } catch (error) {\n",
              "        console.error('Error during call to suggestCharts:', error);\n",
              "      }\n",
              "      quickchartButtonEl.classList.remove('colab-df-spinner');\n",
              "      quickchartButtonEl.classList.add('colab-df-quickchart-complete');\n",
              "    }\n",
              "    (() => {\n",
              "      let quickchartButtonEl =\n",
              "        document.querySelector('#df-dfbdcc1c-f1f5-4eea-a20c-34f37a4d8f54 button');\n",
              "      quickchartButtonEl.style.display =\n",
              "        google.colab.kernel.accessAllowed ? 'block' : 'none';\n",
              "    })();\n",
              "  </script>\n",
              "</div>\n",
              "    </div>\n",
              "  </div>\n"
            ],
            "application/vnd.google.colaboratory.intrinsic+json": {
              "type": "dataframe",
              "summary": "{\n  \"name\": \"df_org\",\n  \"rows\": 25,\n  \"fields\": [\n    {\n      \"column\": \"text\",\n      \"properties\": {\n        \"dtype\": \"string\",\n        \"num_unique_values\": 25,\n        \"samples\": [\n          \"\\u0627\\u0646\\u0627 \\u0645\\u0634 \\u0645\\u0621\\u0645\\u0646 \\u0628\\u0646\\u0638\\u0631\\u064a\\u0627\\u062a \\u0627\\u0644\\u0645\\u0621\\u0627\\u0645\\u0631\\u0647 \\u0627\\u0644\\u064a \\u062a\\u062d\\u0648\\u0645 \\u0639\\u0644\\u064a \\u062a\\u0637\\u0639\\u064a\\u0645 \\u0643\\u0648\\u0631\\u0648\\u0646\\u0627 \\u0627\\u0644\\u0648\\u0642\\u062a \\u0646\\u0628\\u064a\\u0634 \\u0646\\u0637\\u0639\\u0645 \\u062a\\u0637\\u0639\\u064a\\u0645 \\u0627\\u0639\\u0631\\u0627\\u0636 \\u062c\\u0627\\u0646\\u0628\\u064a\\u0647 \\u0643\\u0627\\u0646\\u062a \\u0627\\u0644\\u0639\\u0634\\u0631 \\u0627\\u0644\\u0627\\u0641 \\u062a\\u0628\\u0642\\u064a \\u0646\\u0633\\u0628\\u0647 \\u0648\\u0627\\u0644\\u0627\\u0635\\u0627\\u0628\\u0647 \\u0628\\u0643\\u0648\\u0631\\u0648\\u0646\\u0627 \\u0646\\u0633\\u0628\\u0647 \\u0642\\u0644\\u064a\\u0644\\u0647 \\u062a\\u062a\\u062f\\u0647\\u0648\\u0631 \\u062d\\u0627\\u0644\\u062a\\u0647 \\u0627\\u0644\\u062d\\u0627\\u0644\\u062a\\u064a\\u0646 \\u0628\\u0639\\u0636\\u0647\\u0646 \\u0627\\u062e\\u0630 \\u0627\\u0644\\u062a\\u0637\\u0639\\u064a\\u0645 \\u0627\\u0648 \\u0627\\u0635\\u0628\\u062a \\u0628\\u0643\\u0648\\u0631\\u0648\\u0646\\u0627 \\u0628\\u062f\\u0648\\u0646 \\u062a\\u0637\\u0639\\u064a\\u0645 \\u0648\\u0627\\u0646\\u0627 \\u0627\\u062e\\u062a\\u0631\\u062a \\u0646\\u0639\\u062a\\u0645\\u062f \\u0639\\u0644\\u064a \\u0645\\u0646\\u0627\\u0639\\u062a\\u064a\",\n          \"MENTION MENTION \\u0627\\u0644\\u0627\\u0645\\u0631\\u0627\\u0636 \\u0645\\u0645\\u0643\\u0646 \\u062a\\u0646\\u062a\\u0642\\u0644 \\u0627\\u0644\\u0648\\u0627\\u062d\\u062f \\u064a\\u0627\\u062e\\u0630 \\u0628\\u0627\\u0644\\u0627\\u0633\\u0628\\u0627\\u0628 \\u064a\\u062a\\u0648\\u0643\\u0644 \\u0639\\u0644\\u064a \\u0627\\u0644\\u0644\\u0647 \\u0644\\u064a\\u0634 \\u0627\\u0631\\u0641\\u0636 \\u0634\\u064a \\u062f\\u064a\\u0631\\u062a\\u064a \\u0645\\u0635\\u0631\\u062d\\u062a\\u0647 \\u0628\\u0639\\u062f\\u064a\\u0646 \\u062a\\u0639\\u0648\\u0631\\u0648\\u0646 \\u0631\\u0627\\u0633\\u0646\\u0627 \\u0639\\u0645\\u0631\\u0643\\u0645 \\u0628\\u062d\\u062b\\u062a\\u0648 \\u0628\\u0627\\u0642\\u064a \\u0627\\u0644\\u062a\\u0637\\u0639\\u064a\\u0645\\u0627\\u062a \\u0627\\u0644\\u064a \\u062a\\u0639\\u0637\\u0648\\u0646\\u0647\\u0627 \\u0639\\u064a\\u0627\\u0644\\u0643\\u0645 \\u0648\\u0627\\u0644\\u0627 \\u062a\\u0639\\u062a\\u0631\\u0636\\u0648\\u0646 \\u0644\\u0645\\u062c\\u0631\\u062f \\u0627\\u0644\\u0627\\u0639\\u062a\\u0631\\u0627\\u0636 \\u0648\\u0627\\u0644\\u0644\\u0647 \\u0648\\u0627\\u0644\\u0644\\u0647 \\u062a\\u0642\\u0631\\u0648\\u0646 \\u062a\\u0637\\u0639\\u064a\\u0645\\u0627\\u062a \\u0627\\u0644\\u0627\\u0637\\u0641\\u0627\\u0644 \\u0627\\u0644\\u0627\\u0639\\u0631\\u0627\\u0636 \\u0627\\u0644\\u062c\\u0627\\u0646\\u0628\\u064a\\u0647 \\u0627\\u0646\\u0647\\u0627 \\u0627\\u0643\\u062b\\u0631 \\u0627\\u0639\\u0631\\u0627\\u0636 \\u062a\\u0637\\u0639\\u064a\\u0645 \\u0643\\u0648\\u0631\\u0648\\u0646\\u0627\",\n          \"MENTION MENTION \\u0645\\u0627\\u0641\\u064a\\u0647 \\u062a\\u0637\\u0639\\u064a\\u0645 \\u0628\\u0627\\u0644\\u0639\\u0627\\u0644\\u0645 \\u064a\\u062d\\u0645\\u064a \\u0661\\u0660\\u0660\\u066a \\u064a\\u0642\\u0648\\u0644\\u0647 \\u0645\\u0633\\u0644\\u0645 \\u0634\\u064a \\u0628\\u0627\\u0645\\u0631 \\u0627\\u0644\\u0644\\u0647 \\u0643\\u0648\\u0631\\u0648\\u0646\\u0627 \\u0648\\u0643\\u0644 \\u0627\\u0644\\u062a\\u0637\\u0639\\u064a\\u0645\\u0627\\u062a \\u062a\\u0639\\u0637\\u064a\\u0643 \\u062d\\u0645\\u0627\\u064a\\u0647 \\u0628\\u0646\\u0633\\u0628\\u0647 \\u0643\\u0628\\u064a\\u0631\\u0647 \\u0648\\u062a\\u0642\\u0644\\u0644 \\u0646\\u0633\\u0628\\u0647 \\u0627\\u0644\\u0645\\u062e\\u0627\\u0637\\u0631 \\u0648\\u0627\\u0644\\u0627\\u0635\\u0627\\u0628\\u0647 \\u0643\\u0641\\u064a\\u0644 \\u0627\\u0646\\u0646\\u0627 \\u0646\\u062a\\u062c\\u0647 \\u0644\\u0644\\u062a\\u0637\\u0639\\u064a\\u0645 \\u0648\\u062a\\u0641\\u0639\\u0644 \\u0628\\u0627\\u0644\\u0627\\u0633\\u0628\\u0627\\u0628 \\u0627\\u0646\\u0627 \\u0637\\u0639\\u0645\\u062a \\u0628\\u0627\\u0644\\u0627\\u0646\\u0644\\u0641\\u0648\\u0646\\u0632\\u0627 \\u0648\\u0627\\u0635\\u0627\\u0628\\u0646\\u064a \\u062e\\u0641\\u064a\\u0641\\u0647 \\u0627\\u0644\\u0639\\u0628\\u0631\\u0647 \\u0627\\u062d\\u0627\\u0631\\u0628 \\u0627\\u0644\\u062a\\u0637\\u0639\\u064a\\u0645 \\u0648\\u0627\\u0642\\u0648\\u0644 \\u0643\\u0630\\u0628\"\n        ],\n        \"semantic_type\": \"\",\n        \"description\": \"\"\n      }\n    },\n    {\n      \"column\": \"stance\",\n      \"properties\": {\n        \"dtype\": \"category\",\n        \"num_unique_values\": 3,\n        \"samples\": [\n          \"Favor\",\n          \"Against\",\n          \"None\"\n        ],\n        \"semantic_type\": \"\",\n        \"description\": \"\"\n      }\n    }\n  ]\n}"
            }
          },
          "metadata": {},
          "execution_count": 147
        }
      ]
    },
    {
      "cell_type": "code",
      "source": [
        "nlp(\"نبي تمكين المراه بالبلديه URL\") ## Favor"
      ],
      "metadata": {
        "colab": {
          "base_uri": "https://localhost:8080/"
        },
        "id": "eRJym6s4Yyzg",
        "outputId": "c55c42c8-8226-4097-e195-bc5b7bde9261"
      },
      "execution_count": null,
      "outputs": [
        {
          "output_type": "execute_result",
          "data": {
            "text/plain": [
              "[{'label': 'Against', 'score': 0.5249345302581787}]"
            ]
          },
          "metadata": {},
          "execution_count": 247
        }
      ]
    },
    {
      "cell_type": "code",
      "source": [
        "nlp(\"نعودبحذر تطعيمكورونا ياجماعه الخير روحوا تطعموا طلبناكم تطعموا\") #Favor"
      ],
      "metadata": {
        "colab": {
          "base_uri": "https://localhost:8080/"
        },
        "id": "8XZgTot3ZCCm",
        "outputId": "cbbbda6d-1260-468f-bdc9-b741703ee8e4"
      },
      "execution_count": null,
      "outputs": [
        {
          "output_type": "execute_result",
          "data": {
            "text/plain": [
              "[{'label': 'None', 'score': 0.6431834101676941}]"
            ]
          },
          "metadata": {},
          "execution_count": 248
        }
      ]
    },
    {
      "cell_type": "code",
      "source": [
        "nlp(\"عرف وين يمسكهم يشوف الجدل وين ويشتغل شاف جدلهم علي تمكين المراه وحجابها وشد حيله باقي شوي ويلبس عبايه راس وقفاز عشان ينال اعجابهم ورضاهم\t\") #against"
      ],
      "metadata": {
        "colab": {
          "base_uri": "https://localhost:8080/"
        },
        "id": "Fak2ojrnZLSg",
        "outputId": "67710991-6cee-4929-db0b-8c52161e2566"
      },
      "execution_count": null,
      "outputs": [
        {
          "output_type": "execute_result",
          "data": {
            "text/plain": [
              "[{'label': 'Favor', 'score': 0.8116874694824219}]"
            ]
          },
          "metadata": {},
          "execution_count": 249
        }
      ]
    },
    {
      "cell_type": "code",
      "source": [
        "nlp('نتاج الانظمه الداعمه لحقوق المراه تمكين المراه هههههههه عقبال المسترجلات 🎸🎸💞') #Against"
      ],
      "metadata": {
        "colab": {
          "base_uri": "https://localhost:8080/"
        },
        "id": "WjJ5ToxPZNSR",
        "outputId": "7f962a3e-e54f-496e-ed35-db3e6da10a12"
      },
      "execution_count": null,
      "outputs": [
        {
          "output_type": "execute_result",
          "data": {
            "text/plain": [
              "[{'label': 'Favor', 'score': 0.7112591862678528}]"
            ]
          },
          "metadata": {},
          "execution_count": 250
        }
      ]
    },
    {
      "cell_type": "code",
      "source": [
        "nlp('التحول الرقمي معظم المجالات مءسسات الدوله القطاع الخاص تصبح الحاجه ملحه لحمايه الانظمه عبث العابثين خلال الهجمات الالكترونيه تفوق اضرارها الهجوم التقليدي مركزالدفاعالالكتروني URL\t')#none"
      ],
      "metadata": {
        "id": "rlkpsIEBZZDK",
        "outputId": "93ff3c2a-99d8-4a48-91bd-53c9ebcaad28",
        "colab": {
          "base_uri": "https://localhost:8080/"
        }
      },
      "execution_count": null,
      "outputs": [
        {
          "output_type": "execute_result",
          "data": {
            "text/plain": [
              "[{'label': 'Favor', 'score': 0.42662230134010315}]"
            ]
          },
          "metadata": {},
          "execution_count": 251
        }
      ]
    },
    {
      "cell_type": "code",
      "source": [
        "nlp('تمكينالمراه وجهه نظر الديناصورات')"
      ],
      "metadata": {
        "id": "DybjSsDNZapW",
        "colab": {
          "base_uri": "https://localhost:8080/"
        },
        "outputId": "b5059d0c-c4a6-4621-f15c-8e7750bb7334"
      },
      "execution_count": null,
      "outputs": [
        {
          "output_type": "execute_result",
          "data": {
            "text/plain": [
              "[{'label': 'Favor', 'score': 0.6991076469421387}]"
            ]
          },
          "metadata": {},
          "execution_count": 211
        }
      ]
    },
    {
      "cell_type": "code",
      "source": [
        "nlp('صحيح كورونا مسرع للتحول الرقمي التحول الرقمي السريع بدون اساس رصين بييسقط محاله مثال التعلم الالكتروني المدارس استطاع انه يشمل الطلبه الكثير الناس عندهم كمبيوترات او انترنت منزلي وايضا اصلا مش')"
      ],
      "metadata": {
        "colab": {
          "base_uri": "https://localhost:8080/"
        },
        "id": "OqMEcxdc61SX",
        "outputId": "0ec6175c-a0c3-432e-b99a-4df84104cc67"
      },
      "execution_count": null,
      "outputs": [
        {
          "output_type": "execute_result",
          "data": {
            "text/plain": [
              "[{'label': 'Favor', 'score': 0.4192100763320923}]"
            ]
          },
          "metadata": {},
          "execution_count": 212
        }
      ]
    },
    {
      "cell_type": "code",
      "source": [
        "nlp('العالم كله رايح او بمعني اصح وهيبقي كله رقمي وسايبين حاجات كتيير اهم اصلا مكونات الحياه هيكتشفوها يثبت فشل التحول الرقمي')"
      ],
      "metadata": {
        "colab": {
          "base_uri": "https://localhost:8080/"
        },
        "id": "IFT9Trgg7BZA",
        "outputId": "4e57bedb-bf3e-475f-a877-d4fd7eb0c7a3"
      },
      "execution_count": null,
      "outputs": [
        {
          "output_type": "execute_result",
          "data": {
            "text/plain": [
              "[{'label': 'Favor', 'score': 0.669101893901825}]"
            ]
          },
          "metadata": {},
          "execution_count": 213
        }
      ]
    },
    {
      "cell_type": "code",
      "source": [
        "result1 = nlp('عرف وين يمسكهم يشوف الجدل وين ويشتغل شاف جدلهم علي تمكين المراه وحجابها وشد حيله باقي شوي ويلبس عبايه راس وقفاز عشان ينال اعجابهم ورضاهم')#against"
      ],
      "metadata": {
        "id": "F-woUqY_7SbN"
      },
      "execution_count": null,
      "outputs": []
    },
    {
      "cell_type": "code",
      "source": [
        "len(X_test), result1[0]"
      ],
      "metadata": {
        "colab": {
          "base_uri": "https://localhost:8080/"
        },
        "id": "vd0Y168yE8Rr",
        "outputId": "f2b7d51c-5423-46ce-f431-419572cf32de"
      },
      "execution_count": null,
      "outputs": [
        {
          "output_type": "execute_result",
          "data": {
            "text/plain": [
              "(350, {'label': 'Favor', 'score': 0.8116874694824219})"
            ]
          },
          "metadata": {},
          "execution_count": 291
        }
      ]
    },
    {
      "cell_type": "code",
      "source": [
        "predicted_labels = []\n",
        "\n",
        "# Apply the model to each text\n",
        "for text in X_test:\n",
        "    # Apply the model to the text\n",
        "    result = nlp(text)\n",
        "\n",
        "    # Extract the predicted label\n",
        "    predicted_label = result[0]['label']\n",
        "\n",
        "    # Append the predicted label to the list\n",
        "    predicted_labels.append(predicted_label)"
      ],
      "metadata": {
        "id": "WB-zZD9b_IDf"
      },
      "execution_count": null,
      "outputs": []
    },
    {
      "cell_type": "code",
      "source": [
        "from sklearn.metrics import accuracy_score, precision_score, recall_score, f1_score, confusion_matrix"
      ],
      "metadata": {
        "id": "mWLhOmErF0hI"
      },
      "execution_count": null,
      "outputs": []
    },
    {
      "cell_type": "code",
      "source": [
        "#mapping = {0: 'Against', 1: 'None', 2: 'Favor'}\n",
        "#mapping = {'None': 0, 'Favor': 1, 'Against': 2}\n",
        "\n",
        "#mappingL2Id = {'None': 0, 'Favor': 1, 'Against': 2}\n",
        "\n",
        "mappingIdL = {0: 'None', 1: 'Favor', 2: 'Against'}"
      ],
      "metadata": {
        "id": "5w0JBj3xHlEQ"
      },
      "execution_count": null,
      "outputs": []
    },
    {
      "cell_type": "code",
      "source": [
        "gold_labels = [mappingIdL[val] for val in y_test]"
      ],
      "metadata": {
        "id": "GJczyfh_Ht78"
      },
      "execution_count": null,
      "outputs": []
    },
    {
      "cell_type": "code",
      "source": [
        "gold_labels[0]"
      ],
      "metadata": {
        "colab": {
          "base_uri": "https://localhost:8080/",
          "height": 35
        },
        "id": "nW9eigSbF4lF",
        "outputId": "aedd2d4f-b275-47ff-b5c1-53c36ca8d8b6"
      },
      "execution_count": null,
      "outputs": [
        {
          "output_type": "execute_result",
          "data": {
            "text/plain": [
              "'Favor'"
            ],
            "application/vnd.google.colaboratory.intrinsic+json": {
              "type": "string"
            }
          },
          "metadata": {},
          "execution_count": 296
        }
      ]
    },
    {
      "cell_type": "code",
      "source": [
        "# Calculate accuracy\n",
        "accuracy = accuracy_score(gold_labels, predicted_labels)\n",
        "\n",
        "# Calculate precision\n",
        "precision = precision_score(gold_labels, predicted_labels, average='weighted')\n",
        "\n",
        "# Calculate recall\n",
        "recall = recall_score(gold_labels, predicted_labels, average='weighted')\n",
        "\n",
        "# Calculate F1-score\n",
        "f1 = f1_score(gold_labels, predicted_labels, average='weighted')\n",
        "\n",
        "# Calculate confusion matrix\n",
        "conf_matrix = confusion_matrix(gold_labels, predicted_labels)\n",
        "\n",
        "print(\"Accuracy:\", accuracy)\n",
        "print(\"Precision:\", precision)\n",
        "print(\"Recall:\", recall)\n",
        "print(\"F1-score:\", f1)\n",
        "print(\"Confusion Matrix:\")\n",
        "print(conf_matrix)"
      ],
      "metadata": {
        "colab": {
          "base_uri": "https://localhost:8080/"
        },
        "id": "c2D4HlODFyqS",
        "outputId": "90893c97-f694-4a95-9f4f-564d093aa11c"
      },
      "execution_count": null,
      "outputs": [
        {
          "output_type": "stream",
          "name": "stdout",
          "text": [
            "Accuracy: 0.2714285714285714\n",
            "Precision: 0.3282840722495895\n",
            "Recall: 0.2714285714285714\n",
            "F1-score: 0.27064295691891527\n",
            "Confusion Matrix:\n",
            "[[  7  88  13]\n",
            " [ 16  71 118]\n",
            " [  5  15  17]]\n"
          ]
        }
      ]
    }
  ],
  "metadata": {
    "colab": {
      "provenance": [],
      "machine_shape": "hm",
      "cell_execution_strategy": "setup",
      "gpuType": "L4",
      "include_colab_link": true
    },
    "kernelspec": {
      "display_name": "Python 3",
      "name": "python3"
    },
    "language_info": {
      "codemirror_mode": {
        "name": "ipython",
        "version": 3
      },
      "file_extension": ".py",
      "mimetype": "text/x-python",
      "name": "python",
      "nbconvert_exporter": "python",
      "pygments_lexer": "ipython3",
      "version": "3.10.9"
    },
    "widgets": {
      "application/vnd.jupyter.widget-state+json": {
        "78f68185ed334f1bb2748b588e0e859f": {
          "model_module": "@jupyter-widgets/controls",
          "model_name": "HBoxModel",
          "model_module_version": "1.5.0",
          "state": {
            "_dom_classes": [],
            "_model_module": "@jupyter-widgets/controls",
            "_model_module_version": "1.5.0",
            "_model_name": "HBoxModel",
            "_view_count": null,
            "_view_module": "@jupyter-widgets/controls",
            "_view_module_version": "1.5.0",
            "_view_name": "HBoxView",
            "box_style": "",
            "children": [
              "IPY_MODEL_a0c77cafaf264f2ead46c6003012928d",
              "IPY_MODEL_98c30c1053054f2ca6eefa71e321b24e",
              "IPY_MODEL_55a01d3066c94cc89c6fc600f4189d05"
            ],
            "layout": "IPY_MODEL_18a6837fd35a459bb66af58348ff970d"
          }
        },
        "a0c77cafaf264f2ead46c6003012928d": {
          "model_module": "@jupyter-widgets/controls",
          "model_name": "HTMLModel",
          "model_module_version": "1.5.0",
          "state": {
            "_dom_classes": [],
            "_model_module": "@jupyter-widgets/controls",
            "_model_module_version": "1.5.0",
            "_model_name": "HTMLModel",
            "_view_count": null,
            "_view_module": "@jupyter-widgets/controls",
            "_view_module_version": "1.5.0",
            "_view_name": "HTMLView",
            "description": "",
            "description_tooltip": null,
            "layout": "IPY_MODEL_16c266141823442a8f9b5e4770ca75cf",
            "placeholder": "​",
            "style": "IPY_MODEL_c4f71ac82d294d1b8a03d138f449bc19",
            "value": "tokenizer_config.json: 100%"
          }
        },
        "98c30c1053054f2ca6eefa71e321b24e": {
          "model_module": "@jupyter-widgets/controls",
          "model_name": "FloatProgressModel",
          "model_module_version": "1.5.0",
          "state": {
            "_dom_classes": [],
            "_model_module": "@jupyter-widgets/controls",
            "_model_module_version": "1.5.0",
            "_model_name": "FloatProgressModel",
            "_view_count": null,
            "_view_module": "@jupyter-widgets/controls",
            "_view_module_version": "1.5.0",
            "_view_name": "ProgressView",
            "bar_style": "success",
            "description": "",
            "description_tooltip": null,
            "layout": "IPY_MODEL_a99d7fa0b08646ea9dc85b6843f71b28",
            "max": 381,
            "min": 0,
            "orientation": "horizontal",
            "style": "IPY_MODEL_63d54441777842ff842d1aba1372fc8e",
            "value": 381
          }
        },
        "55a01d3066c94cc89c6fc600f4189d05": {
          "model_module": "@jupyter-widgets/controls",
          "model_name": "HTMLModel",
          "model_module_version": "1.5.0",
          "state": {
            "_dom_classes": [],
            "_model_module": "@jupyter-widgets/controls",
            "_model_module_version": "1.5.0",
            "_model_name": "HTMLModel",
            "_view_count": null,
            "_view_module": "@jupyter-widgets/controls",
            "_view_module_version": "1.5.0",
            "_view_name": "HTMLView",
            "description": "",
            "description_tooltip": null,
            "layout": "IPY_MODEL_5b1117ce58d3425f84b4c9c83e9e0b7f",
            "placeholder": "​",
            "style": "IPY_MODEL_aa5cb75090b34f718b7b76f81c1298bd",
            "value": " 381/381 [00:00&lt;00:00, 20.9kB/s]"
          }
        },
        "18a6837fd35a459bb66af58348ff970d": {
          "model_module": "@jupyter-widgets/base",
          "model_name": "LayoutModel",
          "model_module_version": "1.2.0",
          "state": {
            "_model_module": "@jupyter-widgets/base",
            "_model_module_version": "1.2.0",
            "_model_name": "LayoutModel",
            "_view_count": null,
            "_view_module": "@jupyter-widgets/base",
            "_view_module_version": "1.2.0",
            "_view_name": "LayoutView",
            "align_content": null,
            "align_items": null,
            "align_self": null,
            "border": null,
            "bottom": null,
            "display": null,
            "flex": null,
            "flex_flow": null,
            "grid_area": null,
            "grid_auto_columns": null,
            "grid_auto_flow": null,
            "grid_auto_rows": null,
            "grid_column": null,
            "grid_gap": null,
            "grid_row": null,
            "grid_template_areas": null,
            "grid_template_columns": null,
            "grid_template_rows": null,
            "height": null,
            "justify_content": null,
            "justify_items": null,
            "left": null,
            "margin": null,
            "max_height": null,
            "max_width": null,
            "min_height": null,
            "min_width": null,
            "object_fit": null,
            "object_position": null,
            "order": null,
            "overflow": null,
            "overflow_x": null,
            "overflow_y": null,
            "padding": null,
            "right": null,
            "top": null,
            "visibility": null,
            "width": null
          }
        },
        "16c266141823442a8f9b5e4770ca75cf": {
          "model_module": "@jupyter-widgets/base",
          "model_name": "LayoutModel",
          "model_module_version": "1.2.0",
          "state": {
            "_model_module": "@jupyter-widgets/base",
            "_model_module_version": "1.2.0",
            "_model_name": "LayoutModel",
            "_view_count": null,
            "_view_module": "@jupyter-widgets/base",
            "_view_module_version": "1.2.0",
            "_view_name": "LayoutView",
            "align_content": null,
            "align_items": null,
            "align_self": null,
            "border": null,
            "bottom": null,
            "display": null,
            "flex": null,
            "flex_flow": null,
            "grid_area": null,
            "grid_auto_columns": null,
            "grid_auto_flow": null,
            "grid_auto_rows": null,
            "grid_column": null,
            "grid_gap": null,
            "grid_row": null,
            "grid_template_areas": null,
            "grid_template_columns": null,
            "grid_template_rows": null,
            "height": null,
            "justify_content": null,
            "justify_items": null,
            "left": null,
            "margin": null,
            "max_height": null,
            "max_width": null,
            "min_height": null,
            "min_width": null,
            "object_fit": null,
            "object_position": null,
            "order": null,
            "overflow": null,
            "overflow_x": null,
            "overflow_y": null,
            "padding": null,
            "right": null,
            "top": null,
            "visibility": null,
            "width": null
          }
        },
        "c4f71ac82d294d1b8a03d138f449bc19": {
          "model_module": "@jupyter-widgets/controls",
          "model_name": "DescriptionStyleModel",
          "model_module_version": "1.5.0",
          "state": {
            "_model_module": "@jupyter-widgets/controls",
            "_model_module_version": "1.5.0",
            "_model_name": "DescriptionStyleModel",
            "_view_count": null,
            "_view_module": "@jupyter-widgets/base",
            "_view_module_version": "1.2.0",
            "_view_name": "StyleView",
            "description_width": ""
          }
        },
        "a99d7fa0b08646ea9dc85b6843f71b28": {
          "model_module": "@jupyter-widgets/base",
          "model_name": "LayoutModel",
          "model_module_version": "1.2.0",
          "state": {
            "_model_module": "@jupyter-widgets/base",
            "_model_module_version": "1.2.0",
            "_model_name": "LayoutModel",
            "_view_count": null,
            "_view_module": "@jupyter-widgets/base",
            "_view_module_version": "1.2.0",
            "_view_name": "LayoutView",
            "align_content": null,
            "align_items": null,
            "align_self": null,
            "border": null,
            "bottom": null,
            "display": null,
            "flex": null,
            "flex_flow": null,
            "grid_area": null,
            "grid_auto_columns": null,
            "grid_auto_flow": null,
            "grid_auto_rows": null,
            "grid_column": null,
            "grid_gap": null,
            "grid_row": null,
            "grid_template_areas": null,
            "grid_template_columns": null,
            "grid_template_rows": null,
            "height": null,
            "justify_content": null,
            "justify_items": null,
            "left": null,
            "margin": null,
            "max_height": null,
            "max_width": null,
            "min_height": null,
            "min_width": null,
            "object_fit": null,
            "object_position": null,
            "order": null,
            "overflow": null,
            "overflow_x": null,
            "overflow_y": null,
            "padding": null,
            "right": null,
            "top": null,
            "visibility": null,
            "width": null
          }
        },
        "63d54441777842ff842d1aba1372fc8e": {
          "model_module": "@jupyter-widgets/controls",
          "model_name": "ProgressStyleModel",
          "model_module_version": "1.5.0",
          "state": {
            "_model_module": "@jupyter-widgets/controls",
            "_model_module_version": "1.5.0",
            "_model_name": "ProgressStyleModel",
            "_view_count": null,
            "_view_module": "@jupyter-widgets/base",
            "_view_module_version": "1.2.0",
            "_view_name": "StyleView",
            "bar_color": null,
            "description_width": ""
          }
        },
        "5b1117ce58d3425f84b4c9c83e9e0b7f": {
          "model_module": "@jupyter-widgets/base",
          "model_name": "LayoutModel",
          "model_module_version": "1.2.0",
          "state": {
            "_model_module": "@jupyter-widgets/base",
            "_model_module_version": "1.2.0",
            "_model_name": "LayoutModel",
            "_view_count": null,
            "_view_module": "@jupyter-widgets/base",
            "_view_module_version": "1.2.0",
            "_view_name": "LayoutView",
            "align_content": null,
            "align_items": null,
            "align_self": null,
            "border": null,
            "bottom": null,
            "display": null,
            "flex": null,
            "flex_flow": null,
            "grid_area": null,
            "grid_auto_columns": null,
            "grid_auto_flow": null,
            "grid_auto_rows": null,
            "grid_column": null,
            "grid_gap": null,
            "grid_row": null,
            "grid_template_areas": null,
            "grid_template_columns": null,
            "grid_template_rows": null,
            "height": null,
            "justify_content": null,
            "justify_items": null,
            "left": null,
            "margin": null,
            "max_height": null,
            "max_width": null,
            "min_height": null,
            "min_width": null,
            "object_fit": null,
            "object_position": null,
            "order": null,
            "overflow": null,
            "overflow_x": null,
            "overflow_y": null,
            "padding": null,
            "right": null,
            "top": null,
            "visibility": null,
            "width": null
          }
        },
        "aa5cb75090b34f718b7b76f81c1298bd": {
          "model_module": "@jupyter-widgets/controls",
          "model_name": "DescriptionStyleModel",
          "model_module_version": "1.5.0",
          "state": {
            "_model_module": "@jupyter-widgets/controls",
            "_model_module_version": "1.5.0",
            "_model_name": "DescriptionStyleModel",
            "_view_count": null,
            "_view_module": "@jupyter-widgets/base",
            "_view_module_version": "1.2.0",
            "_view_name": "StyleView",
            "description_width": ""
          }
        },
        "06acb2762b6443a1b96a161101089080": {
          "model_module": "@jupyter-widgets/controls",
          "model_name": "HBoxModel",
          "model_module_version": "1.5.0",
          "state": {
            "_dom_classes": [],
            "_model_module": "@jupyter-widgets/controls",
            "_model_module_version": "1.5.0",
            "_model_name": "HBoxModel",
            "_view_count": null,
            "_view_module": "@jupyter-widgets/controls",
            "_view_module_version": "1.5.0",
            "_view_name": "HBoxView",
            "box_style": "",
            "children": [
              "IPY_MODEL_b324b6cfc8324c089d638cabf1736cac",
              "IPY_MODEL_de6be285537a4bbeabd61500d6bf7d88",
              "IPY_MODEL_c33596a344d7400d8cc40ce2b951c390"
            ],
            "layout": "IPY_MODEL_388c037dff844d67adc2da0c813a4f60"
          }
        },
        "b324b6cfc8324c089d638cabf1736cac": {
          "model_module": "@jupyter-widgets/controls",
          "model_name": "HTMLModel",
          "model_module_version": "1.5.0",
          "state": {
            "_dom_classes": [],
            "_model_module": "@jupyter-widgets/controls",
            "_model_module_version": "1.5.0",
            "_model_name": "HTMLModel",
            "_view_count": null,
            "_view_module": "@jupyter-widgets/controls",
            "_view_module_version": "1.5.0",
            "_view_name": "HTMLView",
            "description": "",
            "description_tooltip": null,
            "layout": "IPY_MODEL_b03f454c7f5a4aa9a93e1050452e2b6b",
            "placeholder": "​",
            "style": "IPY_MODEL_06cc9fa8eb4949fcbaa7df7820dd3cba",
            "value": "vocab.txt: 100%"
          }
        },
        "de6be285537a4bbeabd61500d6bf7d88": {
          "model_module": "@jupyter-widgets/controls",
          "model_name": "FloatProgressModel",
          "model_module_version": "1.5.0",
          "state": {
            "_dom_classes": [],
            "_model_module": "@jupyter-widgets/controls",
            "_model_module_version": "1.5.0",
            "_model_name": "FloatProgressModel",
            "_view_count": null,
            "_view_module": "@jupyter-widgets/controls",
            "_view_module_version": "1.5.0",
            "_view_name": "ProgressView",
            "bar_style": "success",
            "description": "",
            "description_tooltip": null,
            "layout": "IPY_MODEL_e75cb8f513a34f89a33c63c1ad937002",
            "max": 824793,
            "min": 0,
            "orientation": "horizontal",
            "style": "IPY_MODEL_41ebb746ac1b4dfd9fd759e56c1351f9",
            "value": 824793
          }
        },
        "c33596a344d7400d8cc40ce2b951c390": {
          "model_module": "@jupyter-widgets/controls",
          "model_name": "HTMLModel",
          "model_module_version": "1.5.0",
          "state": {
            "_dom_classes": [],
            "_model_module": "@jupyter-widgets/controls",
            "_model_module_version": "1.5.0",
            "_model_name": "HTMLModel",
            "_view_count": null,
            "_view_module": "@jupyter-widgets/controls",
            "_view_module_version": "1.5.0",
            "_view_name": "HTMLView",
            "description": "",
            "description_tooltip": null,
            "layout": "IPY_MODEL_a85bfca6502f4db5875eb9af8cfc321a",
            "placeholder": "​",
            "style": "IPY_MODEL_290cb785460e468886ba5d7c7659ddaf",
            "value": " 825k/825k [00:00&lt;00:00, 21.4MB/s]"
          }
        },
        "388c037dff844d67adc2da0c813a4f60": {
          "model_module": "@jupyter-widgets/base",
          "model_name": "LayoutModel",
          "model_module_version": "1.2.0",
          "state": {
            "_model_module": "@jupyter-widgets/base",
            "_model_module_version": "1.2.0",
            "_model_name": "LayoutModel",
            "_view_count": null,
            "_view_module": "@jupyter-widgets/base",
            "_view_module_version": "1.2.0",
            "_view_name": "LayoutView",
            "align_content": null,
            "align_items": null,
            "align_self": null,
            "border": null,
            "bottom": null,
            "display": null,
            "flex": null,
            "flex_flow": null,
            "grid_area": null,
            "grid_auto_columns": null,
            "grid_auto_flow": null,
            "grid_auto_rows": null,
            "grid_column": null,
            "grid_gap": null,
            "grid_row": null,
            "grid_template_areas": null,
            "grid_template_columns": null,
            "grid_template_rows": null,
            "height": null,
            "justify_content": null,
            "justify_items": null,
            "left": null,
            "margin": null,
            "max_height": null,
            "max_width": null,
            "min_height": null,
            "min_width": null,
            "object_fit": null,
            "object_position": null,
            "order": null,
            "overflow": null,
            "overflow_x": null,
            "overflow_y": null,
            "padding": null,
            "right": null,
            "top": null,
            "visibility": null,
            "width": null
          }
        },
        "b03f454c7f5a4aa9a93e1050452e2b6b": {
          "model_module": "@jupyter-widgets/base",
          "model_name": "LayoutModel",
          "model_module_version": "1.2.0",
          "state": {
            "_model_module": "@jupyter-widgets/base",
            "_model_module_version": "1.2.0",
            "_model_name": "LayoutModel",
            "_view_count": null,
            "_view_module": "@jupyter-widgets/base",
            "_view_module_version": "1.2.0",
            "_view_name": "LayoutView",
            "align_content": null,
            "align_items": null,
            "align_self": null,
            "border": null,
            "bottom": null,
            "display": null,
            "flex": null,
            "flex_flow": null,
            "grid_area": null,
            "grid_auto_columns": null,
            "grid_auto_flow": null,
            "grid_auto_rows": null,
            "grid_column": null,
            "grid_gap": null,
            "grid_row": null,
            "grid_template_areas": null,
            "grid_template_columns": null,
            "grid_template_rows": null,
            "height": null,
            "justify_content": null,
            "justify_items": null,
            "left": null,
            "margin": null,
            "max_height": null,
            "max_width": null,
            "min_height": null,
            "min_width": null,
            "object_fit": null,
            "object_position": null,
            "order": null,
            "overflow": null,
            "overflow_x": null,
            "overflow_y": null,
            "padding": null,
            "right": null,
            "top": null,
            "visibility": null,
            "width": null
          }
        },
        "06cc9fa8eb4949fcbaa7df7820dd3cba": {
          "model_module": "@jupyter-widgets/controls",
          "model_name": "DescriptionStyleModel",
          "model_module_version": "1.5.0",
          "state": {
            "_model_module": "@jupyter-widgets/controls",
            "_model_module_version": "1.5.0",
            "_model_name": "DescriptionStyleModel",
            "_view_count": null,
            "_view_module": "@jupyter-widgets/base",
            "_view_module_version": "1.2.0",
            "_view_name": "StyleView",
            "description_width": ""
          }
        },
        "e75cb8f513a34f89a33c63c1ad937002": {
          "model_module": "@jupyter-widgets/base",
          "model_name": "LayoutModel",
          "model_module_version": "1.2.0",
          "state": {
            "_model_module": "@jupyter-widgets/base",
            "_model_module_version": "1.2.0",
            "_model_name": "LayoutModel",
            "_view_count": null,
            "_view_module": "@jupyter-widgets/base",
            "_view_module_version": "1.2.0",
            "_view_name": "LayoutView",
            "align_content": null,
            "align_items": null,
            "align_self": null,
            "border": null,
            "bottom": null,
            "display": null,
            "flex": null,
            "flex_flow": null,
            "grid_area": null,
            "grid_auto_columns": null,
            "grid_auto_flow": null,
            "grid_auto_rows": null,
            "grid_column": null,
            "grid_gap": null,
            "grid_row": null,
            "grid_template_areas": null,
            "grid_template_columns": null,
            "grid_template_rows": null,
            "height": null,
            "justify_content": null,
            "justify_items": null,
            "left": null,
            "margin": null,
            "max_height": null,
            "max_width": null,
            "min_height": null,
            "min_width": null,
            "object_fit": null,
            "object_position": null,
            "order": null,
            "overflow": null,
            "overflow_x": null,
            "overflow_y": null,
            "padding": null,
            "right": null,
            "top": null,
            "visibility": null,
            "width": null
          }
        },
        "41ebb746ac1b4dfd9fd759e56c1351f9": {
          "model_module": "@jupyter-widgets/controls",
          "model_name": "ProgressStyleModel",
          "model_module_version": "1.5.0",
          "state": {
            "_model_module": "@jupyter-widgets/controls",
            "_model_module_version": "1.5.0",
            "_model_name": "ProgressStyleModel",
            "_view_count": null,
            "_view_module": "@jupyter-widgets/base",
            "_view_module_version": "1.2.0",
            "_view_name": "StyleView",
            "bar_color": null,
            "description_width": ""
          }
        },
        "a85bfca6502f4db5875eb9af8cfc321a": {
          "model_module": "@jupyter-widgets/base",
          "model_name": "LayoutModel",
          "model_module_version": "1.2.0",
          "state": {
            "_model_module": "@jupyter-widgets/base",
            "_model_module_version": "1.2.0",
            "_model_name": "LayoutModel",
            "_view_count": null,
            "_view_module": "@jupyter-widgets/base",
            "_view_module_version": "1.2.0",
            "_view_name": "LayoutView",
            "align_content": null,
            "align_items": null,
            "align_self": null,
            "border": null,
            "bottom": null,
            "display": null,
            "flex": null,
            "flex_flow": null,
            "grid_area": null,
            "grid_auto_columns": null,
            "grid_auto_flow": null,
            "grid_auto_rows": null,
            "grid_column": null,
            "grid_gap": null,
            "grid_row": null,
            "grid_template_areas": null,
            "grid_template_columns": null,
            "grid_template_rows": null,
            "height": null,
            "justify_content": null,
            "justify_items": null,
            "left": null,
            "margin": null,
            "max_height": null,
            "max_width": null,
            "min_height": null,
            "min_width": null,
            "object_fit": null,
            "object_position": null,
            "order": null,
            "overflow": null,
            "overflow_x": null,
            "overflow_y": null,
            "padding": null,
            "right": null,
            "top": null,
            "visibility": null,
            "width": null
          }
        },
        "290cb785460e468886ba5d7c7659ddaf": {
          "model_module": "@jupyter-widgets/controls",
          "model_name": "DescriptionStyleModel",
          "model_module_version": "1.5.0",
          "state": {
            "_model_module": "@jupyter-widgets/controls",
            "_model_module_version": "1.5.0",
            "_model_name": "DescriptionStyleModel",
            "_view_count": null,
            "_view_module": "@jupyter-widgets/base",
            "_view_module_version": "1.2.0",
            "_view_name": "StyleView",
            "description_width": ""
          }
        },
        "fcb4e5fb90964d568a095019b6887b46": {
          "model_module": "@jupyter-widgets/controls",
          "model_name": "HBoxModel",
          "model_module_version": "1.5.0",
          "state": {
            "_dom_classes": [],
            "_model_module": "@jupyter-widgets/controls",
            "_model_module_version": "1.5.0",
            "_model_name": "HBoxModel",
            "_view_count": null,
            "_view_module": "@jupyter-widgets/controls",
            "_view_module_version": "1.5.0",
            "_view_name": "HBoxView",
            "box_style": "",
            "children": [
              "IPY_MODEL_448d1c5e1c7646cba7d40ffe6a9ab9e9",
              "IPY_MODEL_0e2f8128b79345538f3931d6bbef3ea4",
              "IPY_MODEL_ce001235b1004ece9fb7419d58ae0cba"
            ],
            "layout": "IPY_MODEL_81c6f1a9c2e34d7cb75fb05c984b5437"
          }
        },
        "448d1c5e1c7646cba7d40ffe6a9ab9e9": {
          "model_module": "@jupyter-widgets/controls",
          "model_name": "HTMLModel",
          "model_module_version": "1.5.0",
          "state": {
            "_dom_classes": [],
            "_model_module": "@jupyter-widgets/controls",
            "_model_module_version": "1.5.0",
            "_model_name": "HTMLModel",
            "_view_count": null,
            "_view_module": "@jupyter-widgets/controls",
            "_view_module_version": "1.5.0",
            "_view_name": "HTMLView",
            "description": "",
            "description_tooltip": null,
            "layout": "IPY_MODEL_ae802e5223cd49d19cfde3102ff14f9e",
            "placeholder": "​",
            "style": "IPY_MODEL_07112eec488d4dd2b0fea86008801ddd",
            "value": "tokenizer.json: 100%"
          }
        },
        "0e2f8128b79345538f3931d6bbef3ea4": {
          "model_module": "@jupyter-widgets/controls",
          "model_name": "FloatProgressModel",
          "model_module_version": "1.5.0",
          "state": {
            "_dom_classes": [],
            "_model_module": "@jupyter-widgets/controls",
            "_model_module_version": "1.5.0",
            "_model_name": "FloatProgressModel",
            "_view_count": null,
            "_view_module": "@jupyter-widgets/controls",
            "_view_module_version": "1.5.0",
            "_view_name": "ProgressView",
            "bar_style": "success",
            "description": "",
            "description_tooltip": null,
            "layout": "IPY_MODEL_b3a58aa83ea7473f836d32f58c8af570",
            "max": 2642362,
            "min": 0,
            "orientation": "horizontal",
            "style": "IPY_MODEL_bc3e8729f14a48cf9e3ee631ee2c726f",
            "value": 2642362
          }
        },
        "ce001235b1004ece9fb7419d58ae0cba": {
          "model_module": "@jupyter-widgets/controls",
          "model_name": "HTMLModel",
          "model_module_version": "1.5.0",
          "state": {
            "_dom_classes": [],
            "_model_module": "@jupyter-widgets/controls",
            "_model_module_version": "1.5.0",
            "_model_name": "HTMLModel",
            "_view_count": null,
            "_view_module": "@jupyter-widgets/controls",
            "_view_module_version": "1.5.0",
            "_view_name": "HTMLView",
            "description": "",
            "description_tooltip": null,
            "layout": "IPY_MODEL_faa160c0ad154891b1a1870e09e2e96b",
            "placeholder": "​",
            "style": "IPY_MODEL_766bf6f3b58d4ce89fa5a55251abd789",
            "value": " 2.64M/2.64M [00:00&lt;00:00, 8.17MB/s]"
          }
        },
        "81c6f1a9c2e34d7cb75fb05c984b5437": {
          "model_module": "@jupyter-widgets/base",
          "model_name": "LayoutModel",
          "model_module_version": "1.2.0",
          "state": {
            "_model_module": "@jupyter-widgets/base",
            "_model_module_version": "1.2.0",
            "_model_name": "LayoutModel",
            "_view_count": null,
            "_view_module": "@jupyter-widgets/base",
            "_view_module_version": "1.2.0",
            "_view_name": "LayoutView",
            "align_content": null,
            "align_items": null,
            "align_self": null,
            "border": null,
            "bottom": null,
            "display": null,
            "flex": null,
            "flex_flow": null,
            "grid_area": null,
            "grid_auto_columns": null,
            "grid_auto_flow": null,
            "grid_auto_rows": null,
            "grid_column": null,
            "grid_gap": null,
            "grid_row": null,
            "grid_template_areas": null,
            "grid_template_columns": null,
            "grid_template_rows": null,
            "height": null,
            "justify_content": null,
            "justify_items": null,
            "left": null,
            "margin": null,
            "max_height": null,
            "max_width": null,
            "min_height": null,
            "min_width": null,
            "object_fit": null,
            "object_position": null,
            "order": null,
            "overflow": null,
            "overflow_x": null,
            "overflow_y": null,
            "padding": null,
            "right": null,
            "top": null,
            "visibility": null,
            "width": null
          }
        },
        "ae802e5223cd49d19cfde3102ff14f9e": {
          "model_module": "@jupyter-widgets/base",
          "model_name": "LayoutModel",
          "model_module_version": "1.2.0",
          "state": {
            "_model_module": "@jupyter-widgets/base",
            "_model_module_version": "1.2.0",
            "_model_name": "LayoutModel",
            "_view_count": null,
            "_view_module": "@jupyter-widgets/base",
            "_view_module_version": "1.2.0",
            "_view_name": "LayoutView",
            "align_content": null,
            "align_items": null,
            "align_self": null,
            "border": null,
            "bottom": null,
            "display": null,
            "flex": null,
            "flex_flow": null,
            "grid_area": null,
            "grid_auto_columns": null,
            "grid_auto_flow": null,
            "grid_auto_rows": null,
            "grid_column": null,
            "grid_gap": null,
            "grid_row": null,
            "grid_template_areas": null,
            "grid_template_columns": null,
            "grid_template_rows": null,
            "height": null,
            "justify_content": null,
            "justify_items": null,
            "left": null,
            "margin": null,
            "max_height": null,
            "max_width": null,
            "min_height": null,
            "min_width": null,
            "object_fit": null,
            "object_position": null,
            "order": null,
            "overflow": null,
            "overflow_x": null,
            "overflow_y": null,
            "padding": null,
            "right": null,
            "top": null,
            "visibility": null,
            "width": null
          }
        },
        "07112eec488d4dd2b0fea86008801ddd": {
          "model_module": "@jupyter-widgets/controls",
          "model_name": "DescriptionStyleModel",
          "model_module_version": "1.5.0",
          "state": {
            "_model_module": "@jupyter-widgets/controls",
            "_model_module_version": "1.5.0",
            "_model_name": "DescriptionStyleModel",
            "_view_count": null,
            "_view_module": "@jupyter-widgets/base",
            "_view_module_version": "1.2.0",
            "_view_name": "StyleView",
            "description_width": ""
          }
        },
        "b3a58aa83ea7473f836d32f58c8af570": {
          "model_module": "@jupyter-widgets/base",
          "model_name": "LayoutModel",
          "model_module_version": "1.2.0",
          "state": {
            "_model_module": "@jupyter-widgets/base",
            "_model_module_version": "1.2.0",
            "_model_name": "LayoutModel",
            "_view_count": null,
            "_view_module": "@jupyter-widgets/base",
            "_view_module_version": "1.2.0",
            "_view_name": "LayoutView",
            "align_content": null,
            "align_items": null,
            "align_self": null,
            "border": null,
            "bottom": null,
            "display": null,
            "flex": null,
            "flex_flow": null,
            "grid_area": null,
            "grid_auto_columns": null,
            "grid_auto_flow": null,
            "grid_auto_rows": null,
            "grid_column": null,
            "grid_gap": null,
            "grid_row": null,
            "grid_template_areas": null,
            "grid_template_columns": null,
            "grid_template_rows": null,
            "height": null,
            "justify_content": null,
            "justify_items": null,
            "left": null,
            "margin": null,
            "max_height": null,
            "max_width": null,
            "min_height": null,
            "min_width": null,
            "object_fit": null,
            "object_position": null,
            "order": null,
            "overflow": null,
            "overflow_x": null,
            "overflow_y": null,
            "padding": null,
            "right": null,
            "top": null,
            "visibility": null,
            "width": null
          }
        },
        "bc3e8729f14a48cf9e3ee631ee2c726f": {
          "model_module": "@jupyter-widgets/controls",
          "model_name": "ProgressStyleModel",
          "model_module_version": "1.5.0",
          "state": {
            "_model_module": "@jupyter-widgets/controls",
            "_model_module_version": "1.5.0",
            "_model_name": "ProgressStyleModel",
            "_view_count": null,
            "_view_module": "@jupyter-widgets/base",
            "_view_module_version": "1.2.0",
            "_view_name": "StyleView",
            "bar_color": null,
            "description_width": ""
          }
        },
        "faa160c0ad154891b1a1870e09e2e96b": {
          "model_module": "@jupyter-widgets/base",
          "model_name": "LayoutModel",
          "model_module_version": "1.2.0",
          "state": {
            "_model_module": "@jupyter-widgets/base",
            "_model_module_version": "1.2.0",
            "_model_name": "LayoutModel",
            "_view_count": null,
            "_view_module": "@jupyter-widgets/base",
            "_view_module_version": "1.2.0",
            "_view_name": "LayoutView",
            "align_content": null,
            "align_items": null,
            "align_self": null,
            "border": null,
            "bottom": null,
            "display": null,
            "flex": null,
            "flex_flow": null,
            "grid_area": null,
            "grid_auto_columns": null,
            "grid_auto_flow": null,
            "grid_auto_rows": null,
            "grid_column": null,
            "grid_gap": null,
            "grid_row": null,
            "grid_template_areas": null,
            "grid_template_columns": null,
            "grid_template_rows": null,
            "height": null,
            "justify_content": null,
            "justify_items": null,
            "left": null,
            "margin": null,
            "max_height": null,
            "max_width": null,
            "min_height": null,
            "min_width": null,
            "object_fit": null,
            "object_position": null,
            "order": null,
            "overflow": null,
            "overflow_x": null,
            "overflow_y": null,
            "padding": null,
            "right": null,
            "top": null,
            "visibility": null,
            "width": null
          }
        },
        "766bf6f3b58d4ce89fa5a55251abd789": {
          "model_module": "@jupyter-widgets/controls",
          "model_name": "DescriptionStyleModel",
          "model_module_version": "1.5.0",
          "state": {
            "_model_module": "@jupyter-widgets/controls",
            "_model_module_version": "1.5.0",
            "_model_name": "DescriptionStyleModel",
            "_view_count": null,
            "_view_module": "@jupyter-widgets/base",
            "_view_module_version": "1.2.0",
            "_view_name": "StyleView",
            "description_width": ""
          }
        },
        "ffec1454619b4b57b43b7f03094d5c31": {
          "model_module": "@jupyter-widgets/controls",
          "model_name": "HBoxModel",
          "model_module_version": "1.5.0",
          "state": {
            "_dom_classes": [],
            "_model_module": "@jupyter-widgets/controls",
            "_model_module_version": "1.5.0",
            "_model_name": "HBoxModel",
            "_view_count": null,
            "_view_module": "@jupyter-widgets/controls",
            "_view_module_version": "1.5.0",
            "_view_name": "HBoxView",
            "box_style": "",
            "children": [
              "IPY_MODEL_e38c6176db674517b2aafe062a5af8c4",
              "IPY_MODEL_20e3e6afbf744487862b7e402c600f2e",
              "IPY_MODEL_c31468ff790b43c0af6ca50a2965e757"
            ],
            "layout": "IPY_MODEL_a688097663f74f9498de398dce1c29e1"
          }
        },
        "e38c6176db674517b2aafe062a5af8c4": {
          "model_module": "@jupyter-widgets/controls",
          "model_name": "HTMLModel",
          "model_module_version": "1.5.0",
          "state": {
            "_dom_classes": [],
            "_model_module": "@jupyter-widgets/controls",
            "_model_module_version": "1.5.0",
            "_model_name": "HTMLModel",
            "_view_count": null,
            "_view_module": "@jupyter-widgets/controls",
            "_view_module_version": "1.5.0",
            "_view_name": "HTMLView",
            "description": "",
            "description_tooltip": null,
            "layout": "IPY_MODEL_77a2125ab7044561adb14d9c5d3248b9",
            "placeholder": "​",
            "style": "IPY_MODEL_ad5d67080f044b1d8622f21a9f77067c",
            "value": "special_tokens_map.json: 100%"
          }
        },
        "20e3e6afbf744487862b7e402c600f2e": {
          "model_module": "@jupyter-widgets/controls",
          "model_name": "FloatProgressModel",
          "model_module_version": "1.5.0",
          "state": {
            "_dom_classes": [],
            "_model_module": "@jupyter-widgets/controls",
            "_model_module_version": "1.5.0",
            "_model_name": "FloatProgressModel",
            "_view_count": null,
            "_view_module": "@jupyter-widgets/controls",
            "_view_module_version": "1.5.0",
            "_view_name": "ProgressView",
            "bar_style": "success",
            "description": "",
            "description_tooltip": null,
            "layout": "IPY_MODEL_dcc013d44b9a4e4eb10748e372a01c82",
            "max": 112,
            "min": 0,
            "orientation": "horizontal",
            "style": "IPY_MODEL_249bdf4e36a04f5ea0df393970e33e8f",
            "value": 112
          }
        },
        "c31468ff790b43c0af6ca50a2965e757": {
          "model_module": "@jupyter-widgets/controls",
          "model_name": "HTMLModel",
          "model_module_version": "1.5.0",
          "state": {
            "_dom_classes": [],
            "_model_module": "@jupyter-widgets/controls",
            "_model_module_version": "1.5.0",
            "_model_name": "HTMLModel",
            "_view_count": null,
            "_view_module": "@jupyter-widgets/controls",
            "_view_module_version": "1.5.0",
            "_view_name": "HTMLView",
            "description": "",
            "description_tooltip": null,
            "layout": "IPY_MODEL_6a8c57d552894ada9dd11a1600f262d2",
            "placeholder": "​",
            "style": "IPY_MODEL_ac4102e4ef574f8fbd7ca9f8964940ae",
            "value": " 112/112 [00:00&lt;00:00, 9.10kB/s]"
          }
        },
        "a688097663f74f9498de398dce1c29e1": {
          "model_module": "@jupyter-widgets/base",
          "model_name": "LayoutModel",
          "model_module_version": "1.2.0",
          "state": {
            "_model_module": "@jupyter-widgets/base",
            "_model_module_version": "1.2.0",
            "_model_name": "LayoutModel",
            "_view_count": null,
            "_view_module": "@jupyter-widgets/base",
            "_view_module_version": "1.2.0",
            "_view_name": "LayoutView",
            "align_content": null,
            "align_items": null,
            "align_self": null,
            "border": null,
            "bottom": null,
            "display": null,
            "flex": null,
            "flex_flow": null,
            "grid_area": null,
            "grid_auto_columns": null,
            "grid_auto_flow": null,
            "grid_auto_rows": null,
            "grid_column": null,
            "grid_gap": null,
            "grid_row": null,
            "grid_template_areas": null,
            "grid_template_columns": null,
            "grid_template_rows": null,
            "height": null,
            "justify_content": null,
            "justify_items": null,
            "left": null,
            "margin": null,
            "max_height": null,
            "max_width": null,
            "min_height": null,
            "min_width": null,
            "object_fit": null,
            "object_position": null,
            "order": null,
            "overflow": null,
            "overflow_x": null,
            "overflow_y": null,
            "padding": null,
            "right": null,
            "top": null,
            "visibility": null,
            "width": null
          }
        },
        "77a2125ab7044561adb14d9c5d3248b9": {
          "model_module": "@jupyter-widgets/base",
          "model_name": "LayoutModel",
          "model_module_version": "1.2.0",
          "state": {
            "_model_module": "@jupyter-widgets/base",
            "_model_module_version": "1.2.0",
            "_model_name": "LayoutModel",
            "_view_count": null,
            "_view_module": "@jupyter-widgets/base",
            "_view_module_version": "1.2.0",
            "_view_name": "LayoutView",
            "align_content": null,
            "align_items": null,
            "align_self": null,
            "border": null,
            "bottom": null,
            "display": null,
            "flex": null,
            "flex_flow": null,
            "grid_area": null,
            "grid_auto_columns": null,
            "grid_auto_flow": null,
            "grid_auto_rows": null,
            "grid_column": null,
            "grid_gap": null,
            "grid_row": null,
            "grid_template_areas": null,
            "grid_template_columns": null,
            "grid_template_rows": null,
            "height": null,
            "justify_content": null,
            "justify_items": null,
            "left": null,
            "margin": null,
            "max_height": null,
            "max_width": null,
            "min_height": null,
            "min_width": null,
            "object_fit": null,
            "object_position": null,
            "order": null,
            "overflow": null,
            "overflow_x": null,
            "overflow_y": null,
            "padding": null,
            "right": null,
            "top": null,
            "visibility": null,
            "width": null
          }
        },
        "ad5d67080f044b1d8622f21a9f77067c": {
          "model_module": "@jupyter-widgets/controls",
          "model_name": "DescriptionStyleModel",
          "model_module_version": "1.5.0",
          "state": {
            "_model_module": "@jupyter-widgets/controls",
            "_model_module_version": "1.5.0",
            "_model_name": "DescriptionStyleModel",
            "_view_count": null,
            "_view_module": "@jupyter-widgets/base",
            "_view_module_version": "1.2.0",
            "_view_name": "StyleView",
            "description_width": ""
          }
        },
        "dcc013d44b9a4e4eb10748e372a01c82": {
          "model_module": "@jupyter-widgets/base",
          "model_name": "LayoutModel",
          "model_module_version": "1.2.0",
          "state": {
            "_model_module": "@jupyter-widgets/base",
            "_model_module_version": "1.2.0",
            "_model_name": "LayoutModel",
            "_view_count": null,
            "_view_module": "@jupyter-widgets/base",
            "_view_module_version": "1.2.0",
            "_view_name": "LayoutView",
            "align_content": null,
            "align_items": null,
            "align_self": null,
            "border": null,
            "bottom": null,
            "display": null,
            "flex": null,
            "flex_flow": null,
            "grid_area": null,
            "grid_auto_columns": null,
            "grid_auto_flow": null,
            "grid_auto_rows": null,
            "grid_column": null,
            "grid_gap": null,
            "grid_row": null,
            "grid_template_areas": null,
            "grid_template_columns": null,
            "grid_template_rows": null,
            "height": null,
            "justify_content": null,
            "justify_items": null,
            "left": null,
            "margin": null,
            "max_height": null,
            "max_width": null,
            "min_height": null,
            "min_width": null,
            "object_fit": null,
            "object_position": null,
            "order": null,
            "overflow": null,
            "overflow_x": null,
            "overflow_y": null,
            "padding": null,
            "right": null,
            "top": null,
            "visibility": null,
            "width": null
          }
        },
        "249bdf4e36a04f5ea0df393970e33e8f": {
          "model_module": "@jupyter-widgets/controls",
          "model_name": "ProgressStyleModel",
          "model_module_version": "1.5.0",
          "state": {
            "_model_module": "@jupyter-widgets/controls",
            "_model_module_version": "1.5.0",
            "_model_name": "ProgressStyleModel",
            "_view_count": null,
            "_view_module": "@jupyter-widgets/base",
            "_view_module_version": "1.2.0",
            "_view_name": "StyleView",
            "bar_color": null,
            "description_width": ""
          }
        },
        "6a8c57d552894ada9dd11a1600f262d2": {
          "model_module": "@jupyter-widgets/base",
          "model_name": "LayoutModel",
          "model_module_version": "1.2.0",
          "state": {
            "_model_module": "@jupyter-widgets/base",
            "_model_module_version": "1.2.0",
            "_model_name": "LayoutModel",
            "_view_count": null,
            "_view_module": "@jupyter-widgets/base",
            "_view_module_version": "1.2.0",
            "_view_name": "LayoutView",
            "align_content": null,
            "align_items": null,
            "align_self": null,
            "border": null,
            "bottom": null,
            "display": null,
            "flex": null,
            "flex_flow": null,
            "grid_area": null,
            "grid_auto_columns": null,
            "grid_auto_flow": null,
            "grid_auto_rows": null,
            "grid_column": null,
            "grid_gap": null,
            "grid_row": null,
            "grid_template_areas": null,
            "grid_template_columns": null,
            "grid_template_rows": null,
            "height": null,
            "justify_content": null,
            "justify_items": null,
            "left": null,
            "margin": null,
            "max_height": null,
            "max_width": null,
            "min_height": null,
            "min_width": null,
            "object_fit": null,
            "object_position": null,
            "order": null,
            "overflow": null,
            "overflow_x": null,
            "overflow_y": null,
            "padding": null,
            "right": null,
            "top": null,
            "visibility": null,
            "width": null
          }
        },
        "ac4102e4ef574f8fbd7ca9f8964940ae": {
          "model_module": "@jupyter-widgets/controls",
          "model_name": "DescriptionStyleModel",
          "model_module_version": "1.5.0",
          "state": {
            "_model_module": "@jupyter-widgets/controls",
            "_model_module_version": "1.5.0",
            "_model_name": "DescriptionStyleModel",
            "_view_count": null,
            "_view_module": "@jupyter-widgets/base",
            "_view_module_version": "1.2.0",
            "_view_name": "StyleView",
            "description_width": ""
          }
        }
      }
    },
    "accelerator": "GPU"
  },
  "nbformat": 4,
  "nbformat_minor": 0
}